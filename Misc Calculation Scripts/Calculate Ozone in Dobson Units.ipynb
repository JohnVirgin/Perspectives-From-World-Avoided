{
 "cells": [
  {
   "cell_type": "code",
   "execution_count": 11,
   "metadata": {},
   "outputs": [],
   "source": [
    "# Import Packages\n",
    "import numpy as np\n",
    "import pickle\n",
    "import Area_Avg as AA\n",
    "import Jacks_Functions as JF\n",
    "from netCDF4 import Dataset\n",
    "import scipy.integrate as integrate\n",
    "import warnings\n",
    "warnings.filterwarnings('ignore')\n",
    "np.set_printoptions(suppress=True)"
   ]
  },
  {
   "cell_type": "code",
   "execution_count": 75,
   "metadata": {},
   "outputs": [],
   "source": [
    "File = Dataset('LatLon.nc')\n",
    "Ozone = np.squeeze(File.variables['O3']) #in mol/mol\n",
    "Lat = np.squeeze(File.variables['lat'])\n",
    "Lon = np.squeeze(File.variables['lon'])\n",
    "Lev = np.squeeze(File.variables['lev'])*100\n",
    "Temp = np.squeeze(File.variables['T'])\n",
    "Spressure = np.squeeze(File.variables['PS'])\n",
    "p0 = np.squeeze(File.variables['P0'])\n",
    "#Coefficients for hyb sigma\n",
    "hyam = np.squeeze(File.variables['hyam'])\n",
    "hybm = np.squeeze(File.variables['hybm'])\n",
    "hyai = np.squeeze(File.variables['hyai'])\n",
    "hybi = np.squeeze(File.variables['hybi'])\n",
    "\n",
    "level_length = range(len(Lev))\n",
    "\n",
    "plevs_mid = JF.HybSig2Plev(P0=p0,PS=Spressure,coef_A=hyam,coef_B=hybm)\n",
    "plevs_int = JF.HybSig2Plev(P0=p0,PS=Spressure,coef_A=hyai,coef_B=hybi) #in pascals\n",
    "plevs_thck = JF.HybSig2PlevThck(P0=p0,PS=Spressure,coef_A=hyam,coef_B=hybm)"
   ]
  },
  {
   "cell_type": "code",
   "execution_count": 76,
   "metadata": {},
   "outputs": [],
   "source": [
    "g = 980.616 #gravity in cm/s^2\n",
    "R = 2.8704e6 \n",
    "kboltz = 1.380044e-16 #the boltzmann constant, in units of energy/K (10e-7 Joules/K)\n",
    "pa2dyn = 10 #pascal conversion constant to Dynes/cm\n",
    "col2du = 1/2.687e16 "
   ]
  },
  {
   "cell_type": "code",
   "execution_count": 87,
   "metadata": {},
   "outputs": [],
   "source": [
    "plevs_thck_Global = AA.LatLonavg_Time(plevs_thck,Lat,Lon)\n",
    "plevs_thck_Arctic = AA.LatLonavg_Time(plevs_thck[:,80:,:],Lat[80:],Lon)"
   ]
  },
  {
   "cell_type": "code",
   "execution_count": null,
   "metadata": {},
   "outputs": [],
   "source": []
  },
  {
   "cell_type": "code",
   "execution_count": 80,
   "metadata": {},
   "outputs": [],
   "source": [
    "Ozone_DU = np.zeros([96,144])\n",
    "for i in range(Lat.size):\n",
    "    for j in range(Lon.size):\n",
    "        Ozone_DU[i,j] = (R/(kboltz*g))*col2du*pa2dyn*\\\n",
    "        (np.sum(Ozone[1:,i,j]*plevs_thck[:,i,j]))"
   ]
  },
  {
   "cell_type": "code",
   "execution_count": 81,
   "metadata": {},
   "outputs": [
    {
     "data": {
      "text/plain": [
       "array([173.52029774, 174.24174571, 176.06867793, 179.16547899,\n",
       "       182.53789273, 186.17791299, 190.51449848, 195.65903234,\n",
       "       201.00607414, 206.54773851, 212.07460251, 217.56088033,\n",
       "       223.1020298 , 228.8898312 , 234.29851979, 239.05154003,\n",
       "       242.4403646 , 244.24148952, 244.73444192, 244.23321521,\n",
       "       243.12289948, 241.74879819, 240.60128038, 239.84543929,\n",
       "       239.36282357, 238.91548473, 238.44041416, 237.55446804,\n",
       "       236.19843822, 234.15479374, 231.43019631, 228.4788378 ,\n",
       "       225.77051748, 223.74982429, 222.32516178, 221.21946326,\n",
       "       220.03240424, 218.75944726, 217.74728148, 217.14084192,\n",
       "       216.55839912, 215.99590911, 215.3079631 , 214.43022861,\n",
       "       213.50836645, 212.52347417, 211.89458017, 211.43370174,\n",
       "       210.89162959, 210.24971273, 209.58831971, 209.41488862,\n",
       "       209.33669798, 209.53649173, 210.37407952, 212.07974406,\n",
       "       214.39531584, 217.23794278, 220.29610568, 223.59172922,\n",
       "       226.89227909, 230.55012491, 234.68993982, 240.89300464,\n",
       "       249.78630004, 262.11148506, 277.05561949, 292.96551742,\n",
       "       308.72668629, 324.10448327, 338.95981658, 351.76652429,\n",
       "       363.62855385, 373.71412513, 381.57781905, 387.92695936,\n",
       "       392.82713281, 396.50827276, 398.92634828, 400.15877656,\n",
       "       400.52287114, 400.44474239, 400.24372305, 400.5156449 ,\n",
       "       400.92217053, 400.83252541, 400.07806349, 399.26680957,\n",
       "       398.08779255, 396.32009224, 392.93816486, 388.4751029 ,\n",
       "       383.04114705, 378.13907178, 374.23316549, 372.61464099])"
      ]
     },
     "execution_count": 81,
     "metadata": {},
     "output_type": "execute_result"
    }
   ],
   "source": [
    "np.mean(Ozone_DU,axis=1)"
   ]
  },
  {
   "cell_type": "code",
   "execution_count": null,
   "metadata": {},
   "outputs": [],
   "source": []
  },
  {
   "cell_type": "code",
   "execution_count": null,
   "metadata": {},
   "outputs": [],
   "source": []
  }
 ],
 "metadata": {
  "kernelspec": {
   "display_name": "Python 3",
   "language": "python",
   "name": "python3"
  },
  "language_info": {
   "codemirror_mode": {
    "name": "ipython",
    "version": 3
   },
   "file_extension": ".py",
   "mimetype": "text/x-python",
   "name": "python",
   "nbconvert_exporter": "python",
   "pygments_lexer": "ipython3",
   "version": "3.6.4"
  }
 },
 "nbformat": 4,
 "nbformat_minor": 2
}
