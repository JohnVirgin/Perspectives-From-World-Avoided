{
 "cells": [
  {
   "cell_type": "code",
   "execution_count": 8,
   "metadata": {},
   "outputs": [],
   "source": [
    "# Import Packages\n",
    "import numpy as np\n",
    "import scipy.stats as stats\n",
    "import Area_Avg\n",
    "import warnings\n",
    "import pickle\n",
    "from netCDF4 import Dataset\n",
    "warnings.filterwarnings('ignore')\n",
    "np.set_printoptions(suppress=True)"
   ]
  },
  {
   "cell_type": "code",
   "execution_count": 9,
   "metadata": {},
   "outputs": [],
   "source": [
    "#Load in Dimensions\n",
    "LLL = Dataset('LatLon.nc')\n",
    "WACCM4_Lat = np.squeeze(LLL.variables['lat'])\n",
    "WACCM4_Lon = np.squeeze(LLL.variables['lon'])\n",
    "LLL.close()"
   ]
  },
  {
   "cell_type": "code",
   "execution_count": 10,
   "metadata": {},
   "outputs": [],
   "source": [
    "#climate change responses\n",
    "wAVD_dST = pickle.load(open(\\\n",
    "   \"Future Projection CC Responses/wAVD_dST.pickle\",\"rb\"),encoding='latin1')\n",
    "\n",
    "RCP45_dST = pickle.load(open(\\\n",
    "   \"Future Projection CC Responses/RCP45_dST.pickle\",\"rb\"),encoding='latin1')"
   ]
  },
  {
   "cell_type": "code",
   "execution_count": 11,
   "metadata": {},
   "outputs": [],
   "source": [
    "wAVD_dST_AA = np.zeros([5,12])\n",
    "RCP45_dST_AA = np.zeros([5,12])\n",
    "\n",
    "wAVD_dST_GA = np.zeros([5,12])\n",
    "RCP45_dST_GA = np.zeros([5,12])\n",
    "for i in range(5):\n",
    "    wAVD_dST_AA[i,:] = Area_Avg.LatLonavg_Time(\\\n",
    "    wAVD_dST[i,:,80:,:],WACCM4_Lat[80:],WACCM4_Lon)\n",
    "    \n",
    "    wAVD_dST_GA[i,:] = Area_Avg.LatLonavg_Time(\\\n",
    "    wAVD_dST[i,:,:,:],WACCM4_Lat,WACCM4_Lon)\n",
    "    \n",
    "    RCP45_dST_AA[i,:] = Area_Avg.LatLonavg_Time(\\\n",
    "    RCP45_dST[i,:,80:,:],WACCM4_Lat[80:],WACCM4_Lon)\n",
    "    \n",
    "    RCP45_dST_GA[i,:] = Area_Avg.LatLonavg_Time(\\\n",
    "    RCP45_dST[i,:,:,:],WACCM4_Lat,WACCM4_Lon)"
   ]
  },
  {
   "cell_type": "code",
   "execution_count": 12,
   "metadata": {},
   "outputs": [],
   "source": [
    "#Arctic amplification ratios\n",
    "wAVD_ArcticAmp_Ratio = wAVD_dST_AA/wAVD_dST_GA\n",
    "RCP45_ArcticAmp_Ratio = RCP45_dST_AA/RCP45_dST_GA"
   ]
  },
  {
   "cell_type": "code",
   "execution_count": 15,
   "metadata": {},
   "outputs": [],
   "source": [
    "#Annual mean\n",
    "wAVD_ArcticAmp_Ratio_ANN = np.mean(wAVD_ArcticAmp_Ratio,axis=1)\n",
    "RCP45_ArcticAmp_Ratio_ANN = np.mean(RCP45_ArcticAmp_Ratio,axis=1)"
   ]
  },
  {
   "cell_type": "code",
   "execution_count": 18,
   "metadata": {},
   "outputs": [],
   "source": [
    "#seasonal Breakdown and ensemble mean\n",
    "wAVD_ArcticAmp_Ratio_MAM = np.mean(wAVD_ArcticAmp_Ratio[:,2:5],axis=1)\n",
    "wAVD_ArcticAmp_Ratio_JJA = np.mean(wAVD_ArcticAmp_Ratio[:,5:8],axis=1)\n",
    "wAVD_ArcticAmp_Ratio_SON = np.mean(wAVD_ArcticAmp_Ratio[:,8:11],axis=1)\n",
    "wAVD_ArcticAmp_Ratio_DJF = np.mean((wAVD_ArcticAmp_Ratio[:,0],wAVD_ArcticAmp_Ratio[:,1],\\\n",
    "                            wAVD_ArcticAmp_Ratio[:,11]),axis=0)\n",
    "\n",
    "RCP45_ArcticAmp_Ratio_MAM = np.mean(RCP45_ArcticAmp_Ratio[:,2:5],axis=1)\n",
    "RCP45_ArcticAmp_Ratio_JJA = np.mean(RCP45_ArcticAmp_Ratio[:,5:8],axis=1)\n",
    "RCP45_ArcticAmp_Ratio_SON = np.mean(RCP45_ArcticAmp_Ratio[:,8:11],axis=1)\n",
    "RCP45_ArcticAmp_Ratio_DJF = np.mean((RCP45_ArcticAmp_Ratio[:,0],RCP45_ArcticAmp_Ratio[:,1],\\\n",
    "                            RCP45_ArcticAmp_Ratio[:,11]),axis=0)"
   ]
  },
  {
   "cell_type": "code",
   "execution_count": 19,
   "metadata": {},
   "outputs": [
    {
     "data": {
      "text/plain": [
       "array([2.79065273, 2.05115145, 3.21989832, 3.05510225, 2.6182206 ])"
      ]
     },
     "execution_count": 19,
     "metadata": {},
     "output_type": "execute_result"
    }
   ],
   "source": [
    "RCP45_ArcticAmp_Ratio_DJF"
   ]
  },
  {
   "cell_type": "code",
   "execution_count": 28,
   "metadata": {},
   "outputs": [],
   "source": [
    "def Mean_Confidence_Interval(Data='Data', Confidence = 'Confidence'):\n",
    "    \n",
    "    a = 1.0 * np.array(Data)\n",
    "    n = a.size\n",
    "    Mean, Std_Er = np.mean(a), stats.sem(a)\n",
    "    h = Std_Er*stats.t.ppf((1 + Confidence) / 2., n-1)\n",
    "    return h"
   ]
  },
  {
   "cell_type": "code",
   "execution_count": 29,
   "metadata": {},
   "outputs": [
    {
     "name": "stdout",
     "output_type": "stream",
     "text": [
      "WAVD Annual 0.16640397174477586\n",
      "RCP45 Annual 0.29730825048716797\n"
     ]
    }
   ],
   "source": [
    "#Annual\n",
    "print('WAVD Annual', \\\n",
    "      Mean_Confidence_Interval(Data=wAVD_ArcticAmp_Ratio_ANN, Confidence=0.95))\n",
    "print('RCP45 Annual', \\\n",
    "      Mean_Confidence_Interval(Data=RCP45_ArcticAmp_Ratio_ANN, Confidence=0.95))"
   ]
  },
  {
   "cell_type": "code",
   "execution_count": 30,
   "metadata": {},
   "outputs": [
    {
     "name": "stdout",
     "output_type": "stream",
     "text": [
      "WAVD MAM 0.15585406141250913\n",
      "RCP45 MAM 0.35465781137174673\n"
     ]
    }
   ],
   "source": [
    "#MAM\n",
    "print('WAVD MAM', \\\n",
    "      Mean_Confidence_Interval(Data=wAVD_ArcticAmp_Ratio_MAM, Confidence=0.95))\n",
    "print('RCP45 MAM', \\\n",
    "      Mean_Confidence_Interval(Data=RCP45_ArcticAmp_Ratio_MAM, Confidence=0.95))"
   ]
  },
  {
   "cell_type": "code",
   "execution_count": 31,
   "metadata": {},
   "outputs": [
    {
     "name": "stdout",
     "output_type": "stream",
     "text": [
      "WAVD JJA 0.049018967988920296\n",
      "RCP45 JJA 0.07618988942040056\n"
     ]
    }
   ],
   "source": [
    "#JJA\n",
    "print('WAVD JJA', \\\n",
    "      Mean_Confidence_Interval(Data=wAVD_ArcticAmp_Ratio_JJA, Confidence=0.95))\n",
    "print('RCP45 JJA', \\\n",
    "      Mean_Confidence_Interval(Data=RCP45_ArcticAmp_Ratio_JJA, Confidence=0.95))"
   ]
  },
  {
   "cell_type": "code",
   "execution_count": 32,
   "metadata": {},
   "outputs": [
    {
     "name": "stdout",
     "output_type": "stream",
     "text": [
      "WAVD SON 0.17464452573054634\n",
      "RCP45 SON 0.37186677498972476\n"
     ]
    }
   ],
   "source": [
    "#SON\n",
    "print('WAVD SON', \\\n",
    "      Mean_Confidence_Interval(Data=wAVD_ArcticAmp_Ratio_SON, Confidence=0.95))\n",
    "print('RCP45 SON', \\\n",
    "      Mean_Confidence_Interval(Data=RCP45_ArcticAmp_Ratio_SON, Confidence=0.95))"
   ]
  },
  {
   "cell_type": "code",
   "execution_count": 33,
   "metadata": {},
   "outputs": [
    {
     "name": "stdout",
     "output_type": "stream",
     "text": [
      "WAVD DJF 0.36936851559229367\n",
      "RCP45 DJF 0.5626172340148717\n"
     ]
    }
   ],
   "source": [
    "#DJF\n",
    "print('WAVD DJF', \\\n",
    "      Mean_Confidence_Interval(Data=wAVD_ArcticAmp_Ratio_DJF, Confidence=0.95))\n",
    "print('RCP45 DJF', \\\n",
    "      Mean_Confidence_Interval(Data=RCP45_ArcticAmp_Ratio_DJF, Confidence=0.95))"
   ]
  },
  {
   "cell_type": "code",
   "execution_count": null,
   "metadata": {},
   "outputs": [],
   "source": []
  },
  {
   "cell_type": "code",
   "execution_count": null,
   "metadata": {},
   "outputs": [],
   "source": []
  }
 ],
 "metadata": {
  "kernelspec": {
   "display_name": "Python 3",
   "language": "python",
   "name": "python3"
  },
  "language_info": {
   "codemirror_mode": {
    "name": "ipython",
    "version": 3
   },
   "file_extension": ".py",
   "mimetype": "text/x-python",
   "name": "python",
   "nbconvert_exporter": "python",
   "pygments_lexer": "ipython3",
   "version": "3.6.4"
  }
 },
 "nbformat": 4,
 "nbformat_minor": 2
}
