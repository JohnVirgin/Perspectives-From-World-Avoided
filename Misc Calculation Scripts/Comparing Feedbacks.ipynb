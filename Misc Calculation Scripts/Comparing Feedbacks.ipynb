{
 "cells": [
  {
   "cell_type": "code",
   "execution_count": 1,
   "metadata": {},
   "outputs": [],
   "source": [
    "import numpy as np\n",
    "import pickle\n",
    "from netCDF4 import Dataset"
   ]
  },
  {
   "cell_type": "markdown",
   "metadata": {},
   "source": [
    "## Albedo"
   ]
  },
  {
   "cell_type": "code",
   "execution_count": 2,
   "metadata": {},
   "outputs": [],
   "source": [
    "ECHAM5_RCP45_ALB_EnergyB_AA = pickle.load(open(\\\n",
    "\"ENERGY BUDGET/Albedo/RCP45/ECHAM5_RCP45_ALB_EnergyB_AA.pickle\",\"rb\"))\n",
    "\n",
    "CAM3_RCP45_ALB_EnergyB_AA = pickle.load(open(\\\n",
    "\"ENERGY BUDGET/Albedo/RCP45/CAM3_RCP45_ALB_EnergyB_AA.pickle\",\"rb\"))\n",
    "\n",
    "CAM5_RCP45_ALB_EnergyB_AA = pickle.load(open(\\\n",
    "\"ENERGY BUDGET/Albedo/RCP45/CAM5_RCP45_ALB_EnergyB_AA.pickle\",\"rb\"))\n",
    "\n",
    "ECHAM5_wAVD_ALB_EnergyB_AA = pickle.load(open(\\\n",
    "\"ENERGY BUDGET/Albedo/wAVD/ECHAM5_wAVD_ALB_EnergyB_AA.pickle\",\"rb\"))\n",
    "\n",
    "CAM3_wAVD_ALB_EnergyB_AA = pickle.load(open(\\\n",
    "\"ENERGY BUDGET/Albedo/wAVD/CAM3_wAVD_ALB_EnergyB_AA.pickle\",\"rb\"))\n",
    "\n",
    "CAM5_wAVD_ALB_EnergyB_AA = pickle.load(open(\\\n",
    "\"ENERGY BUDGET/Albedo/wAVD/CAM5_wAVD_ALB_EnergyB_AA.pickle\",\"rb\"))"
   ]
  },
  {
   "cell_type": "code",
   "execution_count": 3,
   "metadata": {},
   "outputs": [
    {
     "name": "stdout",
     "output_type": "stream",
     "text": [
      "ECHAM5 RCP45 Albedo EnergyB:  [0.91195894 0.83997019 1.21063699 0.98621699 0.99903505]\n",
      "CAM3 RCP45 Albedo EnergyB:  [1.37518996 1.23970664 1.82669791 1.30348767 1.73228025]\n",
      "CAM5 RCP45 Albedo EnergyB:  [2.71209302 2.37914396 3.37035539 2.48394374 3.349713  ]\n",
      "\n",
      "\n",
      "ECHAM5 wAVD Albedo EnergyB:  [1.38340863 1.20686472 1.10307003 1.24137376 1.55942841]\n",
      "CAM3 wAVD Albedo EnergyB:  [2.68823276 2.54988574 2.31626655 2.57617255 2.79002722]\n",
      "CAM5 wAVD Albedo EnergyB:  [5.21796178 5.01772415 4.48002402 5.0616992  5.40344413]\n"
     ]
    }
   ],
   "source": [
    "print('ECHAM5 RCP45 Albedo EnergyB: ',ECHAM5_RCP45_ALB_EnergyB_AA)\n",
    "print('CAM3 RCP45 Albedo EnergyB: ',CAM3_RCP45_ALB_EnergyB_AA)\n",
    "print('CAM5 RCP45 Albedo EnergyB: ',CAM5_RCP45_ALB_EnergyB_AA)\n",
    "print('\\n')\n",
    "print('ECHAM5 wAVD Albedo EnergyB: ',ECHAM5_wAVD_ALB_EnergyB_AA)\n",
    "print('CAM3 wAVD Albedo EnergyB: ',CAM3_wAVD_ALB_EnergyB_AA)\n",
    "print('CAM5 wAVD Albedo EnergyB: ',CAM5_wAVD_ALB_EnergyB_AA)"
   ]
  },
  {
   "cell_type": "markdown",
   "metadata": {},
   "source": [
    "## Lapse Rate"
   ]
  },
  {
   "cell_type": "code",
   "execution_count": 4,
   "metadata": {},
   "outputs": [],
   "source": [
    "ECHAM5_RCP45_LR_EnergyB_AA = pickle.load(open(\\\n",
    "\"ENERGY BUDGET/Lapse Rate/RCP45/ECHAM5_RCP45_LR_EnergyB_AA.pickle\",\"rb\"))\n",
    "\n",
    "CAM3_RCP45_LR_EnergyB_AA = pickle.load(open(\\\n",
    "\"ENERGY BUDGET/Lapse Rate/RCP45/CAM3_RCP45_LR_EnergyB_AA.pickle\",\"rb\"))\n",
    "\n",
    "#CAM5_RCP45_LR_EnergyB_AA = pickle.load(open(\\\n",
    "#\"ENERGY BUDGET/Lapse Rate/RCP45/CAM5_RCP45_LR_EnergyB_AA.pickle\",\"rb\"))\n",
    "\n",
    "ECHAM5_wAVD_LR_EnergyB_AA = pickle.load(open(\\\n",
    "\"ENERGY BUDGET/Lapse Rate/wAVD/ECHAM5_wAVD_LR_EnergyB_AA.pickle\",\"rb\"))\n",
    "\n",
    "CAM3_wAVD_LR_EnergyB_AA = pickle.load(open(\\\n",
    "\"ENERGY BUDGET/Lapse Rate/wAVD/CAM3_wAVD_LR_EnergyB_AA.pickle\",\"rb\"))\n",
    "\n",
    "#CAM5_wAVD_LR_EnergyB_AA = pickle.load(open(\\\n",
    "#\"ENERGY BUDGET/Lapse Rate/wAVD/CAM5_wAVD_LR_EnergyB_AA.pickle\",\"rb\"))"
   ]
  },
  {
   "cell_type": "code",
   "execution_count": 5,
   "metadata": {},
   "outputs": [
    {
     "name": "stdout",
     "output_type": "stream",
     "text": [
      "ECHAM5 RCP45 Lapse Rate EnergyB:  [1.25737128 1.03762633 2.24745738 1.62323904 1.61793285]\n",
      "CAM3 RCP45 Lapse Rate EnergyB:  [0.88679747 0.7608945  1.56710315 1.11559309 1.16868612]\n",
      "\n",
      "\n",
      "ECHAM5 wAVD Lapse Rate EnergyB:  [2.90257718 2.6439191  2.69637652 2.87276314 3.4186946 ]\n",
      "CAM3 wAVD Lapse Rate EnergyB:  [2.07971119 1.89473557 1.91254737 2.07129598 2.44430157]\n"
     ]
    }
   ],
   "source": [
    "print('ECHAM5 RCP45 Lapse Rate EnergyB: ',ECHAM5_RCP45_LR_EnergyB_AA)\n",
    "print('CAM3 RCP45 Lapse Rate EnergyB: ',CAM3_RCP45_LR_EnergyB_AA)\n",
    "#print(CAM5_RCP45_LR_EnergyB_AA)\n",
    "print('\\n')\n",
    "print('ECHAM5 wAVD Lapse Rate EnergyB: ',ECHAM5_wAVD_LR_EnergyB_AA)\n",
    "print('CAM3 wAVD Lapse Rate EnergyB: ',CAM3_wAVD_LR_EnergyB_AA)\n",
    "#print(CAM5_wAVD_LR_EnergyB_AA)"
   ]
  },
  {
   "cell_type": "markdown",
   "metadata": {},
   "source": [
    "## Water Vapour"
   ]
  },
  {
   "cell_type": "code",
   "execution_count": 6,
   "metadata": {},
   "outputs": [],
   "source": [
    "ECHAM5_RCP45_WV_EnergyB_AA = pickle.load(open(\\\n",
    "\"ENERGY BUDGET/Water Vapour/RCP45/ECHAM5_RCP45_WV_EnergyB_AA.pickle\",\"rb\"))\n",
    "\n",
    "CAM3_RCP45_WV_EnergyB_AA = pickle.load(open(\\\n",
    "\"ENERGY BUDGET/Water Vapour/RCP45/CAM3_RCP45_WV_EnergyB_AA.pickle\",\"rb\"))\n",
    "\n",
    "#CAM5_RCP45_WV_EnergyB_AA = pickle.load(open(\\\n",
    "#\"ENERGY BUDGET/Water Vapour/RCP45/CAM5_RCP45_WV_EnergyB_AA.pickle\",\"rb\"))\n",
    "\n",
    "ECHAM5_wAVD_WV_EnergyB_AA = pickle.load(open(\\\n",
    "\"ENERGY BUDGET/Water Vapour/wAVD/ECHAM5_wAVD_WV_EnergyB_AA.pickle\",\"rb\"))\n",
    "\n",
    "CAM3_wAVD_WV_EnergyB_AA = pickle.load(open(\\\n",
    "\"ENERGY BUDGET/Water Vapour/wAVD/CAM3_wAVD_WV_EnergyB_AA.pickle\",\"rb\"))\n",
    "\n",
    "#CAM5_wAVD_WV_EnergyB_AA = pickle.load(open(\\\n",
    "#\"ENERGY BUDGET/Water Vapour/wAVD/CAM5_wAVD_WV_EnergyB_AA.pickle\",\"rb\"))"
   ]
  },
  {
   "cell_type": "code",
   "execution_count": 7,
   "metadata": {},
   "outputs": [
    {
     "name": "stdout",
     "output_type": "stream",
     "text": [
      "ECHAM5 RCP45 Water Vapour EnergyB:  [1.34304819 1.12175966 1.47098897 1.37392481 1.37861809]\n",
      "CAM3 RCP45 Water Vapour EnergyB:  [0.94950591 0.79924738 1.0425157  0.97600739 0.98058498]\n",
      "\n",
      "\n",
      "ECHAM5 wAVD Water Vapour EnergyB:  [2.43261807 2.306896   2.32432022 2.30587422 2.3870005 ]\n",
      "CAM3 wAVD Water Vapour EnergyB:  [1.76279174 1.66268136 1.65333445 1.66751546 1.7323511 ]\n"
     ]
    }
   ],
   "source": [
    "print('ECHAM5 RCP45 Water Vapour EnergyB: ',ECHAM5_RCP45_WV_EnergyB_AA)\n",
    "print('CAM3 RCP45 Water Vapour EnergyB: ',CAM3_RCP45_WV_EnergyB_AA)\n",
    "#print(CAM5_RCP45_WV_EnergyB_AA)\n",
    "print('\\n')\n",
    "print('ECHAM5 wAVD Water Vapour EnergyB: ',ECHAM5_wAVD_WV_EnergyB_AA)\n",
    "print('CAM3 wAVD Water Vapour EnergyB: ',CAM3_wAVD_WV_EnergyB_AA)\n",
    "#print(CAM5_wAVD_WV_EnergyB_AA)"
   ]
  },
  {
   "cell_type": "markdown",
   "metadata": {},
   "source": [
    "## Cloud (Longwave)"
   ]
  },
  {
   "cell_type": "code",
   "execution_count": null,
   "metadata": {},
   "outputs": [],
   "source": []
  }
 ],
 "metadata": {
  "kernelspec": {
   "display_name": "Python 3",
   "language": "python",
   "name": "python3"
  },
  "language_info": {
   "codemirror_mode": {
    "name": "ipython",
    "version": 3
   },
   "file_extension": ".py",
   "mimetype": "text/x-python",
   "name": "python",
   "nbconvert_exporter": "python",
   "pygments_lexer": "ipython3",
   "version": "3.6.4"
  }
 },
 "nbformat": 4,
 "nbformat_minor": 2
}
