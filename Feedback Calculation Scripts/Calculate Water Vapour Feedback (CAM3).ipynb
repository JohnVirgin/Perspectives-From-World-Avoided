{
 "cells": [
  {
   "cell_type": "code",
   "execution_count": 1,
   "metadata": {},
   "outputs": [],
   "source": [
    "# Import Packages\n",
    "import numpy as np\n",
    "import scipy.stats as stats\n",
    "import os\n",
    "import scipy.io as scio\n",
    "from ncdump_python3 import ncdump\n",
    "import pickle\n",
    "import Jacks_Functions as JF\n",
    "import Area_Avg\n",
    "import matplotlib\n",
    "from matplotlib import pyplot as plt\n",
    "from scipy.interpolate import griddata\n",
    "from netCDF4 import Dataset\n",
    "import warnings\n",
    "warnings.filterwarnings('ignore')\n",
    "np.set_printoptions(suppress=True)"
   ]
  },
  {
   "cell_type": "code",
   "execution_count": 2,
   "metadata": {},
   "outputs": [],
   "source": [
    "#Load in Dimensions\n",
    "LLL = Dataset('LatLon.nc')\n",
    "WACCM4_Lat = np.squeeze(LLL.variables['lat'])\n",
    "WACCM4_Lon = np.squeeze(LLL.variables['lon'])\n",
    "LLL.close()\n",
    "\n",
    "Source_File = Dataset('Kernels/Interpolated/CAM3_Kernels.nc')\n",
    "\n",
    "CAM3_Lat = np.squeeze(Source_File.variables['lat'])\n",
    "CAM3_Lon = np.squeeze(Source_File.variables['lon'])\n",
    "\n",
    "cx,cy = np.meshgrid(CAM3_Lon,CAM3_Lat)\n",
    "wx,wy = np.meshgrid(WACCM4_Lon,WACCM4_Lat)\n",
    "\n",
    "wAVD_PS = pickle.load(open('wAVD_Base_PS.pickle','rb'))\n",
    "#interpolate the surface pressure to the CAM3 grid\n",
    "wAVD_PS_interp = np.zeros([12,64,128])\n",
    "for i in range(12):\n",
    "    wAVD_PS_interp[i,:,:] = griddata(\\\n",
    "    (wx.flatten(),wy.flatten()),wAVD_PS[i,:,:].flatten(),\\\n",
    "    (cx,cy),method='linear')/100 #swap to hpa in the process\n",
    "    \n",
    "#Lists for iterating\n",
    "Months = np.arange(0,12)\n",
    "FP_Ensemble_Members = np.arange(5)"
   ]
  },
  {
   "cell_type": "code",
   "execution_count": 4,
   "metadata": {},
   "outputs": [
    {
     "data": {
      "text/plain": [
       "(12, 17, 64, 128)"
      ]
     },
     "execution_count": 4,
     "metadata": {},
     "output_type": "execute_result"
    }
   ],
   "source": [
    "#Tile the plevs to match the shape of the kernel\n",
    "CMIP_plevs_scalar = np.squeeze(Source_File.variables['lev'])\n",
    "\n",
    "A = np.tile(CMIP_plevs_scalar.T,(CAM3_Lon.size,1))\n",
    "B = np.transpose(A[:,:,None],(0,1,2))\n",
    "C = np.tile(B,(1,1,CAM3_Lat.size))\n",
    "D = np.transpose(C[:,:,:,None],(0,1,2,3))\n",
    "E = np.tile(D,(1,1,1,12))\n",
    "CMIP_plevs = np.swapaxes(E,3,0)\n",
    "CMIP_plevs.shape"
   ]
  },
  {
   "cell_type": "code",
   "execution_count": null,
   "metadata": {},
   "outputs": [],
   "source": []
  },
  {
   "cell_type": "code",
   "execution_count": 7,
   "metadata": {},
   "outputs": [],
   "source": [
    "#load base/response variables for saturation mixing ratio calculations\n",
    "wAVD_Q_Base = np.swapaxes(pickle.load(open(\\\n",
    "   \"Vars for Specific Humidity Calculations/wAVD_Q_2006-2015_CAM3Grid.pickle\",\"rb\")\\\n",
    "                                       ,encoding='latin1'),3,4)\n",
    "\n",
    "wAVD_Q_Response = np.swapaxes(pickle.load(open(\\\n",
    "   \"Vars for Specific Humidity Calculations/wAVD_Q_2056-2065_CAM3Grid.pickle\",\"rb\")\\\n",
    "                                       ,encoding='latin1'),3,4)\n",
    "\n",
    "wAVD_Ta_Base = np.swapaxes(pickle.load(open(\\\n",
    "   \"Vars for Specific Humidity Calculations/wAVD_Ta_2006-2015_CAM3Grid.pickle\",\"rb\")\\\n",
    "                                       ,encoding='latin1'),3,4)\n",
    "\n",
    "wAVD_Ta_Response = np.swapaxes(pickle.load(open(\\\n",
    "   \"Vars for Specific Humidity Calculations/wAVD_Ta_2056-2065_CAM3Grid.pickle\",\"rb\")\\\n",
    "                                       ,encoding='latin1'),3,4)"
   ]
  },
  {
   "cell_type": "code",
   "execution_count": 8,
   "metadata": {},
   "outputs": [],
   "source": [
    "wAVD_sHum_Base = np.zeros([5,12,17,64,128])\n",
    "wAVD_sHum_Response = np.zeros([5,12,17,64,128])\n",
    "\n",
    "for i in range(FP_Ensemble_Members.size):\n",
    "    #saturation mixing ratio for the baseline period\n",
    "    wAVD_sHum_Base[i,:,:,:,:] = JF.Calc_SatSpec_Hum(\\\n",
    "    Ta=wAVD_Ta_Base[i,:,:,:,:],P = CMIP_plevs)/1000 #in kg/kg\n",
    "    \n",
    "    #saturation mixing ratio for the response period\n",
    "    wAVD_sHum_Response[i,:,:,:,:] = JF.Calc_SatSpec_Hum(\\\n",
    "    Ta=wAVD_Ta_Response[i,:,:,:,:],P = CMIP_plevs)/1000 #in kg/kg\n",
    "    \n",
    "    \n",
    "#relative humidity of the baseline, in kg/kg\n",
    "wAVD_rh = wAVD_Q_Base/wAVD_sHum_Base\n",
    "    \n",
    "#new change in saturation spec hum under a +1k climate\n",
    "wAVD_dQs1k = (wAVD_sHum_Response-wAVD_sHum_Base)/(wAVD_Ta_Response-wAVD_Ta_Base)\n",
    "\n",
    "#change in spec hum assuming relative humidity remains constant\n",
    "wAVD_dQ1k = wAVD_dQs1k*wAVD_rh\n",
    "\n",
    "#logarithm of spec humidity required to increase temp by 1K under constant relative humidity\n",
    "wAVD_dlnQ1k = wAVD_dQ1k/wAVD_Q_Base"
   ]
  },
  {
   "cell_type": "code",
   "execution_count": 9,
   "metadata": {},
   "outputs": [],
   "source": [
    "#water vapour mixing ratios and temperature responses\n",
    "\n",
    "#surface temperature in K\n",
    "wAVD_dST_CAM3Grid = np.swapaxes(pickle.load(open(\\\n",
    "   \"Future Projection CC Responses/wAVD_dST_CAM3Grid.pickle\",\"rb\"),encoding='latin1'),2,3)\n",
    "\n",
    "#dln(specific humidity) in kg/kg\n",
    "wAVD_dlnQ_CAM3Grid = np.swapaxes(pickle.load(open(\\\n",
    "   \"Future Projection CC Responses/wAVD_dlnQ_CAM3Grid.pickle\",\"rb\"),encoding='latin1'),3,4)\n",
    "\n",
    "#normalize the dln(specific humidity) by the amount required to increase temperature by 1K\n",
    "    #(by the same anomaly used to compute the kernel)\n",
    "wAVD_dlnQ_CAM3Grid_Norm = wAVD_dlnQ_CAM3Grid/wAVD_dlnQ1k"
   ]
  },
  {
   "cell_type": "code",
   "execution_count": 10,
   "metadata": {},
   "outputs": [],
   "source": [
    "#Calculate pressure level thickness using CMIP pressure levels and surface pressure\n",
    "dp = np.zeros([12,17,64,128])\n",
    "\n",
    "for i in range(12):\n",
    "    for j in range(64):\n",
    "        for k in range(128):\n",
    "            dp[i,:,j,k] = JF.PlevThck(\\\n",
    "            PS = wAVD_PS_interp[i,j,k],plevs=CMIP_plevs_scalar,\\\n",
    "            p_top = min(CMIP_plevs_scalar))\n",
    "            \n",
    "dp = np.ma.masked_invalid(dp[:,:,:,:]/100) #CAM3 Kernel units are scaled per 100 mb"
   ]
  },
  {
   "cell_type": "code",
   "execution_count": 11,
   "metadata": {},
   "outputs": [
    {
     "data": {
      "text/plain": [
       "(12, 17, 64, 128)"
      ]
     },
     "execution_count": 11,
     "metadata": {},
     "output_type": "execute_result"
    }
   ],
   "source": [
    "#estimation of the tropopause. 300hPA at the poles, raising\n",
    "    #linearly to 100hpa at the tropics\n",
    "\n",
    "p_tropopause_zonalmean_linear = np.zeros([64])\n",
    "\n",
    "for y in range(64):\n",
    "    if y <= len(CAM3_Lat)/2:\n",
    "        if y == 0:\n",
    "            p_tropopause_zonalmean_linear[y] = 300\n",
    "        elif y == len(CAM3_Lat)/2:\n",
    "            p_tropopause_zonalmean_linear[y] = 100\n",
    "        else:\n",
    "            p_tropopause_zonalmean_linear[y] = \\\n",
    "            p_tropopause_zonalmean_linear[y-1]\\\n",
    "            -(200/(len(CAM3_Lat)/2-1))\n",
    "    else:\n",
    "        if y == len(CAM3_Lat)/2:\n",
    "            p_tropopause_zonalmean_linear[y] = 100\n",
    "        elif y == len(CAM3_Lat):\n",
    "            p_tropopause_zonalmean_linear[y] = 300\n",
    "        else:\n",
    "            p_tropopause_zonalmean_linear[y] = \\\n",
    "            p_tropopause_zonalmean_linear[y-1]\\\n",
    "            +(200/(len(CAM3_Lat)/2-1))\n",
    "            \n",
    "Q = np.tile(p_tropopause_zonalmean_linear.T,(CAM3_Lon.size,1))\n",
    "R = np.transpose(Q[:,:,None],(0,1,2))\n",
    "S = np.tile(R,(1,1,17))\n",
    "T = np.transpose(S[:,:,:,None],(0,1,2,3))\n",
    "U = np.tile(T,(1,1,1,12))\n",
    "V = np.swapaxes(U,3,0)\n",
    "p_tropopause_CAM3 = np.swapaxes(V,2,1)\n",
    "\n",
    "#how does it look?\n",
    "p_tropopause_CAM3.shape"
   ]
  },
  {
   "cell_type": "code",
   "execution_count": 25,
   "metadata": {},
   "outputs": [],
   "source": [
    "#CAM3 Kernels\n",
    "Kernel_CAM3_LW_Q = np.ma.masked_greater(np.squeeze(Source_File.variables['WVlw_TOA']),1e10)\n",
    "Kernel_CAM3_SW_Q = np.ma.masked_greater(np.squeeze(Source_File.variables['WVsw_TOA']),1e10)"
   ]
  },
  {
   "cell_type": "code",
   "execution_count": 18,
   "metadata": {},
   "outputs": [],
   "source": [
    "CAM3_wAVD_dlnQ_tropo = np.zeros([FP_Ensemble_Members.size,12,17,64,128])\n",
    "CAM3_wAVD_dLW_WV = np.zeros([FP_Ensemble_Members.size,12,64,128])\n",
    "CAM3_wAVD_dSW_WV = np.zeros([FP_Ensemble_Members.size,12,64,128])\n",
    "CAM3_wAVD_net_WV = np.zeros([FP_Ensemble_Members.size,12,64,128])\n",
    "\n",
    "for i in range(FP_Ensemble_Members.size):\n",
    "    \n",
    "    #mask out the stratosphere\n",
    "    CAM3_wAVD_dlnQ_tropo[i,:,:,:,:] = \\\n",
    "    wAVD_dlnQ_CAM3Grid_Norm[i,:,:,:,:]*(CMIP_plevs>=p_tropopause_CAM3)\n",
    "    \n",
    "    #multiply kernels and vertically integrate\n",
    "    CAM3_wAVD_dLW_WV[i,:,:,:] = \\\n",
    "    np.ma.sum(CAM3_wAVD_dlnQ_tropo[i,:,:,:,:]*Kernel_CAM3_LW_Q*dp,axis=1)\n",
    "    \n",
    "    CAM3_wAVD_dSW_WV[i,:,:,:] = \\\n",
    "    np.ma.sum(CAM3_wAVD_dlnQ_tropo[i,:,:,:,:]*Kernel_CAM3_SW_Q*dp,axis=1)\n",
    "    \n",
    "    #add shortwave and longwave responses\n",
    "    CAM3_wAVD_net_WV[i,:,:,:] = CAM3_wAVD_dLW_WV[i,:,:,:]+CAM3_wAVD_dSW_WV[i,:,:,:]"
   ]
  },
  {
   "cell_type": "code",
   "execution_count": 19,
   "metadata": {},
   "outputs": [],
   "source": [
    "CAM3_wAVD_WV_EnergyB_AA = np.zeros([FP_Ensemble_Members.size,12])\n",
    "CAM3_wAVD_WV_EnergyB_GA = np.zeros([FP_Ensemble_Members.size,12])\n",
    "\n",
    "for i in range(FP_Ensemble_Members.size):\n",
    "    CAM3_wAVD_WV_EnergyB_AA[i,:] = Area_Avg.LatLonavg_Time(\\\n",
    "    CAM3_wAVD_net_WV[i,:,54:,:],CAM3_Lat[54:],CAM3_Lon)\n",
    "    \n",
    "    CAM3_wAVD_WV_EnergyB_GA[i,:] = Area_Avg.LatLonavg_Time(\\\n",
    "    CAM3_wAVD_net_WV[i,:,:,:],CAM3_Lat,CAM3_Lon)"
   ]
  },
  {
   "cell_type": "code",
   "execution_count": 20,
   "metadata": {},
   "outputs": [
    {
     "name": "stdout",
     "output_type": "stream",
     "text": [
      "[1.55098349 1.4764823  1.4654365  1.47971293 1.52863169]\n",
      "[2.59172535 2.6525966  2.75870729 2.73191226 2.5594497 ]\n"
     ]
    }
   ],
   "source": [
    "print(np.mean(CAM3_wAVD_WV_EnergyB_AA,axis=1))\n",
    "print(np.mean(CAM3_wAVD_WV_EnergyB_GA,axis=1))"
   ]
  },
  {
   "cell_type": "code",
   "execution_count": 21,
   "metadata": {},
   "outputs": [],
   "source": [
    "wAVD_dST_CAM3Grid_AA = np.zeros([5,12])\n",
    "wAVD_dST_CAM3Grid_GA = np.zeros([5,12])\n",
    "\n",
    "for i in range(FP_Ensemble_Members.size):\n",
    "    wAVD_dST_CAM3Grid_AA[i,:] = Area_Avg.LatLonavg_Time(\\\n",
    "    wAVD_dST_CAM3Grid[i,:,54:,:],CAM3_Lat[54:],CAM3_Lon)\n",
    "    \n",
    "    wAVD_dST_CAM3Grid_GA[i,:] = Area_Avg.LatLonavg_Time(\\\n",
    "    wAVD_dST_CAM3Grid[i,:,:,:],CAM3_Lat,CAM3_Lon)"
   ]
  },
  {
   "cell_type": "code",
   "execution_count": 22,
   "metadata": {},
   "outputs": [],
   "source": [
    "CAM3_wAVD_WV_Feedback_AA = CAM3_wAVD_WV_EnergyB_AA/wAVD_dST_CAM3Grid_AA\n",
    "CAM3_wAVD_WV_Feedback_GA = CAM3_wAVD_WV_EnergyB_GA/wAVD_dST_CAM3Grid_GA"
   ]
  },
  {
   "cell_type": "code",
   "execution_count": 23,
   "metadata": {},
   "outputs": [],
   "source": [
    "CAM3_wAVD_WV_EnergyB_Annual_AA = np.mean(CAM3_wAVD_WV_EnergyB_AA,axis=1)\n",
    "CAM3_wAVD_WV_EnergyB_SON_AA = np.mean(CAM3_wAVD_WV_EnergyB_AA[:,8:11],axis=1)\n",
    "CAM3_wAVD_WV_EnergyB_JJA_AA = np.mean(CAM3_wAVD_WV_EnergyB_AA[:,5:8],axis=1)\n",
    "CAM3_wAVD_WV_EnergyB_MAM_AA = np.mean(CAM3_wAVD_WV_EnergyB_AA[:,2:5],axis=1)\n",
    "CAM3_wAVD_WV_EnergyB_DJF_AA = np.mean((CAM3_wAVD_WV_EnergyB_AA[:,0],\n",
    "                                       CAM3_wAVD_WV_EnergyB_AA[:,1],\\\n",
    "                                       CAM3_wAVD_WV_EnergyB_AA[:,11]),axis=0)\n",
    "\n",
    "CAM3_wAVD_WV_EnergyB_Annual_GA = np.mean(CAM3_wAVD_WV_EnergyB_GA,axis=1)\n",
    "CAM3_wAVD_WV_EnergyB_SON_GA = np.mean(CAM3_wAVD_WV_EnergyB_GA[:,8:11],axis=1)\n",
    "CAM3_wAVD_WV_EnergyB_JJA_GA = np.mean(CAM3_wAVD_WV_EnergyB_GA[:,5:8],axis=1)\n",
    "CAM3_wAVD_WV_EnergyB_MAM_GA = np.mean(CAM3_wAVD_WV_EnergyB_GA[:,2:5],axis=1)\n",
    "CAM3_wAVD_WV_EnergyB_DJF_GA = np.mean((CAM3_wAVD_WV_EnergyB_GA[:,0],\n",
    "                                       CAM3_wAVD_WV_EnergyB_GA[:,1],\\\n",
    "                                       CAM3_wAVD_WV_EnergyB_GA[:,11]),axis=0)"
   ]
  },
  {
   "cell_type": "code",
   "execution_count": 24,
   "metadata": {},
   "outputs": [],
   "source": [
    "CAM3_wAVD_WV_Feedback_Annual_AA = np.mean(CAM3_wAVD_WV_Feedback_AA,axis=1)\n",
    "CAM3_wAVD_WV_Feedback_SON_AA = np.mean(CAM3_wAVD_WV_Feedback_AA[:,8:11],axis=1)\n",
    "CAM3_wAVD_WV_Feedback_JJA_AA = np.mean(CAM3_wAVD_WV_Feedback_AA[:,5:8],axis=1)\n",
    "CAM3_wAVD_WV_Feedback_MAM_AA = np.mean(CAM3_wAVD_WV_Feedback_AA[:,2:5],axis=1)\n",
    "CAM3_wAVD_WV_Feedback_DJF_AA = np.mean((CAM3_wAVD_WV_Feedback_AA[:,0],\n",
    "                                       CAM3_wAVD_WV_Feedback_AA[:,1],\\\n",
    "                                       CAM3_wAVD_WV_Feedback_AA[:,11]),axis=0)\n",
    "\n",
    "CAM3_wAVD_WV_Feedback_Annual_GA = np.mean(CAM3_wAVD_WV_Feedback_GA,axis=1)\n",
    "CAM3_wAVD_WV_Feedback_SON_GA = np.mean(CAM3_wAVD_WV_Feedback_GA[:,8:11],axis=1)\n",
    "CAM3_wAVD_WV_Feedback_JJA_GA = np.mean(CAM3_wAVD_WV_Feedback_GA[:,5:8],axis=1)\n",
    "CAM3_wAVD_WV_Feedback_MAM_GA = np.mean(CAM3_wAVD_WV_Feedback_GA[:,2:5],axis=1)\n",
    "CAM3_wAVD_WV_Feedback_DJF_GA = np.mean((CAM3_wAVD_WV_Feedback_GA[:,0],\n",
    "                                       CAM3_wAVD_WV_Feedback_GA[:,1],\\\n",
    "                                       CAM3_wAVD_WV_Feedback_GA[:,11]),axis=0)"
   ]
  },
  {
   "cell_type": "code",
   "execution_count": 38,
   "metadata": {},
   "outputs": [],
   "source": [
    "CAM3_wAVD_WV_EnergyB_Annual_AA_file = open(\"CAM3_wAVD_WV_EnergyB_AA.pickle\",\"wb\")\n",
    "pickle.dump(CAM3_wAVD_WV_EnergyB_Annual_AA,CAM3_wAVD_WV_EnergyB_Annual_AA_file)\n",
    "CAM3_wAVD_WV_EnergyB_Annual_AA_file.close()\n",
    "\n",
    "CAM3_wAVD_WV_EnergyB_SON_AA_file = open(\"CAM3_wAVD_WV_EnergyB_SON_AA.pickle\",\"wb\")\n",
    "pickle.dump(CAM3_wAVD_WV_EnergyB_SON_AA,CAM3_wAVD_WV_EnergyB_SON_AA_file)\n",
    "CAM3_wAVD_WV_EnergyB_SON_AA_file.close()\n",
    "\n",
    "CAM3_wAVD_WV_EnergyB_JJA_AA_file = open(\"CAM3_wAVD_WV_EnergyB_JJA_AA.pickle\",\"wb\")\n",
    "pickle.dump(CAM3_wAVD_WV_EnergyB_JJA_AA,CAM3_wAVD_WV_EnergyB_JJA_AA_file)\n",
    "CAM3_wAVD_WV_EnergyB_JJA_AA_file.close()\n",
    "\n",
    "CAM3_wAVD_WV_EnergyB_MAM_AA_file = open(\"CAM3_wAVD_WV_EnergyB_MAM_AA.pickle\",\"wb\")\n",
    "pickle.dump(CAM3_wAVD_WV_EnergyB_MAM_AA,CAM3_wAVD_WV_EnergyB_MAM_AA_file)\n",
    "CAM3_wAVD_WV_EnergyB_MAM_AA_file.close()\n",
    "\n",
    "CAM3_wAVD_WV_EnergyB_DJF_AA_file = open(\"CAM3_wAVD_WV_EnergyB_DJF_AA.pickle\",\"wb\")\n",
    "pickle.dump(CAM3_wAVD_WV_EnergyB_DJF_AA,CAM3_wAVD_WV_EnergyB_DJF_AA_file)\n",
    "CAM3_wAVD_WV_EnergyB_DJF_AA_file.close()\n",
    "\n",
    "CAM3_wAVD_WV_Feedback_Annual_AA_file = open(\"CAM3_wAVD_WV_Feedback_AA.pickle\",\"wb\")\n",
    "pickle.dump(CAM3_wAVD_WV_Feedback_Annual_AA,CAM3_wAVD_WV_Feedback_Annual_AA_file)\n",
    "CAM3_wAVD_WV_Feedback_Annual_AA_file.close()\n",
    "\n",
    "CAM3_wAVD_WV_Feedback_SON_AA_file = open(\"CAM3_wAVD_WV_Feedback_SON_AA.pickle\",\"wb\")\n",
    "pickle.dump(CAM3_wAVD_WV_Feedback_SON_AA,CAM3_wAVD_WV_Feedback_SON_AA_file)\n",
    "CAM3_wAVD_WV_Feedback_SON_AA_file.close()\n",
    "\n",
    "CAM3_wAVD_WV_Feedback_JJA_AA_file = open(\"CAM3_wAVD_WV_Feedback_JJA_AA.pickle\",\"wb\")\n",
    "pickle.dump(CAM3_wAVD_WV_Feedback_JJA_AA,CAM3_wAVD_WV_Feedback_JJA_AA_file)\n",
    "CAM3_wAVD_WV_Feedback_JJA_AA_file.close()\n",
    "\n",
    "CAM3_wAVD_WV_Feedback_MAM_AA_file = open(\"CAM3_wAVD_WV_Feedback_MAM_AA.pickle\",\"wb\")\n",
    "pickle.dump(CAM3_wAVD_WV_Feedback_MAM_AA,CAM3_wAVD_WV_Feedback_MAM_AA_file)\n",
    "CAM3_wAVD_WV_Feedback_MAM_AA_file.close()\n",
    "\n",
    "CAM3_wAVD_WV_Feedback_DJF_AA_file = open(\"CAM3_wAVD_WV_Feedback_DJF_AA.pickle\",\"wb\")\n",
    "pickle.dump(CAM3_wAVD_WV_Feedback_DJF_AA,CAM3_wAVD_WV_Feedback_DJF_AA_file)\n",
    "CAM3_wAVD_WV_Feedback_DJF_AA_file.close()"
   ]
  },
  {
   "cell_type": "code",
   "execution_count": 39,
   "metadata": {},
   "outputs": [],
   "source": [
    "CAM3_wAVD_WV_EnergyB_Annual_GA_file = open(\"CAM3_wAVD_WV_EnergyB_GA.pickle\",\"wb\")\n",
    "pickle.dump(CAM3_wAVD_WV_EnergyB_Annual_GA,CAM3_wAVD_WV_EnergyB_Annual_GA_file)\n",
    "CAM3_wAVD_WV_EnergyB_Annual_GA_file.close()\n",
    "\n",
    "CAM3_wAVD_WV_EnergyB_SON_GA_file = open(\"CAM3_wAVD_WV_EnergyB_SON_GA.pickle\",\"wb\")\n",
    "pickle.dump(CAM3_wAVD_WV_EnergyB_SON_GA,CAM3_wAVD_WV_EnergyB_SON_GA_file)\n",
    "CAM3_wAVD_WV_EnergyB_SON_GA_file.close()\n",
    "\n",
    "CAM3_wAVD_WV_EnergyB_JJA_GA_file = open(\"CAM3_wAVD_WV_EnergyB_JJA_GA.pickle\",\"wb\")\n",
    "pickle.dump(CAM3_wAVD_WV_EnergyB_JJA_GA,CAM3_wAVD_WV_EnergyB_JJA_GA_file)\n",
    "CAM3_wAVD_WV_EnergyB_JJA_GA_file.close()\n",
    "\n",
    "CAM3_wAVD_WV_EnergyB_MAM_GA_file = open(\"CAM3_wAVD_WV_EnergyB_MAM_GA.pickle\",\"wb\")\n",
    "pickle.dump(CAM3_wAVD_WV_EnergyB_MAM_GA,CAM3_wAVD_WV_EnergyB_MAM_GA_file)\n",
    "CAM3_wAVD_WV_EnergyB_MAM_GA_file.close()\n",
    "\n",
    "CAM3_wAVD_WV_EnergyB_DJF_GA_file = open(\"CAM3_wAVD_WV_EnergyB_DJF_GA.pickle\",\"wb\")\n",
    "pickle.dump(CAM3_wAVD_WV_EnergyB_DJF_GA,CAM3_wAVD_WV_EnergyB_DJF_GA_file)\n",
    "CAM3_wAVD_WV_EnergyB_DJF_GA_file.close()\n",
    "\n",
    "CAM3_wAVD_WV_Feedback_Annual_GA_file = open(\"CAM3_wAVD_WV_Feedback_GA.pickle\",\"wb\")\n",
    "pickle.dump(CAM3_wAVD_WV_Feedback_Annual_GA,CAM3_wAVD_WV_Feedback_Annual_GA_file)\n",
    "CAM3_wAVD_WV_Feedback_Annual_GA_file.close()\n",
    "\n",
    "CAM3_wAVD_WV_Feedback_SON_GA_file = open(\"CAM3_wAVD_WV_Feedback_SON_GA.pickle\",\"wb\")\n",
    "pickle.dump(CAM3_wAVD_WV_Feedback_SON_GA,CAM3_wAVD_WV_Feedback_SON_GA_file)\n",
    "CAM3_wAVD_WV_Feedback_SON_GA_file.close()\n",
    "\n",
    "CAM3_wAVD_WV_Feedback_JJA_GA_file = open(\"CAM3_wAVD_WV_Feedback_JJA_GA.pickle\",\"wb\")\n",
    "pickle.dump(CAM3_wAVD_WV_Feedback_JJA_GA,CAM3_wAVD_WV_Feedback_JJA_GA_file)\n",
    "CAM3_wAVD_WV_Feedback_JJA_GA_file.close()\n",
    "\n",
    "CAM3_wAVD_WV_Feedback_MAM_GA_file = open(\"CAM3_wAVD_WV_Feedback_MAM_GA.pickle\",\"wb\")\n",
    "pickle.dump(CAM3_wAVD_WV_Feedback_MAM_GA,CAM3_wAVD_WV_Feedback_MAM_GA_file)\n",
    "CAM3_wAVD_WV_Feedback_MAM_GA_file.close()\n",
    "\n",
    "CAM3_wAVD_WV_Feedback_DJF_GA_file = open(\"CAM3_wAVD_WV_Feedback_DJF_GA.pickle\",\"wb\")\n",
    "pickle.dump(CAM3_wAVD_WV_Feedback_DJF_GA,CAM3_wAVD_WV_Feedback_DJF_GA_file)\n",
    "CAM3_wAVD_WV_Feedback_DJF_GA_file.close()"
   ]
  },
  {
   "cell_type": "code",
   "execution_count": null,
   "metadata": {},
   "outputs": [],
   "source": []
  }
 ],
 "metadata": {
  "kernelspec": {
   "display_name": "Python 3",
   "language": "python",
   "name": "python3"
  },
  "language_info": {
   "codemirror_mode": {
    "name": "ipython",
    "version": 3
   },
   "file_extension": ".py",
   "mimetype": "text/x-python",
   "name": "python",
   "nbconvert_exporter": "python",
   "pygments_lexer": "ipython3",
   "version": "3.6.4"
  }
 },
 "nbformat": 4,
 "nbformat_minor": 2
}
