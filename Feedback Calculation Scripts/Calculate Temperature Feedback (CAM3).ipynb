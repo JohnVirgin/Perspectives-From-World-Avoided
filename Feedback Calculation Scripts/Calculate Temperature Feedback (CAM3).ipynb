{
 "cells": [
  {
   "cell_type": "code",
   "execution_count": 2,
   "metadata": {},
   "outputs": [],
   "source": [
    "# Import Packages\n",
    "import numpy as np\n",
    "import scipy.stats as stats\n",
    "import os\n",
    "import pickle\n",
    "import scipy.io as scio\n",
    "from ncdump_python3 import ncdump\n",
    "import pickle\n",
    "import Jacks_Functions as JF\n",
    "import Area_Avg\n",
    "import matplotlib\n",
    "from matplotlib import pyplot as plt\n",
    "from scipy.interpolate import griddata\n",
    "from netCDF4 import Dataset\n",
    "import warnings\n",
    "warnings.filterwarnings('ignore')\n",
    "np.set_printoptions(suppress=True)"
   ]
  },
  {
   "cell_type": "code",
   "execution_count": 4,
   "metadata": {},
   "outputs": [],
   "source": [
    "#Load in Dimensions\n",
    "LLL = Dataset('LatLon.nc')\n",
    "WACCM4_Lat = np.squeeze(LLL.variables['lat'])\n",
    "WACCM4_Lon = np.squeeze(LLL.variables['lon'])\n",
    "LLL.close()\n",
    "\n",
    "Source_File = Dataset('Kernels/Interpolated/CAM3_Kernels.nc')\n",
    "\n",
    "CAM3_Lat = np.squeeze(Source_File.variables['lat'])\n",
    "CAM3_Lon = np.squeeze(Source_File.variables['lon'])\n",
    "\n",
    "cx,cy = np.meshgrid(CAM3_Lon,CAM3_Lat)\n",
    "wx,wy = np.meshgrid(WACCM4_Lon,WACCM4_Lat)\n",
    "\n",
    "RCP45_PS = pickle.load(open('RCP45_Base_PS.pickle','rb'))\n",
    "#interpolate the surface pressure to the CAM3 grid\n",
    "RCP45_PS_interp = np.zeros([12,64,128])\n",
    "for i in range(12):\n",
    "    RCP45_PS_interp[i,:,:] = griddata(\\\n",
    "    (wx.flatten(),wy.flatten()),RCP45_PS[i,:,:].flatten(),\\\n",
    "    (cx,cy),method='linear')/100 #swap to hpa in the process\n",
    "    \n",
    "#Lists for iterating\n",
    "Months = np.arange(0,12)\n",
    "FP_Ensemble_Members = np.arange(5)"
   ]
  },
  {
   "cell_type": "code",
   "execution_count": 7,
   "metadata": {},
   "outputs": [
    {
     "data": {
      "text/plain": [
       "(12, 17, 64, 128)"
      ]
     },
     "execution_count": 7,
     "metadata": {},
     "output_type": "execute_result"
    }
   ],
   "source": [
    "#Tile the plevs to match the shape of the kernel\n",
    "CMIP_plevs_scalar = np.squeeze(Source_File.variables['lev'])\n",
    "\n",
    "A = np.tile(CMIP_plevs_scalar.T,(CAM3_Lon.size,1))\n",
    "B = np.transpose(A[:,:,None],(0,1,2))\n",
    "C = np.tile(B,(1,1,CAM3_Lat.size))\n",
    "D = np.transpose(C[:,:,:,None],(0,1,2,3))\n",
    "E = np.tile(D,(1,1,1,12))\n",
    "CMIP_plevs = np.swapaxes(E,3,0)\n",
    "CMIP_plevs.shape"
   ]
  },
  {
   "cell_type": "code",
   "execution_count": 8,
   "metadata": {},
   "outputs": [],
   "source": [
    "#Calculate pressure level thickness using CMIP pressure levels and surface pressure\n",
    "dp = np.zeros([12,17,64,128])\n",
    "\n",
    "for i in range(12):\n",
    "    for j in range(64):\n",
    "        for k in range(128):\n",
    "            dp[i,:,j,k] = JF.PlevThck(\\\n",
    "            PS = RCP45_PS_interp[i,j,k],plevs=CMIP_plevs_scalar,\\\n",
    "            p_top = min(CMIP_plevs_scalar))\n",
    "            \n",
    "dp = np.ma.masked_invalid(dp[:,:,:,:]/100) #CAM3 Kernel units are per 100 hPa"
   ]
  },
  {
   "cell_type": "code",
   "execution_count": 9,
   "metadata": {},
   "outputs": [
    {
     "data": {
      "text/plain": [
       "(12, 17, 64, 128)"
      ]
     },
     "execution_count": 9,
     "metadata": {},
     "output_type": "execute_result"
    }
   ],
   "source": [
    "#estimation of the tropopause. 300hPA at the poles, raising\n",
    "    #linearly to 100hpa at the tropics\n",
    "\n",
    "p_tropopause_zonalmean_linear = np.zeros([64])\n",
    "\n",
    "for y in range(64):\n",
    "    if y <= len(CAM3_Lat)/2:\n",
    "        if y == 0:\n",
    "            p_tropopause_zonalmean_linear[y] = 300\n",
    "        elif y == len(CAM3_Lat)/2:\n",
    "            p_tropopause_zonalmean_linear[y] = 100\n",
    "        else:\n",
    "            p_tropopause_zonalmean_linear[y] = \\\n",
    "            p_tropopause_zonalmean_linear[y-1]\\\n",
    "            -(200/(len(CAM3_Lat)/2-1))\n",
    "    else:\n",
    "        if y == len(CAM3_Lat)/2:\n",
    "            p_tropopause_zonalmean_linear[y] = 100\n",
    "        elif y == len(CAM3_Lat):\n",
    "            p_tropopause_zonalmean_linear[y] = 300\n",
    "        else:\n",
    "            p_tropopause_zonalmean_linear[y] = \\\n",
    "            p_tropopause_zonalmean_linear[y-1]\\\n",
    "            +(200/(len(CAM3_Lat)/2-1))\n",
    "            \n",
    "Q = np.tile(p_tropopause_zonalmean_linear.T,(CAM3_Lon.size,1))\n",
    "R = np.transpose(Q[:,:,None],(0,1,2))\n",
    "S = np.tile(R,(1,1,17))\n",
    "T = np.transpose(S[:,:,:,None],(0,1,2,3))\n",
    "U = np.tile(T,(1,1,1,12))\n",
    "V = np.swapaxes(U,3,0)\n",
    "p_tropopause_CAM3 = np.swapaxes(V,2,1)\n",
    "\n",
    "#how does it look?\n",
    "p_tropopause_CAM3.shape"
   ]
  },
  {
   "cell_type": "code",
   "execution_count": 10,
   "metadata": {},
   "outputs": [],
   "source": [
    "Kernel_CAM3_TA = np.ma.masked_greater(\\\n",
    "    np.squeeze(Source_File.variables['Ta_TOA']),1e10)\n",
    "Kernel_CAM3_TA_clear = np.ma.masked_greater(\\\n",
    "    np.squeeze(Source_File.variables['Ta_TOA_CLR']),1e10)\n",
    "\n",
    "Kernel_CAM3_TS = np.ma.masked_greater(\\\n",
    "    np.squeeze(Source_File.variables['Ts_TOA']),1e10)\n",
    "Kernel_CAM3_TS_clear = np.ma.masked_greater(\\\n",
    "    np.squeeze(Source_File.variables['Ts_TOA_CLR']),1e10)"
   ]
  },
  {
   "cell_type": "code",
   "execution_count": 11,
   "metadata": {},
   "outputs": [],
   "source": [
    "#climate change responses\n",
    "RCP45_dST_CAM3Grid = pickle.load(open(\\\n",
    "   \"Future Projection CC Responses/RCP45_dST_CAM3Grid.pickle\",\"rb\"),encoding='latin1')\n",
    "RCP45_dST_CAM3Grid = np.swapaxes(RCP45_dST_CAM3Grid,2,3)\n",
    "RCP45_dAT_CAM3Grid = pickle.load(open(\\\n",
    "    \"Future Projection CC Responses/RCP45_dAT_CAM3Grid.pickle\",\"rb\"),encoding='latin1')\n",
    "RCP45_dAT_CAM3Grid = np.swapaxes(RCP45_dAT_CAM3Grid,3,4)"
   ]
  },
  {
   "cell_type": "code",
   "execution_count": 13,
   "metadata": {},
   "outputs": [],
   "source": [
    "#arrays for total temperature feedback\n",
    "CAM3_RCP45_dLW_Ts = np.zeros([FP_Ensemble_Members.size,12,64,128])\n",
    "CAM3_RCP45_dLW_Ta = np.zeros([FP_Ensemble_Members.size,12,64,128])\n",
    "CAM3_RCP45_dTa_Tropo = np.zeros([FP_Ensemble_Members.size,12,17,64,128])\n",
    "CAM3_RCP45_dLW_T = np.zeros([FP_Ensemble_Members.size,12,64,128])\n",
    "CAM3_RCP45_T_EnergyB_GA = np.zeros([FP_Ensemble_Members.size])\n",
    "CAM3_RCP45_T_EnergyB_AA = np.zeros([FP_Ensemble_Members.size])\n",
    "\n",
    "for i in range(FP_Ensemble_Members.size):\n",
    "    \n",
    "    #Multiply surface temperature change by surface temp kernel\n",
    "    CAM3_RCP45_dLW_Ts[i,:,:,:] = Kernel_CAM3_TS*RCP45_dST_CAM3Grid[i,:,:,:]\n",
    "    \n",
    "    #Mask out stratosphere air temp change values by changing them to zero\n",
    "    CAM3_RCP45_dTa_Tropo[i,:,:,:,:] = \\\n",
    "    RCP45_dAT_CAM3Grid[i,:,:,:,:]*(CMIP_plevs>=p_tropopause_CAM3)\n",
    "    \n",
    "    #multiply air temp change and air temp kernel, then integrate\n",
    "        #up to the tropopause\n",
    "    CAM3_RCP45_dLW_Ta[i,:,:,:] = \\\n",
    "    np.ma.sum(Kernel_CAM3_TA*CAM3_RCP45_dTa_Tropo[i,:,:,:,:]*dp,1)\n",
    "    \n",
    "    # add the surface and air temperature feedback responses\n",
    "    CAM3_RCP45_dLW_T[i,:,:,:] = CAM3_RCP45_dLW_Ta[i,:,:,:]+CAM3_RCP45_dLW_Ts[i,:,:,:]\n",
    "    \n",
    "    #Take the annual average and Arctic area average\n",
    "    CAM3_RCP45_T_EnergyB_AA[i]  = np.mean(Area_Avg.LatLonavg_Time(\\\n",
    "            CAM3_RCP45_dLW_T[i,:,54:,:],CAM3_Lat[54:],CAM3_Lon),axis=0)\n",
    "    \n",
    "    #Take the annual average and global area average\n",
    "    CAM3_RCP45_T_EnergyB_GA[i]  = np.mean(Area_Avg.LatLonavg_Time(\\\n",
    "            CAM3_RCP45_dLW_T[i,:,:,:],CAM3_Lat[:],CAM3_Lon),axis=0)"
   ]
  },
  {
   "cell_type": "code",
   "execution_count": 14,
   "metadata": {},
   "outputs": [
    {
     "name": "stdout",
     "output_type": "stream",
     "text": [
      "[-3.63351626 -3.18142383 -3.47889802 -3.52133249 -3.38037785]\n",
      "[-3.83170933 -2.96110921 -4.30640273 -4.07912035 -3.61181548]\n"
     ]
    }
   ],
   "source": [
    "print(CAM3_RCP45_T_EnergyB_GA)\n",
    "print(CAM3_RCP45_T_EnergyB_AA)"
   ]
  },
  {
   "cell_type": "code",
   "execution_count": 15,
   "metadata": {},
   "outputs": [],
   "source": [
    "#get feedback values from dividing by the surface temperature change\n",
    "#Area average surface temperature change over 60-90N and globally\n",
    "RCP45_dST_AA = np.zeros([FP_Ensemble_Members.size])\n",
    "for i in range(FP_Ensemble_Members.size):    \n",
    "    RCP45_dST_AA[i] = np.mean(Area_Avg.LatLonavg_Time(\\\n",
    "    RCP45_dST_CAM3Grid[i,:,54:,:],CAM3_Lat[54:],CAM3_Lon[:]),axis=0)\n",
    "    \n",
    "CAM3_RCP45_T_Feedback_AA = CAM3_RCP45_T_EnergyB_AA/RCP45_dST_AA"
   ]
  },
  {
   "cell_type": "code",
   "execution_count": 16,
   "metadata": {},
   "outputs": [
    {
     "name": "stdout",
     "output_type": "stream",
     "text": [
      "Arctic Energy Budget [-3.83170933 -2.96110921 -4.30640273 -4.07912035 -3.61181548]\n",
      "\n",
      "\n",
      "Arctic Feedback [-1.80087235 -1.77599475 -1.61826275 -1.74074067 -1.65438782]\n"
     ]
    }
   ],
   "source": [
    "print('Arctic Energy Budget',CAM3_RCP45_T_EnergyB_AA)\n",
    "print('\\n')\n",
    "print('Arctic Feedback',CAM3_RCP45_T_Feedback_AA)"
   ]
  },
  {
   "cell_type": "code",
   "execution_count": null,
   "metadata": {},
   "outputs": [],
   "source": []
  }
 ],
 "metadata": {
  "kernelspec": {
   "display_name": "Python 3",
   "language": "python",
   "name": "python3"
  },
  "language_info": {
   "codemirror_mode": {
    "name": "ipython",
    "version": 3
   },
   "file_extension": ".py",
   "mimetype": "text/x-python",
   "name": "python",
   "nbconvert_exporter": "python",
   "pygments_lexer": "ipython3",
   "version": "3.6.4"
  }
 },
 "nbformat": 4,
 "nbformat_minor": 2
}
