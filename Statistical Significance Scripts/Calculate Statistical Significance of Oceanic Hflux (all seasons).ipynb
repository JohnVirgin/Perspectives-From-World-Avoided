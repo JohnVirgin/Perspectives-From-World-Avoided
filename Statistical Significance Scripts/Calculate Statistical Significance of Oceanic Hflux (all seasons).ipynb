{
 "cells": [
  {
   "cell_type": "code",
   "execution_count": 1,
   "metadata": {},
   "outputs": [],
   "source": [
    "## Import Packages\n",
    "import numpy as np\n",
    "import scipy.stats as stats\n",
    "import warnings\n",
    "import pickle\n",
    "import Area_Avg\n",
    "from netCDF4 import Dataset\n",
    "warnings.filterwarnings('ignore')"
   ]
  },
  {
   "cell_type": "code",
   "execution_count": 5,
   "metadata": {},
   "outputs": [],
   "source": [
    "RCP45_DYNocn_EnergyB_AA = pickle.load(open(\\\n",
    "\"ENERGY BUDGET/Dynamical/RCP45/RCP45_DYNocn_EnergyB_AA.pickle\",\"rb\"))\n",
    "wAVD_DYNocn_EnergyB_AA = pickle.load(open(\\\n",
    "\"ENERGY BUDGET/Dynamical/wAVD/wAVD_DYNocn_EnergyB_AA.pickle\",\"rb\"))\n",
    "\n",
    "RCP45_DYNocn_Feedback_AA = pickle.load(open(\\\n",
    "\"ENERGY BUDGET/Dynamical/RCP45/RCP45_DYNocn_Feedback_AA.pickle\",\"rb\"))\n",
    "wAVD_DYNocn_Feedback_AA = pickle.load(open(\\\n",
    "\"ENERGY BUDGET/Dynamical/wAVD/wAVD_DYNocn_Feedback_AA.pickle\",\"rb\"))"
   ]
  },
  {
   "cell_type": "code",
   "execution_count": 17,
   "metadata": {},
   "outputs": [
    {
     "name": "stdout",
     "output_type": "stream",
     "text": [
      "Arctic ocn PET Feedback U Stat : MannwhitneyuResult(statistic=10.0, pvalue=0.6761033140231469)\n",
      "Arctic ocn PET EnergyB U Stat : MannwhitneyuResult(statistic=4.0, pvalue=0.09469294259947589)\n",
      "not significant either way for annual means\n"
     ]
    }
   ],
   "source": [
    "StatSig_DYNocn_EnergyB_AA = stats.mannwhitneyu(\\\n",
    "    wAVD_DYNocn_EnergyB_AA,RCP45_DYNocn_EnergyB_AA,alternative = 'two-sided')\n",
    "StatSig_DYNocn_Feedback_AA = stats.mannwhitneyu(\\\n",
    "    wAVD_DYNocn_Feedback_AA,RCP45_DYNocn_Feedback_AA,alternative = 'two-sided')\n",
    "\n",
    "print('Arctic ocn PET Feedback U Stat :',StatSig_DYNocn_Feedback_AA)\n",
    "print('Arctic ocn PET EnergyB U Stat :',StatSig_DYNocn_EnergyB_AA)\n",
    "\n",
    "print('not significant either way for annual means')"
   ]
  },
  {
   "cell_type": "markdown",
   "metadata": {},
   "source": [
    "## seasonal?"
   ]
  },
  {
   "cell_type": "code",
   "execution_count": 22,
   "metadata": {},
   "outputs": [
    {
     "name": "stdout",
     "output_type": "stream",
     "text": [
      "Arctic ocn PET Feedback U Stat (march): MannwhitneyuResult(statistic=12.0, pvalue=1.0)\n",
      "Arctic ocn PET EnergyB U Stat (march): MannwhitneyuResult(statistic=17.0, pvalue=0.4033953048926283)\n",
      "nope\n"
     ]
    }
   ],
   "source": [
    "RCP45_DYNocn_EnergyB_MAM_AA = pickle.load(open(\\\n",
    "\"ENERGY BUDGET/Dynamical/RCP45/Seasonal Breakdown/RCP45_DYNocn_EnergyB_MAM_AA.pickle\",\"rb\"))\n",
    "wAVD_DYNocn_EnergyB_MAM_AA = pickle.load(open(\\\n",
    "\"ENERGY BUDGET/Dynamical/wAVD/Seasonal Breakdown/wAVD_DYNocn_EnergyB_MAM_AA.pickle\",\"rb\"))\n",
    "\n",
    "RCP45_DYNocn_Feedback_MAM_AA = pickle.load(open(\\\n",
    "\"ENERGY BUDGET/Dynamical/RCP45/Seasonal Breakdown/RCP45_DYNocn_Feedback_MAM_AA.pickle\",\"rb\"))\n",
    "wAVD_DYNocn_Feedback_MAM_AA = pickle.load(open(\\\n",
    "\"ENERGY BUDGET/Dynamical/wAVD/Seasonal Breakdown/wAVD_DYNocn_Feedback_MAM_AA.pickle\",\"rb\"))\n",
    "\n",
    "StatSig_DYNocn_EnergyB_MAM_AA = stats.mannwhitneyu(\\\n",
    "    RCP45_DYNocn_EnergyB_MAM_AA,wAVD_DYNocn_EnergyB_MAM_AA,alternative = 'two-sided')\n",
    "StatSig_DYNocn_Feedback_MAM_AA = stats.mannwhitneyu(\\\n",
    "    RCP45_DYNocn_Feedback_MAM_AA,wAVD_DYNocn_Feedback_MAM_AA,alternative = 'two-sided')\n",
    "\n",
    "print('Arctic ocn PET Feedback U Stat (march):',StatSig_DYNocn_Feedback_MAM_AA)\n",
    "print('Arctic ocn PET EnergyB U Stat (march):',StatSig_DYNocn_EnergyB_MAM_AA)\n",
    "print('nope')"
   ]
  },
  {
   "cell_type": "code",
   "execution_count": 25,
   "metadata": {},
   "outputs": [
    {
     "name": "stdout",
     "output_type": "stream",
     "text": [
      "Arctic ocn PET Feedback U Stat (july): MannwhitneyuResult(statistic=4.0, pvalue=0.09469294259947589)\n",
      "Arctic ocn PET EnergyB U Stat (july): MannwhitneyuResult(statistic=0.0, pvalue=0.012185780355344813)\n",
      "feedback NOPE\n"
     ]
    }
   ],
   "source": [
    "RCP45_DYNocn_EnergyB_JJA_AA = pickle.load(open(\\\n",
    "\"ENERGY BUDGET/Dynamical/RCP45/Seasonal Breakdown/RCP45_DYNocn_EnergyB_JJA_AA.pickle\",\"rb\"))\n",
    "wAVD_DYNocn_EnergyB_JJA_AA = pickle.load(open(\\\n",
    "\"ENERGY BUDGET/Dynamical/wAVD/Seasonal Breakdown/wAVD_DYNocn_EnergyB_JJA_AA.pickle\",\"rb\"))\n",
    "\n",
    "RCP45_DYNocn_Feedback_JJA_AA = pickle.load(open(\\\n",
    "\"ENERGY BUDGET/Dynamical/RCP45/Seasonal Breakdown/RCP45_DYNocn_Feedback_JJA_AA.pickle\",\"rb\"))\n",
    "wAVD_DYNocn_Feedback_JJA_AA = pickle.load(open(\\\n",
    "\"ENERGY BUDGET/Dynamical/wAVD/Seasonal Breakdown/wAVD_DYNocn_Feedback_JJA_AA.pickle\",\"rb\"))\n",
    "\n",
    "StatSig_DYNocn_EnergyB_JJA_AA = stats.mannwhitneyu(\\\n",
    "    wAVD_DYNocn_EnergyB_JJA_AA,RCP45_DYNocn_EnergyB_JJA_AA,alternative = 'two-sided')\n",
    "StatSig_DYNocn_Feedback_JJA_AA = stats.mannwhitneyu(\\\n",
    "    wAVD_DYNocn_Feedback_JJA_AA,RCP45_DYNocn_Feedback_JJA_AA,alternative = 'two-sided')\n",
    "\n",
    "print('Arctic ocn PET Feedback U Stat (july):',StatSig_DYNocn_Feedback_JJA_AA)\n",
    "print('Arctic ocn PET EnergyB U Stat (july):',StatSig_DYNocn_EnergyB_JJA_AA)\n",
    "print('feedback NOPE')"
   ]
  },
  {
   "cell_type": "code",
   "execution_count": 26,
   "metadata": {},
   "outputs": [
    {
     "name": "stdout",
     "output_type": "stream",
     "text": [
      "Arctic ocn PET Feedback U Stat (sept): MannwhitneyuResult(statistic=4.0, pvalue=0.09469294259947589)\n",
      "Arctic ocn PET EnergyB U Stat (sept): MannwhitneyuResult(statistic=0.0, pvalue=0.012185780355344813)\n",
      "feedback NOPE\n"
     ]
    }
   ],
   "source": [
    "RCP45_DYNocn_EnergyB_SON_AA = pickle.load(open(\\\n",
    "\"ENERGY BUDGET/Dynamical/RCP45/Seasonal Breakdown/RCP45_DYNocn_EnergyB_SON_AA.pickle\",\"rb\"))\n",
    "wAVD_DYNocn_EnergyB_SON_AA = pickle.load(open(\\\n",
    "\"ENERGY BUDGET/Dynamical/wAVD/Seasonal Breakdown/wAVD_DYNocn_EnergyB_SON_AA.pickle\",\"rb\"))\n",
    "\n",
    "RCP45_DYNocn_Feedback_SON_AA = pickle.load(open(\\\n",
    "\"ENERGY BUDGET/Dynamical/RCP45/Seasonal Breakdown/RCP45_DYNocn_Feedback_SON_AA.pickle\",\"rb\"))\n",
    "wAVD_DYNocn_Feedback_SON_AA = pickle.load(open(\\\n",
    "\"ENERGY BUDGET/Dynamical/wAVD/Seasonal Breakdown/wAVD_DYNocn_Feedback_SON_AA.pickle\",\"rb\"))\n",
    "\n",
    "StatSig_DYNocn_EnergyB_SON_AA = stats.mannwhitneyu(\\\n",
    "    wAVD_DYNocn_EnergyB_SON_AA,RCP45_DYNocn_EnergyB_SON_AA,alternative = 'two-sided')\n",
    "StatSig_DYNocn_Feedback_SON_AA = stats.mannwhitneyu(\\\n",
    "    wAVD_DYNocn_Feedback_SON_AA,RCP45_DYNocn_Feedback_SON_AA,alternative = 'two-sided')\n",
    "\n",
    "print('Arctic ocn PET Feedback U Stat (sept):',StatSig_DYNocn_Feedback_SON_AA)\n",
    "print('Arctic ocn PET EnergyB U Stat (sept):',StatSig_DYNocn_EnergyB_SON_AA)\n",
    "print('feedback NOPE')"
   ]
  },
  {
   "cell_type": "code",
   "execution_count": 32,
   "metadata": {},
   "outputs": [
    {
     "name": "stdout",
     "output_type": "stream",
     "text": [
      "Arctic ocn PET Feedback U Stat (dec): MannwhitneyuResult(statistic=3.0, pvalue=0.06010280593886631)\n",
      "Arctic ocn PET EnergyB U Stat (dec): MannwhitneyuResult(statistic=0.0, pvalue=0.012185780355344813)\n",
      "feedback NOPE\n"
     ]
    }
   ],
   "source": [
    "RCP45_DYNocn_EnergyB_DJF_AA = pickle.load(open(\\\n",
    "\"ENERGY BUDGET/Dynamical/RCP45/Seasonal Breakdown/RCP45_DYNocn_EnergyB_DJF_AA.pickle\",\"rb\"))\n",
    "wAVD_DYNocn_EnergyB_DJF_AA = pickle.load(open(\\\n",
    "\"ENERGY BUDGET/Dynamical/wAVD/Seasonal Breakdown/wAVD_DYNocn_EnergyB_DJF_AA.pickle\",\"rb\"))\n",
    "\n",
    "RCP45_DYNocn_Feedback_DJF_AA = pickle.load(open(\\\n",
    "\"ENERGY BUDGET/Dynamical/RCP45/Seasonal Breakdown/RCP45_DYNocn_Feedback_DJF_AA.pickle\",\"rb\"))\n",
    "wAVD_DYNocn_Feedback_DJF_AA = pickle.load(open(\\\n",
    "\"ENERGY BUDGET/Dynamical/wAVD/Seasonal Breakdown/wAVD_DYNocn_Feedback_DJF_AA.pickle\",\"rb\"))\n",
    "\n",
    "StatSig_DYNocn_EnergyB_DJF_AA = stats.mannwhitneyu(\\\n",
    "    RCP45_DYNocn_EnergyB_DJF_AA,wAVD_DYNocn_EnergyB_DJF_AA,alternative = 'two-sided')\n",
    "StatSig_DYNocn_Feedback_DJF_AA = stats.mannwhitneyu(\\\n",
    "    RCP45_DYNocn_Feedback_DJF_AA,wAVD_DYNocn_Feedback_DJF_AA,alternative = 'two-sided')\n",
    "\n",
    "print('Arctic ocn PET Feedback U Stat (dec):',StatSig_DYNocn_Feedback_DJF_AA)\n",
    "print('Arctic ocn PET EnergyB U Stat (dec):',StatSig_DYNocn_EnergyB_DJF_AA)\n",
    "print('feedback NOPE')"
   ]
  },
  {
   "cell_type": "code",
   "execution_count": null,
   "metadata": {},
   "outputs": [],
   "source": []
  }
 ],
 "metadata": {
  "kernelspec": {
   "display_name": "Python 3",
   "language": "python",
   "name": "python3"
  },
  "language_info": {
   "codemirror_mode": {
    "name": "ipython",
    "version": 3
   },
   "file_extension": ".py",
   "mimetype": "text/x-python",
   "name": "python",
   "nbconvert_exporter": "python",
   "pygments_lexer": "ipython3",
   "version": "3.6.4"
  }
 },
 "nbformat": 4,
 "nbformat_minor": 2
}
