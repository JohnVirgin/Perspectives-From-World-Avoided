{
 "cells": [
  {
   "cell_type": "markdown",
   "metadata": {},
   "source": [
    "## Import Packages"
   ]
  },
  {
   "cell_type": "code",
   "execution_count": 48,
   "metadata": {},
   "outputs": [],
   "source": [
    "import numpy as np\n",
    "from matplotlib import pyplot as plt\n",
    "import matplotlib\n",
    "import pandas as pd\n",
    "import matplotlib as mpl\n",
    "mpl.rcParams['text.usetex'] = True\n",
    "import scipy.stats as stats\n",
    "import os\n",
    "import ttest\n",
    "import Smooth_Data\n",
    "#import seaborn as sns\n",
    "#sns.set_context(\"talk\")\n",
    "import Area_Avg\n",
    "import cyclic_lon\n",
    "from netCDF4 import Dataset\n",
    "from netCDF4 import MFDataset\n",
    "from ncdump_python3 import ncdump\n",
    "from mpl_toolkits.basemap import Basemap\n",
    "%matplotlib inline\n",
    "mpl.rc('font',size=27) #set default font size and weight for plots"
   ]
  },
  {
   "cell_type": "markdown",
   "metadata": {},
   "source": [
    "## Read in Data as Nested Dictionaries"
   ]
  },
  {
   "cell_type": "code",
   "execution_count": 2,
   "metadata": {},
   "outputs": [],
   "source": [
    "Months = ['01','02','03','04','05','06','07','08','09','10','11','12']\n",
    "Sims = ['Sim1','Sim2','Sim3']"
   ]
  },
  {
   "cell_type": "code",
   "execution_count": 3,
   "metadata": {},
   "outputs": [],
   "source": [
    "Years = range(2005,2066)\n",
    "Years = list(map(str, Years))\n",
    "\n",
    "Years_fixODS = range(2001,2066)\n",
    "Years_fixODS = list(map(str, Years_fixODS))\n",
    "\n",
    "Years_wAVD = range(2005,2066)\n",
    "Years_wAVD = list(map(str, Years_wAVD))"
   ]
  },
  {
   "cell_type": "code",
   "execution_count": 4,
   "metadata": {},
   "outputs": [
    {
     "data": {
      "text/plain": [
       "['.DS_Store',\n",
       " 'Port',\n",
       " 'b.e10.BRCP45WCN.f19_g16.waLMP.001',\n",
       " 'b.e10.BRCP45WCN.f19_g16.waLMP.002',\n",
       " 'b.e10.BRCP45WCN.f19_g16.waLMP.003',\n",
       " 'b40.1955-2005.2deg.wcm.002',\n",
       " 'b40.rcp4_5.2deg.wcm.001',\n",
       " 'b40.rcp4_5.2deg.wcm.002',\n",
       " 'b40.rcp4_5.2deg.wcm.003',\n",
       " 'b40.rcp4_5.2deg.wcm.fixODS2000.001',\n",
       " 'b40.rcp4_5.2deg.wcm.fixODS2000.002',\n",
       " 'b40.rcp4_5.2deg.wcm.fixODS2000.003']"
      ]
     },
     "execution_count": 4,
     "metadata": {},
     "output_type": "execute_result"
    }
   ],
   "source": [
    "#establish initial root directory and modify it to be a list of strings,\n",
    "    #not integers\n",
    "\n",
    "rootdir = 'Data/'\n",
    "\n",
    "dirnames = os.listdir(rootdir)\n",
    "dirnames = list(map(str, dirnames))\n",
    "dirnames"
   ]
  },
  {
   "cell_type": "code",
   "execution_count": 5,
   "metadata": {},
   "outputs": [],
   "source": [
    "#establish full directories for each run\n",
    "\n",
    "#WACCM4 2Deg Warming RCP 45 Run1\n",
    "datadir_RCP45_Sim1 = rootdir + dirnames[6] +'/atm'+'/interp/'\n",
    "#WACCM4 2Deg Warming RCP 45 Run2\n",
    "datadir_RCP45_Sim2 = rootdir + dirnames[7] +'/atm'+'/interp/'   \n",
    "#WACCM4 2Deg Warming RCP 45 Run3\n",
    "datadir_RCP45_Sim3 = rootdir + dirnames[8] +'/atm'+'/interp/'\n",
    "#WACCM4 2Deg Warming fixODS RCP 45 Run1\n",
    "datadir_fixODS_Sim1 = rootdir + dirnames[9] +'/atm'+'/interp/'    \n",
    "#WACCM4 2Deg Warming fixODS RCP 45 Run2\n",
    "datadir_fixODS_Sim2 = rootdir + dirnames[10] +'/atm'+'/interp/'\n",
    "#WACCM4 2Deg Warming fixODS RCP 45 Run3\n",
    "datadir_fixODS_Sim3 = rootdir + dirnames[11] +'/atm'+'/interp/'\n",
    "#WACCM4 2Deg Warming waLMP RCP 45 Run1\n",
    "datadir_waAVD_Sim1 = rootdir + dirnames[2] +'/atm'+'/interp/'\n",
    "#WACCM4 2Deg Warming waLMP RCP 45 Run2\n",
    "datadir_waAVD_Sim2 = rootdir + dirnames[3] +'/atm'+'/interp/'\n",
    "#WACCM4 2Deg Warming waLMP RCP 45 Run3\n",
    "datadir_waAVD_Sim3 = rootdir + dirnames[4] +'/atm'+'/interp/'"
   ]
  },
  {
   "cell_type": "code",
   "execution_count": 6,
   "metadata": {},
   "outputs": [],
   "source": [
    "Datadir_RCP45 = [datadir_RCP45_Sim1,\\\n",
    "               datadir_RCP45_Sim2,\\\n",
    "               datadir_RCP45_Sim3]\n",
    "Datadir_fixODS2000 = [datadir_fixODS_Sim1,\\\n",
    "               datadir_fixODS_Sim2,\\\n",
    "               datadir_fixODS_Sim3]\n",
    "Datadir_wAVD = [datadir_waAVD_Sim1,\\\n",
    "               datadir_waAVD_Sim2,\\\n",
    "               datadir_waAVD_Sim3]"
   ]
  },
  {
   "cell_type": "code",
   "execution_count": 7,
   "metadata": {},
   "outputs": [],
   "source": [
    "#Read in all WACCM Temperature Data\n",
    "\n",
    "RCP45 = dict()\n",
    "for s in range(len(Sims)):\n",
    "    RCP45[Sims[s]] = dict()\n",
    "    for m in range(len(Months)):\n",
    "        RCP45[Sims[s]][Months[m]] = dict()\n",
    "        for y in range(len(Years)):\n",
    "            try:\n",
    "                files_RCP45 = Datadir_RCP45[s]+'T.'+Years[y]+\\\n",
    "                '.'+Months[m]+'.Arctic.nc'\n",
    "                RCP45_nc = Dataset(files_RCP45)\n",
    "                RCP45[Sims[s]][Months[m]][Years[y]] = \\\n",
    "                np.squeeze(RCP45_nc.variables['T'])\n",
    "                RCP45_nc.close()\n",
    "            except:\n",
    "                pass\n",
    "\n",
    "fixODS2000 = dict()\n",
    "for s in range(len(Sims)):\n",
    "    fixODS2000[Sims[s]] = dict()\n",
    "    for m in range(len(Months)):\n",
    "        fixODS2000[Sims[s]][Months[m]] = dict()\n",
    "        for y in range(len(Years_fixODS)):\n",
    "            try:\n",
    "                files_fixODS2000 = Datadir_fixODS2000[s]+'T.'+Years_fixODS[y]+\\\n",
    "                '.'+Months[m]+'.Arctic.nc'\n",
    "                fixODS2000_nc = Dataset(files_fixODS2000)\n",
    "                fixODS2000[Sims[s]][Months[m]][Years_fixODS[y]] = \\\n",
    "                np.squeeze(fixODS2000_nc.variables['T'])\n",
    "                fixODS2000_nc.close()\n",
    "            except:\n",
    "                pass\n",
    "                \n",
    "wAVD = dict()\n",
    "for s in range(len(Sims)):\n",
    "    wAVD[Sims[s]] = dict()\n",
    "    for m in range(len(Months)):\n",
    "        wAVD[Sims[s]][Months[m]] = dict()\n",
    "        for y in range(len(Years_wAVD)):\n",
    "            try:\n",
    "                files_wAVD = Datadir_wAVD[s]+'T.'+Years_wAVD[y]+\\\n",
    "                '.'+Months[m]+'.Arctic.nc'\n",
    "                wAVD_nc = Dataset(files_wAVD)\n",
    "                wAVD[Sims[s]][Months[m]][Years_wAVD[y]] = \\\n",
    "                np.squeeze(wAVD_nc.variables['T'])\n",
    "                wAVD_nc.close()\n",
    "            except:\n",
    "                pass"
   ]
  },
  {
   "cell_type": "code",
   "execution_count": 8,
   "metadata": {},
   "outputs": [],
   "source": [
    "#we need to fix the fill \n",
    "    #value issue before we can do anything else to the data\n",
    "        #to do this, we just mask all values that are considered fill values\n",
    "\n",
    "for s in range(len(Sims)):\n",
    "    for m in range(len(Months)):\n",
    "        for y in range(len(Years)):\n",
    "            try:\n",
    "                RCP45[Sims[s]][Months[m]][Years[y]] = np.ma.masked_equal(\\\n",
    "                RCP45[Sims[s]][Months[m]][Years[y]], 9.96921e+36)\n",
    "            except:\n",
    "                pass\n",
    "\n",
    "for s in range(len(Sims)):\n",
    "    for m in range(len(Months)):\n",
    "        for y in range(len(Years_fixODS)):\n",
    "            try:\n",
    "                fixODS2000[Sims[s]][Months[m]][Years_fixODS[y]] = np.ma.masked_equal(\\\n",
    "                fixODS2000[Sims[s]][Months[m]][Years_fixODS[y]], 9.96921e+36)\n",
    "            except:\n",
    "                pass\n",
    "            \n",
    "for s in range(len(Sims)):\n",
    "    for m in range(len(Months)):\n",
    "        for y in range(len(Years_wAVD)):\n",
    "            try:\n",
    "                wAVD[Sims[s]][Months[m]][Years_wAVD[y]] = np.ma.masked_equal(\\\n",
    "                wAVD[Sims[s]][Months[m]][Years_wAVD[y]], 9.96921e+36)\n",
    "            except:\n",
    "                pass"
   ]
  },
  {
   "cell_type": "code",
   "execution_count": 9,
   "metadata": {},
   "outputs": [],
   "source": [
    "#Get other variables of interest\n",
    "\n",
    "Get_Pressure_File = datadir_RCP45_Sim1+'T.2005.01.Arctic.nc'\n",
    "Get_Pressure_nc = Dataset(Get_Pressure_File)\n",
    "Pressure = np.squeeze(Get_Pressure_nc.variables['lev_p'])\n",
    "Lat = np.squeeze(Get_Pressure_nc.variables['lat'])\n",
    "Lon = np.squeeze(Get_Pressure_nc.variables['lon'])\n",
    "Get_Pressure_nc.close()\n",
    "Pressure_L = np.log10(Pressure)"
   ]
  },
  {
   "cell_type": "code",
   "execution_count": 10,
   "metadata": {},
   "outputs": [
    {
     "data": {
      "text/plain": [
       "array([1.00e-01, 5.00e-01, 1.00e+00, 2.00e+00, 3.00e+00, 5.00e+00,\n",
       "       1.00e+01, 2.00e+01, 3.00e+01, 5.00e+01, 7.00e+01, 1.00e+02,\n",
       "       1.50e+02, 2.00e+02, 2.50e+02, 3.00e+02, 4.00e+02, 5.00e+02,\n",
       "       6.00e+02, 7.00e+02, 8.50e+02, 9.25e+02, 1.00e+03], dtype=float32)"
      ]
     },
     "execution_count": 10,
     "metadata": {},
     "output_type": "execute_result"
    }
   ],
   "source": [
    "Pressure"
   ]
  },
  {
   "cell_type": "code",
   "execution_count": 11,
   "metadata": {},
   "outputs": [
    {
     "data": {
      "text/plain": [
       "23"
      ]
     },
     "execution_count": 11,
     "metadata": {},
     "output_type": "execute_result"
    }
   ],
   "source": [
    "Pressure_named = ['0.1','0.5','1','2','3','5','10','20','30','50','70','100','150',\\\n",
    "                  '','250','','400','','','700','','','1000']\n",
    "len(Pressure_named)"
   ]
  },
  {
   "cell_type": "code",
   "execution_count": 12,
   "metadata": {},
   "outputs": [
    {
     "name": "stderr",
     "output_type": "stream",
     "text": [
      "/Users/johnvirgin/anaconda3/lib/python3.6/site-packages/ipykernel_launcher.py:3: DeprecationWarning: \n",
      "Panel is deprecated and will be removed in a future version.\n",
      "The recommended way to represent these types of 3-dimensional data are with a MultiIndex on a DataFrame, via the Panel.to_frame() method\n",
      "Alternatively, you can use the xarray package http://xarray.pydata.org/en/stable/.\n",
      "Pandas provides a `.to_xarray()` method to help automate this conversion.\n",
      "\n",
      "  This is separate from the ipykernel package so we can avoid doing imports until\n",
      "/Users/johnvirgin/anaconda3/lib/python3.6/site-packages/ipykernel_launcher.py:4: DeprecationWarning: \n",
      "Panel is deprecated and will be removed in a future version.\n",
      "The recommended way to represent these types of 3-dimensional data are with a MultiIndex on a DataFrame, via the Panel.to_frame() method\n",
      "Alternatively, you can use the xarray package http://xarray.pydata.org/en/stable/.\n",
      "Pandas provides a `.to_xarray()` method to help automate this conversion.\n",
      "\n",
      "  after removing the cwd from sys.path.\n",
      "/Users/johnvirgin/anaconda3/lib/python3.6/site-packages/ipykernel_launcher.py:5: DeprecationWarning: \n",
      "Panel is deprecated and will be removed in a future version.\n",
      "The recommended way to represent these types of 3-dimensional data are with a MultiIndex on a DataFrame, via the Panel.to_frame() method\n",
      "Alternatively, you can use the xarray package http://xarray.pydata.org/en/stable/.\n",
      "Pandas provides a `.to_xarray()` method to help automate this conversion.\n",
      "\n",
      "  \"\"\"\n"
     ]
    }
   ],
   "source": [
    "#Turn dictionaries into Panels for grouping purposes\n",
    "\n",
    "RCP45_Panel = pd.Panel.from_dict(RCP45, orient = 'items')\n",
    "fixODS2000_Panel = pd.Panel.from_dict(fixODS2000, orient = 'items')\n",
    "wAVD_Panel = pd.Panel.from_dict(wAVD, orient = 'items')"
   ]
  },
  {
   "cell_type": "markdown",
   "metadata": {},
   "source": [
    "## Calculate Decadal Averages and Differences for All Seasons and Runs"
   ]
  },
  {
   "cell_type": "markdown",
   "metadata": {},
   "source": [
    "RCP45"
   ]
  },
  {
   "cell_type": "code",
   "execution_count": 13,
   "metadata": {},
   "outputs": [
    {
     "data": {
      "text/plain": [
       "(23, 16, 144)"
      ]
     },
     "execution_count": 13,
     "metadata": {},
     "output_type": "execute_result"
    }
   ],
   "source": [
    "#Have to do december different for DJF Remember\n",
    "#DJF\n",
    "RCP45_1DA_D_Avg = RCP45_Panel.loc['Sim1':'Sim3','2005':'2014','12']\n",
    "RCP45_1DA_D_Avg = np.asarray(RCP45_1DA_D_Avg)\n",
    "RCP45_1DA_D_Avg = np.mean(RCP45_1DA_D_Avg, axis=(0,1))\n",
    "\n",
    "RCP45_2DA_D_Avg = RCP45_Panel.loc['Sim1':'Sim3','2055':'2064','12']\n",
    "RCP45_2DA_D_Avg = np.asarray(RCP45_2DA_D_Avg)\n",
    "RCP45_2DA_D_Avg = np.mean(RCP45_2DA_D_Avg, axis=(0,1))\n",
    "\n",
    "RCP45_D_DD = RCP45_2DA_D_Avg-RCP45_1DA_D_Avg\n",
    "\n",
    "RCP45_1DA_JF_Avg = RCP45_Panel.loc['Sim1':'Sim3','2006':'2015','01':'02']\n",
    "RCP45_1DA_JF_Avg = np.asarray(RCP45_1DA_JF_Avg)\n",
    "RCP45_1DA_JF_Avg = np.mean(RCP45_1DA_JF_Avg, axis=(0,1,2))\n",
    "\n",
    "RCP45_2DA_JF_Avg = RCP45_Panel.loc['Sim1':'Sim3','2056':'2065','01':'02']\n",
    "RCP45_2DA_JF_Avg = np.asarray(RCP45_2DA_JF_Avg)\n",
    "RCP45_2DA_JF_Avg = np.mean(RCP45_2DA_JF_Avg, axis=(0,1,2))\n",
    "\n",
    "RCP45_JF_DD = RCP45_2DA_JF_Avg-RCP45_1DA_JF_Avg\n",
    "\n",
    "RCP45_DJF_DD = np.ma.mean((RCP45_D_DD,RCP45_JF_DD),axis=0)\n",
    "RCP45_1DA_DJF_Avg = np.ma.mean((RCP45_1DA_D_Avg,RCP45_1DA_JF_Avg),axis=0) \n",
    "RCP45_2DA_DJF_Avg = np.ma.mean((RCP45_2DA_D_Avg,RCP45_2DA_JF_Avg),axis=0)\n",
    "RCP45_2DA_DJF_Avg.shape"
   ]
  },
  {
   "cell_type": "code",
   "execution_count": 14,
   "metadata": {},
   "outputs": [
    {
     "data": {
      "text/plain": [
       "(23, 16, 144)"
      ]
     },
     "execution_count": 14,
     "metadata": {},
     "output_type": "execute_result"
    }
   ],
   "source": [
    "#MAM\n",
    "\n",
    "RCP45_1DA_MAM_Avg = RCP45_Panel.loc['Sim1':'Sim3','2006':'2015','03':'05']\n",
    "RCP45_1DA_MAM_Avg = np.asarray(RCP45_1DA_MAM_Avg)\n",
    "RCP45_1DA_MAM_Avg = np.mean(RCP45_1DA_MAM_Avg, axis=(0,1,2))\n",
    "\n",
    "RCP45_2DA_MAM_Avg = RCP45_Panel.loc['Sim1':'Sim3','2056':'2065','03':'05']\n",
    "RCP45_2DA_MAM_Avg = np.asarray(RCP45_2DA_MAM_Avg)\n",
    "RCP45_2DA_MAM_Avg = np.mean(RCP45_2DA_MAM_Avg, axis=(0,1,2))\n",
    "\n",
    "RCP45_MAM_DD = RCP45_2DA_MAM_Avg-RCP45_1DA_MAM_Avg\n",
    "RCP45_MAM_DD.shape"
   ]
  },
  {
   "cell_type": "code",
   "execution_count": 15,
   "metadata": {},
   "outputs": [
    {
     "data": {
      "text/plain": [
       "(23, 16, 144)"
      ]
     },
     "execution_count": 15,
     "metadata": {},
     "output_type": "execute_result"
    }
   ],
   "source": [
    "#JJA\n",
    "\n",
    "RCP45_1DA_JJA_Avg = RCP45_Panel.loc['Sim1':'Sim3','2006':'2015','06':'08']\n",
    "RCP45_1DA_JJA_Avg = np.asarray(RCP45_1DA_JJA_Avg)\n",
    "RCP45_1DA_JJA_Avg = np.mean(RCP45_1DA_JJA_Avg, axis=(0,1,2))\n",
    "\n",
    "RCP45_2DA_JJA_Avg = RCP45_Panel.loc['Sim1':'Sim3','2056':'2065','06':'08']\n",
    "RCP45_2DA_JJA_Avg = np.asarray(RCP45_2DA_JJA_Avg)\n",
    "RCP45_2DA_JJA_Avg = np.mean(RCP45_2DA_JJA_Avg, axis=(0,1,2))\n",
    "\n",
    "RCP45_JJA_DD = RCP45_2DA_JJA_Avg-RCP45_1DA_JJA_Avg\n",
    "RCP45_JJA_DD.shape"
   ]
  },
  {
   "cell_type": "code",
   "execution_count": 16,
   "metadata": {},
   "outputs": [
    {
     "data": {
      "text/plain": [
       "(23, 16, 144)"
      ]
     },
     "execution_count": 16,
     "metadata": {},
     "output_type": "execute_result"
    }
   ],
   "source": [
    "#SON\n",
    "\n",
    "RCP45_1DA_SON_Avg = RCP45_Panel.loc['Sim1':'Sim3','2006':'2015','09':'11']\n",
    "RCP45_1DA_SON_Avg = np.asarray(RCP45_1DA_SON_Avg)\n",
    "RCP45_1DA_SON_Avg = np.mean(RCP45_1DA_SON_Avg, axis=(0,1,2))\n",
    "\n",
    "RCP45_2DA_SON_Avg = RCP45_Panel.loc['Sim1':'Sim3','2056':'2065','09':'11']\n",
    "RCP45_2DA_SON_Avg = np.asarray(RCP45_2DA_SON_Avg)\n",
    "RCP45_2DA_SON_Avg = np.mean(RCP45_2DA_SON_Avg, axis=(0,1,2))\n",
    "\n",
    "RCP45_SON_DD = RCP45_2DA_SON_Avg-RCP45_1DA_SON_Avg\n",
    "RCP45_SON_DD.shape"
   ]
  },
  {
   "cell_type": "markdown",
   "metadata": {},
   "source": [
    "fixODS2000"
   ]
  },
  {
   "cell_type": "code",
   "execution_count": 17,
   "metadata": {},
   "outputs": [
    {
     "data": {
      "text/plain": [
       "(23, 16, 144)"
      ]
     },
     "execution_count": 17,
     "metadata": {},
     "output_type": "execute_result"
    }
   ],
   "source": [
    "#Have to do december different for DJF Remember\n",
    "#DJF\n",
    "fixODS2000_1DA_D_Avg = fixODS2000_Panel.loc['Sim1':'Sim3','2005':'2014','12']\n",
    "fixODS2000_1DA_D_Avg = np.asarray(fixODS2000_1DA_D_Avg)\n",
    "fixODS2000_1DA_D_Avg = np.mean(fixODS2000_1DA_D_Avg, axis=(0,1))\n",
    "\n",
    "fixODS2000_2DA_D_Avg = fixODS2000_Panel.loc['Sim1':'Sim3','2055':'2064','12']\n",
    "fixODS2000_2DA_D_Avg = np.asarray(fixODS2000_2DA_D_Avg)\n",
    "fixODS2000_2DA_D_Avg = np.mean(fixODS2000_2DA_D_Avg, axis=(0,1))\n",
    "\n",
    "fixODS2000_D_DD = fixODS2000_2DA_D_Avg-fixODS2000_1DA_D_Avg\n",
    "\n",
    "fixODS2000_1DA_JF_Avg = fixODS2000_Panel.loc['Sim1':'Sim3','2006':'2015','01':'02']\n",
    "fixODS2000_1DA_JF_Avg = np.asarray(fixODS2000_1DA_JF_Avg)\n",
    "fixODS2000_1DA_JF_Avg = np.mean(fixODS2000_1DA_JF_Avg, axis=(0,1,2))\n",
    "\n",
    "fixODS2000_2DA_JF_Avg = fixODS2000_Panel.loc['Sim1':'Sim3','2056':'2065','01':'02']\n",
    "fixODS2000_2DA_JF_Avg = np.asarray(fixODS2000_2DA_JF_Avg)\n",
    "fixODS2000_2DA_JF_Avg = np.mean(fixODS2000_2DA_JF_Avg, axis=(0,1,2))\n",
    "\n",
    "fixODS2000_JF_DD = fixODS2000_2DA_JF_Avg-fixODS2000_1DA_JF_Avg\n",
    "\n",
    "fixODS2000_DJF_DD = np.ma.mean((fixODS2000_D_DD,fixODS2000_JF_DD),axis=0)\n",
    "fixODS2000_1DA_DJF_Avg = np.ma.mean((fixODS2000_1DA_D_Avg,fixODS2000_1DA_JF_Avg),axis=0) \n",
    "fixODS2000_2DA_DJF_Avg = np.ma.mean((fixODS2000_2DA_D_Avg,fixODS2000_2DA_JF_Avg),axis=0)\n",
    "fixODS2000_2DA_DJF_Avg.shape"
   ]
  },
  {
   "cell_type": "code",
   "execution_count": 18,
   "metadata": {},
   "outputs": [
    {
     "data": {
      "text/plain": [
       "(23, 16, 144)"
      ]
     },
     "execution_count": 18,
     "metadata": {},
     "output_type": "execute_result"
    }
   ],
   "source": [
    "#MAM\n",
    "\n",
    "fixODS2000_1DA_MAM_Avg = fixODS2000_Panel.loc['Sim1':'Sim3','2006':'2015','03':'05']\n",
    "fixODS2000_1DA_MAM_Avg = np.asarray(fixODS2000_1DA_MAM_Avg)\n",
    "fixODS2000_1DA_MAM_Avg = np.mean(fixODS2000_1DA_MAM_Avg, axis=(0,1,2))\n",
    "\n",
    "fixODS2000_2DA_MAM_Avg = fixODS2000_Panel.loc['Sim1':'Sim3','2056':'2065','03':'05']\n",
    "fixODS2000_2DA_MAM_Avg = np.asarray(fixODS2000_2DA_MAM_Avg)\n",
    "fixODS2000_2DA_MAM_Avg = np.mean(fixODS2000_2DA_MAM_Avg, axis=(0,1,2))\n",
    "\n",
    "fixODS2000_MAM_DD = fixODS2000_2DA_MAM_Avg-fixODS2000_1DA_MAM_Avg\n",
    "fixODS2000_MAM_DD.shape"
   ]
  },
  {
   "cell_type": "code",
   "execution_count": 19,
   "metadata": {},
   "outputs": [
    {
     "data": {
      "text/plain": [
       "(23, 16, 144)"
      ]
     },
     "execution_count": 19,
     "metadata": {},
     "output_type": "execute_result"
    }
   ],
   "source": [
    "#JJA\n",
    "\n",
    "fixODS2000_1DA_JJA_Avg = fixODS2000_Panel.loc['Sim1':'Sim3','2006':'2015','06':'08']\n",
    "fixODS2000_1DA_JJA_Avg = np.asarray(fixODS2000_1DA_JJA_Avg)\n",
    "fixODS2000_1DA_JJA_Avg = np.mean(fixODS2000_1DA_JJA_Avg, axis=(0,1,2))\n",
    "\n",
    "fixODS2000_2DA_JJA_Avg = fixODS2000_Panel.loc['Sim1':'Sim3','2056':'2065','06':'08']\n",
    "fixODS2000_2DA_JJA_Avg = np.asarray(fixODS2000_2DA_JJA_Avg)\n",
    "fixODS2000_2DA_JJA_Avg = np.mean(fixODS2000_2DA_JJA_Avg, axis=(0,1,2))\n",
    "\n",
    "fixODS2000_JJA_DD = fixODS2000_2DA_JJA_Avg-fixODS2000_1DA_JJA_Avg\n",
    "fixODS2000_JJA_DD.shape"
   ]
  },
  {
   "cell_type": "code",
   "execution_count": 20,
   "metadata": {},
   "outputs": [
    {
     "data": {
      "text/plain": [
       "(23, 16, 144)"
      ]
     },
     "execution_count": 20,
     "metadata": {},
     "output_type": "execute_result"
    }
   ],
   "source": [
    "#SON\n",
    "\n",
    "fixODS2000_1DA_SON_Avg = fixODS2000_Panel.loc['Sim1':'Sim3','2006':'2015','09':'11']\n",
    "fixODS2000_1DA_SON_Avg = np.asarray(fixODS2000_1DA_SON_Avg)\n",
    "fixODS2000_1DA_SON_Avg = np.mean(fixODS2000_1DA_SON_Avg, axis=(0,1,2))\n",
    "\n",
    "fixODS2000_2DA_SON_Avg = fixODS2000_Panel.loc['Sim1':'Sim3','2056':'2065','09':'11']\n",
    "fixODS2000_2DA_SON_Avg = np.asarray(fixODS2000_2DA_SON_Avg)\n",
    "fixODS2000_2DA_SON_Avg = np.mean(fixODS2000_2DA_SON_Avg, axis=(0,1,2))\n",
    "\n",
    "fixODS2000_SON_DD = fixODS2000_2DA_SON_Avg-fixODS2000_1DA_SON_Avg\n",
    "fixODS2000_SON_DD.shape"
   ]
  },
  {
   "cell_type": "markdown",
   "metadata": {},
   "source": [
    "wAVD"
   ]
  },
  {
   "cell_type": "code",
   "execution_count": 21,
   "metadata": {},
   "outputs": [
    {
     "data": {
      "text/plain": [
       "(23, 16, 144)"
      ]
     },
     "execution_count": 21,
     "metadata": {},
     "output_type": "execute_result"
    }
   ],
   "source": [
    "#Have to do december different for DJF Remember\n",
    "#DJF\n",
    "wAVD_1DA_D_Avg = wAVD_Panel.loc['Sim1':'Sim3','2005':'2014','12']\n",
    "wAVD_1DA_D_Avg = np.asarray(wAVD_1DA_D_Avg)\n",
    "wAVD_1DA_D_Avg = np.mean(wAVD_1DA_D_Avg, axis=(0,1))\n",
    "\n",
    "wAVD_2DA_D_Avg = wAVD_Panel.loc['Sim1':'Sim3','2055':'2064','12']\n",
    "wAVD_2DA_D_Avg = np.asarray(wAVD_2DA_D_Avg)\n",
    "wAVD_2DA_D_Avg = np.mean(wAVD_2DA_D_Avg, axis=(0,1))\n",
    "\n",
    "wAVD_D_DD = wAVD_2DA_D_Avg-wAVD_1DA_D_Avg\n",
    "\n",
    "wAVD_1DA_JF_Avg = wAVD_Panel.loc['Sim1':'Sim3','2006':'2015','01':'02']\n",
    "wAVD_1DA_JF_Avg = np.asarray(wAVD_1DA_JF_Avg)\n",
    "wAVD_1DA_JF_Avg = np.mean(wAVD_1DA_JF_Avg, axis=(0,1,2))\n",
    "\n",
    "wAVD_2DA_JF_Avg = wAVD_Panel.loc['Sim1':'Sim3','2056':'2065','01':'02']\n",
    "wAVD_2DA_JF_Avg = np.asarray(wAVD_2DA_JF_Avg)\n",
    "wAVD_2DA_JF_Avg = np.mean(wAVD_2DA_JF_Avg, axis=(0,1,2))\n",
    "\n",
    "wAVD_JF_DD = wAVD_2DA_JF_Avg-wAVD_1DA_JF_Avg\n",
    "\n",
    "wAVD_DJF_DD = np.ma.mean((wAVD_D_DD,wAVD_JF_DD),axis=0)\n",
    "wAVD_1DA_DJF_Avg = np.ma.mean((wAVD_1DA_D_Avg,wAVD_1DA_JF_Avg),axis=0) \n",
    "wAVD_2DA_DJF_Avg = np.ma.mean((wAVD_2DA_D_Avg,wAVD_2DA_JF_Avg),axis=0)\n",
    "wAVD_2DA_DJF_Avg.shape"
   ]
  },
  {
   "cell_type": "code",
   "execution_count": 22,
   "metadata": {},
   "outputs": [
    {
     "data": {
      "text/plain": [
       "(23, 16, 144)"
      ]
     },
     "execution_count": 22,
     "metadata": {},
     "output_type": "execute_result"
    }
   ],
   "source": [
    "#MAM\n",
    "\n",
    "wAVD_1DA_MAM_Avg = wAVD_Panel.loc['Sim1':'Sim3','2006':'2015','03':'05']\n",
    "wAVD_1DA_MAM_Avg = np.asarray(wAVD_1DA_MAM_Avg)\n",
    "wAVD_1DA_MAM_Avg = np.mean(wAVD_1DA_MAM_Avg, axis=(0,1,2))\n",
    "\n",
    "wAVD_2DA_MAM_Avg = wAVD_Panel.loc['Sim1':'Sim3','2056':'2065','03':'05']\n",
    "wAVD_2DA_MAM_Avg = np.asarray(wAVD_2DA_MAM_Avg)\n",
    "wAVD_2DA_MAM_Avg = np.mean(wAVD_2DA_MAM_Avg, axis=(0,1,2))\n",
    "\n",
    "wAVD_MAM_DD = wAVD_2DA_MAM_Avg-wAVD_1DA_MAM_Avg\n",
    "wAVD_MAM_DD.shape"
   ]
  },
  {
   "cell_type": "code",
   "execution_count": 23,
   "metadata": {},
   "outputs": [
    {
     "data": {
      "text/plain": [
       "(23, 16, 144)"
      ]
     },
     "execution_count": 23,
     "metadata": {},
     "output_type": "execute_result"
    }
   ],
   "source": [
    "#JJA\n",
    "\n",
    "wAVD_1DA_JJA_Avg = wAVD_Panel.loc['Sim1':'Sim3','2006':'2015','06':'08']\n",
    "wAVD_1DA_JJA_Avg = np.asarray(wAVD_1DA_JJA_Avg)\n",
    "wAVD_1DA_JJA_Avg = np.mean(wAVD_1DA_JJA_Avg, axis=(0,1,2))\n",
    "\n",
    "wAVD_2DA_JJA_Avg = wAVD_Panel.loc['Sim1':'Sim3','2056':'2065','06':'08']\n",
    "wAVD_2DA_JJA_Avg = np.asarray(wAVD_2DA_JJA_Avg)\n",
    "wAVD_2DA_JJA_Avg = np.mean(wAVD_2DA_JJA_Avg, axis=(0,1,2))\n",
    "\n",
    "wAVD_JJA_DD = wAVD_2DA_JJA_Avg-wAVD_1DA_JJA_Avg\n",
    "wAVD_JJA_DD.shape"
   ]
  },
  {
   "cell_type": "code",
   "execution_count": 24,
   "metadata": {},
   "outputs": [
    {
     "data": {
      "text/plain": [
       "(23, 16, 144)"
      ]
     },
     "execution_count": 24,
     "metadata": {},
     "output_type": "execute_result"
    }
   ],
   "source": [
    "#SON\n",
    "\n",
    "wAVD_1DA_SON_Avg = wAVD_Panel.loc['Sim1':'Sim3','2006':'2015','09':'11']\n",
    "wAVD_1DA_SON_Avg = np.asarray(wAVD_1DA_SON_Avg)\n",
    "wAVD_1DA_SON_Avg = np.mean(wAVD_1DA_SON_Avg, axis=(0,1,2))\n",
    "\n",
    "wAVD_2DA_SON_Avg = wAVD_Panel.loc['Sim1':'Sim3','2056':'2065','09':'11']\n",
    "wAVD_2DA_SON_Avg = np.asarray(wAVD_2DA_SON_Avg)\n",
    "wAVD_2DA_SON_Avg = np.mean(wAVD_2DA_SON_Avg, axis=(0,1,2))\n",
    "\n",
    "wAVD_SON_DD = wAVD_2DA_SON_Avg-wAVD_1DA_SON_Avg\n",
    "wAVD_SON_DD.shape"
   ]
  },
  {
   "cell_type": "markdown",
   "metadata": {},
   "source": [
    "## Area Average All Variables"
   ]
  },
  {
   "cell_type": "code",
   "execution_count": 25,
   "metadata": {},
   "outputs": [
    {
     "data": {
      "text/plain": [
       "(23,)"
      ]
     },
     "execution_count": 25,
     "metadata": {},
     "output_type": "execute_result"
    }
   ],
   "source": [
    "RCP45_DJF_1D_AA = Area_Avg.LatLonavg_Time(RCP45_1DA_DJF_Avg, Lat, Lon)\n",
    "RCP45_MAM_1D_AA = Area_Avg.LatLonavg_Time(RCP45_1DA_MAM_Avg, Lat, Lon)\n",
    "RCP45_JJA_1D_AA = Area_Avg.LatLonavg_Time(RCP45_1DA_JJA_Avg, Lat, Lon)\n",
    "RCP45_SON_1D_AA = Area_Avg.LatLonavg_Time(RCP45_1DA_SON_Avg, Lat, Lon)\n",
    "            \n",
    "fixODS2000_DJF_1D_AA = Area_Avg.LatLonavg_Time(fixODS2000_1DA_DJF_Avg, Lat, Lon)\n",
    "fixODS2000_MAM_1D_AA = Area_Avg.LatLonavg_Time(fixODS2000_1DA_MAM_Avg, Lat, Lon)\n",
    "fixODS2000_JJA_1D_AA = Area_Avg.LatLonavg_Time(fixODS2000_1DA_JJA_Avg, Lat, Lon)\n",
    "fixODS2000_SON_1D_AA = Area_Avg.LatLonavg_Time(fixODS2000_1DA_SON_Avg, Lat, Lon)\n",
    "\n",
    "wAVD_DJF_1D_AA = Area_Avg.LatLonavg_Time(wAVD_1DA_DJF_Avg, Lat, Lon)\n",
    "wAVD_MAM_1D_AA = Area_Avg.LatLonavg_Time(wAVD_1DA_MAM_Avg, Lat, Lon)\n",
    "wAVD_JJA_1D_AA = Area_Avg.LatLonavg_Time(wAVD_1DA_JJA_Avg, Lat, Lon)\n",
    "wAVD_SON_1D_AA = Area_Avg.LatLonavg_Time(wAVD_1DA_SON_Avg, Lat, Lon)\n",
    "\n",
    "wAVD_SON_1D_AA.shape"
   ]
  },
  {
   "cell_type": "code",
   "execution_count": 26,
   "metadata": {},
   "outputs": [
    {
     "data": {
      "text/plain": [
       "(23,)"
      ]
     },
     "execution_count": 26,
     "metadata": {},
     "output_type": "execute_result"
    }
   ],
   "source": [
    "RCP45_DJF_2D_AA = Area_Avg.LatLonavg_Time(RCP45_2DA_DJF_Avg, Lat, Lon)\n",
    "RCP45_MAM_2D_AA = Area_Avg.LatLonavg_Time(RCP45_2DA_MAM_Avg, Lat, Lon)\n",
    "RCP45_JJA_2D_AA = Area_Avg.LatLonavg_Time(RCP45_2DA_JJA_Avg, Lat, Lon)\n",
    "RCP45_SON_2D_AA = Area_Avg.LatLonavg_Time(RCP45_2DA_SON_Avg, Lat, Lon)\n",
    "            \n",
    "fixODS2000_DJF_2D_AA = Area_Avg.LatLonavg_Time(fixODS2000_2DA_DJF_Avg, Lat, Lon)\n",
    "fixODS2000_MAM_2D_AA = Area_Avg.LatLonavg_Time(fixODS2000_2DA_MAM_Avg, Lat, Lon)\n",
    "fixODS2000_JJA_2D_AA = Area_Avg.LatLonavg_Time(fixODS2000_2DA_JJA_Avg, Lat, Lon)\n",
    "fixODS2000_SON_2D_AA = Area_Avg.LatLonavg_Time(fixODS2000_2DA_SON_Avg, Lat, Lon)\n",
    "\n",
    "wAVD_DJF_2D_AA = Area_Avg.LatLonavg_Time(wAVD_2DA_DJF_Avg, Lat, Lon)\n",
    "wAVD_MAM_2D_AA = Area_Avg.LatLonavg_Time(wAVD_2DA_MAM_Avg, Lat, Lon)\n",
    "wAVD_JJA_2D_AA = Area_Avg.LatLonavg_Time(wAVD_2DA_JJA_Avg, Lat, Lon)\n",
    "wAVD_SON_2D_AA = Area_Avg.LatLonavg_Time(wAVD_2DA_SON_Avg, Lat, Lon)\n",
    "\n",
    "wAVD_SON_2D_AA.shape"
   ]
  },
  {
   "cell_type": "code",
   "execution_count": 27,
   "metadata": {},
   "outputs": [
    {
     "data": {
      "text/plain": [
       "(23,)"
      ]
     },
     "execution_count": 27,
     "metadata": {},
     "output_type": "execute_result"
    }
   ],
   "source": [
    "#area average (AA) all files\n",
    "\n",
    "RCP45_DJF_DD_AA = Area_Avg.LatLonavg_Time(RCP45_DJF_DD, Lat, Lon)\n",
    "RCP45_MAM_DD_AA = Area_Avg.LatLonavg_Time(RCP45_MAM_DD, Lat, Lon)\n",
    "RCP45_JJA_DD_AA = Area_Avg.LatLonavg_Time(RCP45_JJA_DD, Lat, Lon)\n",
    "RCP45_SON_DD_AA = Area_Avg.LatLonavg_Time(RCP45_SON_DD, Lat, Lon)\n",
    "            \n",
    "fixODS2000_DJF_DD_AA = Area_Avg.LatLonavg_Time(fixODS2000_DJF_DD, Lat, Lon)\n",
    "fixODS2000_MAM_DD_AA = Area_Avg.LatLonavg_Time(fixODS2000_MAM_DD, Lat, Lon)\n",
    "fixODS2000_JJA_DD_AA = Area_Avg.LatLonavg_Time(fixODS2000_JJA_DD, Lat, Lon)\n",
    "fixODS2000_SON_DD_AA = Area_Avg.LatLonavg_Time(fixODS2000_SON_DD, Lat, Lon)\n",
    "\n",
    "wAVD_DJF_DD_AA = Area_Avg.LatLonavg_Time(wAVD_DJF_DD, Lat, Lon)\n",
    "wAVD_MAM_DD_AA = Area_Avg.LatLonavg_Time(wAVD_MAM_DD, Lat, Lon)\n",
    "wAVD_JJA_DD_AA = Area_Avg.LatLonavg_Time(wAVD_JJA_DD, Lat, Lon)\n",
    "wAVD_SON_DD_AA = Area_Avg.LatLonavg_Time(wAVD_SON_DD, Lat, Lon)\n",
    "\n",
    "wAVD_SON_DD_AA.shape"
   ]
  },
  {
   "cell_type": "markdown",
   "metadata": {},
   "source": [
    "## Latter and Former Decade Temperature Profiles"
   ]
  },
  {
   "cell_type": "markdown",
   "metadata": {},
   "source": [
    "plt.figure(figsize=(20,20))\n",
    "\n",
    "plt.subplot(2,2,1)\n",
    "plt.plot(RCP45_DJF_2D_AA,Pressure, color = 'r', label='RCP45')\n",
    "plt.plot(fixODS2000_DJF_2D_AA,Pressure, color = 'b', label='fixODS2000')\n",
    "plt.plot(wAVD_DJF_2D_AA,Pressure, color = 'g', label='wAVD')\n",
    "plt.title('DJF')\n",
    "plt.xlim(200,285)\n",
    "plt.xlabel('$\\Delta$ Temperature (K)')\n",
    "plt.ylabel('Pressure (hPa)')\n",
    "plt.axhline(250, color = 'k', linestyle = '--', label = 'Tropopause')\n",
    "plt.axhline(1, color = 'brown', linestyle = '--', label = 'Stratopause')\n",
    "plt.legend()\n",
    "plt.gca().invert_yaxis()\n",
    "\n",
    "plt.subplot(2,2,2)\n",
    "plt.plot(RCP45_MAM_2D_AA,Pressure, color = 'r', label='RCP45')\n",
    "plt.plot(fixODS2000_MAM_2D_AA,Pressure, color = 'b', label='fixODS2000')\n",
    "plt.plot(wAVD_MAM_2D_AA,Pressure, color = 'g', label='wAVD')\n",
    "plt.title('MAM')\n",
    "plt.xlim(200,285)\n",
    "plt.xlabel('$\\Delta$ Temperature (K)')\n",
    "plt.ylabel('Pressure (hPa)')\n",
    "plt.axhline(250, color = 'k', linestyle = '--', label = 'Tropopause')\n",
    "plt.axhline(1, color = 'brown', linestyle = '--', label = 'Stratopause')\n",
    "plt.legend()\n",
    "plt.gca().invert_yaxis()\n",
    "\n",
    "plt.subplot(2,2,3)\n",
    "plt.plot(RCP45_JJA_2D_AA,Pressure, color = 'r', label='RCP45')\n",
    "plt.plot(fixODS2000_JJA_2D_AA,Pressure, color = 'b', label='fixODS2000')\n",
    "plt.plot(wAVD_JJA_2D_AA,Pressure, color = 'g', label='wAVD')\n",
    "plt.title('JJA')\n",
    "plt.xlim(200,285)\n",
    "plt.xlabel('$\\Delta$ Temperature (K)')\n",
    "plt.ylabel('Pressure (hPa)')\n",
    "plt.axhline(250, color = 'k', linestyle = '--', label = 'Tropopause')\n",
    "plt.axhline(1, color = 'brown', linestyle = '--', label = 'Stratopause')\n",
    "plt.legend()\n",
    "plt.gca().invert_yaxis()\n",
    "\n",
    "plt.subplot(2,2,4)\n",
    "plt.plot(RCP45_SON_2D_AA,Pressure, color = 'r', label='RCP45')\n",
    "plt.plot(fixODS2000_SON_2D_AA,Pressure, color = 'b', label='fixODS2000')\n",
    "plt.plot(wAVD_SON_2D_AA,Pressure, color = 'g', label='wAVD')\n",
    "plt.title('SON')\n",
    "plt.xlim(200,285)\n",
    "plt.xlabel('$\\Delta$ Temperature (K)')\n",
    "plt.ylabel('Pressure (hPa)')\n",
    "plt.axhline(250, color = 'k', linestyle = '--', label = 'Tropopause')\n",
    "plt.axhline(1, color = 'brown', linestyle = '--', label = 'Stratopause')\n",
    "plt.legend()\n",
    "plt.gca().invert_yaxis()\n",
    "\n",
    "#plt.savefig('Latter Decade Averaged Seasonal Temperature Profiles.png')"
   ]
  },
  {
   "cell_type": "markdown",
   "metadata": {},
   "source": [
    "#plt.figure(figsize=(20,20))\n",
    "\n",
    "#plt.subplot(2,2,1)\n",
    "#plt.plot(RCP45_DJF_1D_AA,Pressure, color = 'r', label='RCP45')\n",
    "#plt.plot(fixODS2000_DJF_1D_AA,Pressure, color = 'b', label='fixODS2000')\n",
    "#plt.plot(wAVD_DJF_1D_AA,Pressure, color = 'g', label='wAVD')\n",
    "#plt.title('DJF')\n",
    "#plt.xlim(200,285)\n",
    "#plt.xlabel('$\\Delta$ Temperature (K)')\n",
    "#plt.ylabel('Pressure (hPa)')\n",
    "#plt.axhline(250, color = 'k', linestyle = '--', label = 'Tropopause')\n",
    "#plt.axhline(1, color = 'brown', linestyle = '--', label = 'Stratopause')\n",
    "#plt.legend()\n",
    "#plt.gca().invert_yaxis()\n",
    "\n",
    "#plt.subplot(2,2,2)\n",
    "#plt.plot(RCP45_MAM_1D_AA,Pressure, color = 'r', label='RCP45')\n",
    "#plt.plot(fixODS2000_MAM_1D_AA,Pressure, color = 'b', label='fixODS2000')\n",
    "#plt.plot(wAVD_MAM_1D_AA,Pressure, color = 'g', label='wAVD')\n",
    "#plt.title('MAM')\n",
    "#plt.xlim(200,285)\n",
    "#plt.xlabel('$\\Delta$ Temperature (K)')\n",
    "#plt.ylabel('Pressure (hPa)')\n",
    "#plt.axhline(250, color = 'k', linestyle = '--', label = 'Tropopause')\n",
    "#plt.axhline(1, color = 'brown', linestyle = '--', label = 'Stratopause')\n",
    "#plt.legend()\n",
    "#plt.gca().invert_yaxis()\n",
    "\n",
    "#plt.subplot(2,2,3)\n",
    "#plt.plot(RCP45_JJA_1D_AA,Pressure, color = 'r', label='RCP45')\n",
    "#plt.plot(fixODS2000_JJA_1D_AA,Pressure, color = 'b', label='fixODS2000')\n",
    "#plt.plot(wAVD_JJA_1D_AA,Pressure, color = 'g', label='wAVD')\n",
    "#plt.title('JJA')\n",
    "#plt.xlim(200,285)\n",
    "#plt.xlabel('$\\Delta$ Temperature (K)')\n",
    "#plt.ylabel('Pressure (hPa)')\n",
    "#plt.axhline(250, color = 'k', linestyle = '--', label = 'Tropopause')\n",
    "#plt.axhline(1, color = 'brown', linestyle = '--', label = 'Stratopause')\n",
    "#plt.legend()\n",
    "#plt.gca().invert_yaxis()\n",
    "\n",
    "#plt.subplot(2,2,4)\n",
    "#plt.plot(RCP45_SON_1D_AA,Pressure, color = 'r', label='RCP45')\n",
    "#plt.plot(fixODS2000_SON_1D_AA,Pressure, color = 'b', label='fixODS2000')\n",
    "#plt.plot(wAVD_SON_1D_AA,Pressure, color = 'g', label='wAVD')\n",
    "#plt.title('SON')\n",
    "#plt.xlim(200,285)\n",
    "#plt.xlabel('$\\Delta$ Temperature (K)')\n",
    "#plt.ylabel('Pressure (hPa)')\n",
    "#plt.axhline(250, color = 'k', linestyle = '--', label = 'Tropopause')\n",
    "#plt.axhline(1, color = 'brown', linestyle = '--', label = 'Stratopause')\n",
    "#plt.legend()\n",
    "#plt.gca().invert_yaxis()\n",
    "\n",
    "#plt.savefig('Former Decade Averaged Seasonal Temperature Profiles.png')"
   ]
  },
  {
   "cell_type": "markdown",
   "metadata": {},
   "source": [
    "## Ensemble Seasonal Difference in Decade Temperature Profiles"
   ]
  },
  {
   "cell_type": "markdown",
   "metadata": {},
   "source": [
    "#plt.figure(figsize=(20,20))\n",
    "\n",
    "\n",
    "#plt.subplot(2,2,1)\n",
    "#plt.title('DJF')\n",
    "#plt.plot(RCP45_DJF_DD_AA,Pressure, color = 'r', label='RCP45')\n",
    "#plt.plot(fixODS2000_DJF_DD_AA,Pressure, color = 'b', label='fixODS2000')\n",
    "#plt.plot(wAVD_DJF_DD_AA,Pressure, color = 'g', label='wAVD')\n",
    "#plt.xlim(-30,30)\n",
    "#plt.xlabel('$\\Delta$ Temperature (K)')\n",
    "#plt.ylabel('Pressure (hPa)')\n",
    "#plt.axhline(250, color = 'k', linestyle = ':', label = 'Tropopause')\n",
    "#plt.axhline(1, color = 'brown', linestyle = ':', label = 'Stratopause')\n",
    "#plt.legend()\n",
    "#plt.gca().invert_yaxis()\n",
    "\n",
    "#plt.subplot(2,2,2)\n",
    "#plt.title('MAM')\n",
    "#plt.plot(RCP45_MAM_DD_AA,Pressure, color = 'r', label='RCP45')\n",
    "#plt.plot(fixODS2000_MAM_DD_AA,Pressure, color = 'b', label='fixODS2000')\n",
    "#plt.plot(wAVD_MAM_DD_AA,Pressure, color = 'g', label='wAVD')\n",
    "#plt.xlim(-20,20)\n",
    "#plt.xlabel('$\\Delta$ Temperature (K)')\n",
    "#plt.ylabel('Pressure (hPa)')\n",
    "#plt.axhline(250, color = 'k', linestyle = ':', label = 'Tropopause')\n",
    "#plt.axhline(1, color = 'brown', linestyle = ':', label = 'Stratopause')\n",
    "#plt.legend()\n",
    "#plt.gca().invert_yaxis()\n",
    "\n",
    "#plt.subplot(2,2,3)\n",
    "#plt.title('JJA')\n",
    "#plt.plot(RCP45_JJA_DD_AA,Pressure, color = 'r', label='RCP45')\n",
    "#plt.plot(fixODS2000_JJA_DD_AA,Pressure, color = 'b', label='fixODS2000')\n",
    "#plt.plot(wAVD_JJA_DD_AA,Pressure, color = 'g', label='wAVD')\n",
    "#plt.xlim(-20,20)\n",
    "#plt.xlabel('$\\Delta$ Temperature (K)')\n",
    "#plt.ylabel('Pressure (hPa)')\n",
    "#plt.axhline(250, color = 'k', linestyle = ':', label = 'Tropopause')\n",
    "#plt.axhline(1, color = 'brown', linestyle = ':', label = 'Stratopause')\n",
    "#plt.legend()\n",
    "#plt.gca().invert_yaxis()\n",
    "\n",
    "#plt.subplot(2,2,4)\n",
    "#plt.title('SON')\n",
    "#plt.plot(RCP45_SON_DD_AA,Pressure, color = 'r', label='RCP45')\n",
    "#plt.plot(fixODS2000_SON_DD_AA,Pressure, color = 'b', label='fixODS2000')\n",
    "#plt.plot(wAVD_SON_DD_AA,Pressure, color = 'g', label='wAVD')\n",
    "#plt.xlim(-20,20)\n",
    "#plt.xlabel('$\\Delta$ Temperature (K)')\n",
    "#plt.ylabel('Pressure (hPa)')\n",
    "#plt.axhline(250, color = 'k', linestyle = ':', label = 'Tropopause')\n",
    "#plt.axhline(1, color = 'brown', linestyle = ':', label = 'Stratopause')\n",
    "#plt.legend()\n",
    "#plt.gca().invert_yaxis()\n",
    "\n",
    "#plt.savefig('Decadal Difference in Seasonal Temperature Profiles.png')"
   ]
  },
  {
   "cell_type": "markdown",
   "metadata": {},
   "source": [
    "## Significance Testing of Temperature Profile Differences"
   ]
  },
  {
   "cell_type": "markdown",
   "metadata": {},
   "source": [
    "RCP45"
   ]
  },
  {
   "cell_type": "markdown",
   "metadata": {},
   "source": [
    "DJF"
   ]
  },
  {
   "cell_type": "code",
   "execution_count": 28,
   "metadata": {},
   "outputs": [
    {
     "data": {
      "text/plain": [
       "(3, 23, 16, 144)"
      ]
     },
     "execution_count": 28,
     "metadata": {},
     "output_type": "execute_result"
    }
   ],
   "source": [
    "RCP45_1DA_TmSrs_D = RCP45_Panel.loc['Sim1':'Sim3','2005':'2014','12']\n",
    "RCP45_1DA_TmSrs_D = np.asarray(RCP45_1DA_TmSrs_D)\n",
    "RCP45_1DA_TmSrs_D = np.mean(RCP45_1DA_TmSrs_D, axis=(0))\n",
    "RCP45_1DA_TmSrs_D = np.stack(RCP45_1DA_TmSrs_D[:], axis=0)\n",
    "RCP45_1DA_TmSrs_D.shape\n",
    "\n",
    "RCP45_1DA_TmSrs_JF = RCP45_Panel.loc['Sim1':'Sim3','2006':'2015','01':'02']\n",
    "RCP45_1DA_TmSrs_JF= np.asarray(RCP45_1DA_TmSrs_JF)\n",
    "RCP45_1DA_TmSrs_JF = np.mean(RCP45_1DA_TmSrs_JF, axis=(1,2))\n",
    "RCP45_1DA_TmSrs_JF = np.stack((RCP45_1DA_TmSrs_JF[:]),axis=0)\n",
    "RCP45_1DA_TmSrs_JF.shape\n",
    "\n",
    "RCP45_1DA_TmSrs_DJF = np.ma.mean((RCP45_1DA_TmSrs_JF,RCP45_1DA_TmSrs_D),axis=0)\n",
    "RCP45_1DA_TmSrs_DJF.shape\n",
    "\n",
    "RCP45_2DA_TmSrs_D = RCP45_Panel.loc['Sim1':'Sim3','2055':'2064','12']\n",
    "RCP45_2DA_TmSrs_D = np.asarray(RCP45_2DA_TmSrs_D)\n",
    "RCP45_2DA_TmSrs_D = np.mean(RCP45_2DA_TmSrs_D, axis=(0))\n",
    "RCP45_2DA_TmSrs_D = np.stack(RCP45_2DA_TmSrs_D[:], axis=0)\n",
    "RCP45_2DA_TmSrs_D.shape\n",
    "\n",
    "RCP45_2DA_TmSrs_JF = RCP45_Panel.loc['Sim1':'Sim3','2056':'2065','01':'02']\n",
    "RCP45_2DA_TmSrs_JF= np.asarray(RCP45_2DA_TmSrs_JF)\n",
    "RCP45_2DA_TmSrs_JF = np.mean(RCP45_2DA_TmSrs_JF, axis=(1,2))\n",
    "RCP45_2DA_TmSrs_JF = np.stack((RCP45_2DA_TmSrs_JF[:]),axis=0)\n",
    "RCP45_2DA_TmSrs_JF.shape\n",
    "\n",
    "RCP45_2DA_TmSrs_DJF = np.ma.mean((RCP45_2DA_TmSrs_JF,RCP45_2DA_TmSrs_D),axis=0)\n",
    "RCP45_2DA_TmSrs_DJF.shape"
   ]
  },
  {
   "cell_type": "markdown",
   "metadata": {},
   "source": [
    "MAM"
   ]
  },
  {
   "cell_type": "code",
   "execution_count": 29,
   "metadata": {},
   "outputs": [
    {
     "data": {
      "text/plain": [
       "(3, 23, 16, 144)"
      ]
     },
     "execution_count": 29,
     "metadata": {},
     "output_type": "execute_result"
    }
   ],
   "source": [
    "RCP45_1DA_TmSrs_MAM = RCP45_Panel.loc['Sim1':'Sim3','2006':'2015','03':'05']\n",
    "RCP45_1DA_TmSrs_MAM= np.asarray(RCP45_1DA_TmSrs_MAM)\n",
    "RCP45_1DA_TmSrs_MAM = np.mean(RCP45_1DA_TmSrs_MAM, axis=(1,2))\n",
    "RCP45_1DA_TmSrs_MAM = np.stack((RCP45_1DA_TmSrs_MAM[:]),axis=0)\n",
    "RCP45_1DA_TmSrs_MAM.shape\n",
    "\n",
    "RCP45_2DA_TmSrs_MAM = RCP45_Panel.loc['Sim1':'Sim3','2056':'2065','03':'05']\n",
    "RCP45_2DA_TmSrs_MAM= np.asarray(RCP45_2DA_TmSrs_MAM)\n",
    "RCP45_2DA_TmSrs_MAM = np.mean(RCP45_2DA_TmSrs_MAM, axis=(1,2))\n",
    "RCP45_2DA_TmSrs_MAM = np.stack((RCP45_2DA_TmSrs_MAM[:]),axis=0)\n",
    "RCP45_2DA_TmSrs_MAM.shape"
   ]
  },
  {
   "cell_type": "markdown",
   "metadata": {},
   "source": [
    "JJA"
   ]
  },
  {
   "cell_type": "code",
   "execution_count": 30,
   "metadata": {},
   "outputs": [
    {
     "data": {
      "text/plain": [
       "(3, 23, 16, 144)"
      ]
     },
     "execution_count": 30,
     "metadata": {},
     "output_type": "execute_result"
    }
   ],
   "source": [
    "RCP45_1DA_TmSrs_JJA = RCP45_Panel.loc['Sim1':'Sim3','2006':'2015','06':'08']\n",
    "RCP45_1DA_TmSrs_JJA= np.asarray(RCP45_1DA_TmSrs_JJA)\n",
    "RCP45_1DA_TmSrs_JJA = np.mean(RCP45_1DA_TmSrs_JJA, axis=(1,2))\n",
    "RCP45_1DA_TmSrs_JJA = np.stack((RCP45_1DA_TmSrs_JJA[:]),axis=0)\n",
    "RCP45_1DA_TmSrs_JJA.shape\n",
    "\n",
    "RCP45_2DA_TmSrs_JJA = RCP45_Panel.loc['Sim1':'Sim3','2056':'2065','06':'08']\n",
    "RCP45_2DA_TmSrs_JJA= np.asarray(RCP45_2DA_TmSrs_JJA)\n",
    "RCP45_2DA_TmSrs_JJA = np.mean(RCP45_2DA_TmSrs_JJA, axis=(1,2))\n",
    "RCP45_2DA_TmSrs_JJA = np.stack((RCP45_2DA_TmSrs_JJA[:]),axis=0)\n",
    "RCP45_2DA_TmSrs_JJA.shape"
   ]
  },
  {
   "cell_type": "markdown",
   "metadata": {},
   "source": [
    "SON"
   ]
  },
  {
   "cell_type": "code",
   "execution_count": 31,
   "metadata": {},
   "outputs": [
    {
     "data": {
      "text/plain": [
       "(3, 23, 16, 144)"
      ]
     },
     "execution_count": 31,
     "metadata": {},
     "output_type": "execute_result"
    }
   ],
   "source": [
    "RCP45_1DA_TmSrs_SON = RCP45_Panel.loc['Sim1':'Sim3','2006':'2015','09':'11']\n",
    "RCP45_1DA_TmSrs_SON= np.asarray(RCP45_1DA_TmSrs_SON)\n",
    "RCP45_1DA_TmSrs_SON = np.mean(RCP45_1DA_TmSrs_SON, axis=(1,2))\n",
    "RCP45_1DA_TmSrs_SON = np.stack((RCP45_1DA_TmSrs_SON[:]),axis=0)\n",
    "RCP45_1DA_TmSrs_SON.shape\n",
    "\n",
    "RCP45_2DA_TmSrs_SON = RCP45_Panel.loc['Sim1':'Sim3','2056':'2065','09':'11']\n",
    "RCP45_2DA_TmSrs_SON= np.asarray(RCP45_2DA_TmSrs_SON)\n",
    "RCP45_2DA_TmSrs_SON = np.mean(RCP45_2DA_TmSrs_SON, axis=(1,2))\n",
    "RCP45_2DA_TmSrs_SON = np.stack((RCP45_2DA_TmSrs_SON[:]),axis=0)\n",
    "RCP45_2DA_TmSrs_SON.shape"
   ]
  },
  {
   "cell_type": "markdown",
   "metadata": {},
   "source": [
    "fixODS2000"
   ]
  },
  {
   "cell_type": "code",
   "execution_count": 32,
   "metadata": {},
   "outputs": [
    {
     "data": {
      "text/plain": [
       "(3, 23, 16, 144)"
      ]
     },
     "execution_count": 32,
     "metadata": {},
     "output_type": "execute_result"
    }
   ],
   "source": [
    "#DJF\n",
    "\n",
    "fixODS2000_1DA_TmSrs_D = fixODS2000_Panel.loc['Sim1':'Sim3','2005':'2014','12']\n",
    "fixODS2000_1DA_TmSrs_D = np.asarray(fixODS2000_1DA_TmSrs_D)\n",
    "fixODS2000_1DA_TmSrs_D = np.mean(fixODS2000_1DA_TmSrs_D, axis=(0))\n",
    "fixODS2000_1DA_TmSrs_D = np.stack(fixODS2000_1DA_TmSrs_D[:], axis=0)\n",
    "fixODS2000_1DA_TmSrs_D.shape\n",
    "\n",
    "fixODS2000_1DA_TmSrs_JF = fixODS2000_Panel.loc['Sim1':'Sim3','2006':'2015','01':'02']\n",
    "fixODS2000_1DA_TmSrs_JF= np.asarray(fixODS2000_1DA_TmSrs_JF)\n",
    "fixODS2000_1DA_TmSrs_JF = np.mean(fixODS2000_1DA_TmSrs_JF, axis=(1,2))\n",
    "fixODS2000_1DA_TmSrs_JF = np.stack((fixODS2000_1DA_TmSrs_JF[:]),axis=0)\n",
    "fixODS2000_1DA_TmSrs_JF.shape\n",
    "\n",
    "fixODS2000_1DA_TmSrs_DJF = np.ma.mean((fixODS2000_1DA_TmSrs_JF,fixODS2000_1DA_TmSrs_D),axis=0)\n",
    "fixODS2000_1DA_TmSrs_DJF.shape\n",
    "\n",
    "fixODS2000_2DA_TmSrs_D = fixODS2000_Panel.loc['Sim1':'Sim3','2055':'2064','12']\n",
    "fixODS2000_2DA_TmSrs_D = np.asarray(fixODS2000_2DA_TmSrs_D)\n",
    "fixODS2000_2DA_TmSrs_D = np.mean(fixODS2000_2DA_TmSrs_D, axis=(0))\n",
    "fixODS2000_2DA_TmSrs_D = np.stack(fixODS2000_2DA_TmSrs_D[:], axis=0)\n",
    "fixODS2000_2DA_TmSrs_D.shape\n",
    "\n",
    "fixODS2000_2DA_TmSrs_JF = fixODS2000_Panel.loc['Sim1':'Sim3','2056':'2065','01':'02']\n",
    "fixODS2000_2DA_TmSrs_JF= np.asarray(fixODS2000_2DA_TmSrs_JF)\n",
    "fixODS2000_2DA_TmSrs_JF = np.mean(fixODS2000_2DA_TmSrs_JF, axis=(1,2))\n",
    "fixODS2000_2DA_TmSrs_JF = np.stack((fixODS2000_2DA_TmSrs_JF[:]),axis=0)\n",
    "fixODS2000_2DA_TmSrs_JF.shape\n",
    "\n",
    "fixODS2000_2DA_TmSrs_DJF = np.ma.mean((fixODS2000_2DA_TmSrs_JF,fixODS2000_2DA_TmSrs_D),axis=0)\n",
    "fixODS2000_2DA_TmSrs_DJF.shape\n",
    "\n",
    "#MAM\n",
    "\n",
    "fixODS2000_1DA_TmSrs_MAM = fixODS2000_Panel.loc['Sim1':'Sim3','2006':'2015','03':'05']\n",
    "fixODS2000_1DA_TmSrs_MAM= np.asarray(fixODS2000_1DA_TmSrs_MAM)\n",
    "fixODS2000_1DA_TmSrs_MAM = np.mean(fixODS2000_1DA_TmSrs_MAM, axis=(1,2))\n",
    "fixODS2000_1DA_TmSrs_MAM = np.stack((fixODS2000_1DA_TmSrs_MAM[:]),axis=0)\n",
    "fixODS2000_1DA_TmSrs_MAM.shape\n",
    "\n",
    "fixODS2000_2DA_TmSrs_MAM = fixODS2000_Panel.loc['Sim1':'Sim3','2056':'2065','03':'05']\n",
    "fixODS2000_2DA_TmSrs_MAM= np.asarray(fixODS2000_2DA_TmSrs_MAM)\n",
    "fixODS2000_2DA_TmSrs_MAM = np.mean(fixODS2000_2DA_TmSrs_MAM, axis=(1,2))\n",
    "fixODS2000_2DA_TmSrs_MAM = np.stack((fixODS2000_2DA_TmSrs_MAM[:]),axis=0)\n",
    "fixODS2000_2DA_TmSrs_MAM.shape\n",
    "\n",
    "#JJA\n",
    "\n",
    "fixODS2000_1DA_TmSrs_JJA = fixODS2000_Panel.loc['Sim1':'Sim3','2006':'2015','06':'08']\n",
    "fixODS2000_1DA_TmSrs_JJA= np.asarray(fixODS2000_1DA_TmSrs_JJA)\n",
    "fixODS2000_1DA_TmSrs_JJA = np.mean(fixODS2000_1DA_TmSrs_JJA, axis=(1,2))\n",
    "fixODS2000_1DA_TmSrs_JJA = np.stack((fixODS2000_1DA_TmSrs_JJA[:]),axis=0)\n",
    "fixODS2000_1DA_TmSrs_JJA.shape\n",
    "\n",
    "fixODS2000_2DA_TmSrs_JJA = fixODS2000_Panel.loc['Sim1':'Sim3','2056':'2065','06':'08']\n",
    "fixODS2000_2DA_TmSrs_JJA= np.asarray(fixODS2000_2DA_TmSrs_JJA)\n",
    "fixODS2000_2DA_TmSrs_JJA = np.mean(fixODS2000_2DA_TmSrs_JJA, axis=(1,2))\n",
    "fixODS2000_2DA_TmSrs_JJA = np.stack((fixODS2000_2DA_TmSrs_JJA[:]),axis=0)\n",
    "fixODS2000_2DA_TmSrs_JJA.shape\n",
    "\n",
    "#SON\n",
    "\n",
    "fixODS2000_1DA_TmSrs_SON = fixODS2000_Panel.loc['Sim1':'Sim3','2006':'2015','09':'11']\n",
    "fixODS2000_1DA_TmSrs_SON= np.asarray(fixODS2000_1DA_TmSrs_SON)\n",
    "fixODS2000_1DA_TmSrs_SON = np.mean(fixODS2000_1DA_TmSrs_SON, axis=(1,2))\n",
    "fixODS2000_1DA_TmSrs_SON = np.stack((fixODS2000_1DA_TmSrs_SON[:]),axis=0)\n",
    "fixODS2000_1DA_TmSrs_SON.shape\n",
    "\n",
    "fixODS2000_2DA_TmSrs_SON = fixODS2000_Panel.loc['Sim1':'Sim3','2056':'2065','09':'11']\n",
    "fixODS2000_2DA_TmSrs_SON= np.asarray(fixODS2000_2DA_TmSrs_SON)\n",
    "fixODS2000_2DA_TmSrs_SON = np.mean(fixODS2000_2DA_TmSrs_SON, axis=(1,2))\n",
    "fixODS2000_2DA_TmSrs_SON = np.stack((fixODS2000_2DA_TmSrs_SON[:]),axis=0)\n",
    "fixODS2000_2DA_TmSrs_SON.shape"
   ]
  },
  {
   "cell_type": "markdown",
   "metadata": {},
   "source": [
    "wAVD"
   ]
  },
  {
   "cell_type": "code",
   "execution_count": 33,
   "metadata": {},
   "outputs": [
    {
     "data": {
      "text/plain": [
       "(3, 23, 16, 144)"
      ]
     },
     "execution_count": 33,
     "metadata": {},
     "output_type": "execute_result"
    }
   ],
   "source": [
    "#DJF\n",
    "\n",
    "wAVD_1DA_TmSrs_D = wAVD_Panel.loc['Sim1':'Sim3','2005':'2014','12']\n",
    "wAVD_1DA_TmSrs_D = np.asarray(wAVD_1DA_TmSrs_D)\n",
    "wAVD_1DA_TmSrs_D = np.mean(wAVD_1DA_TmSrs_D, axis=(0))\n",
    "wAVD_1DA_TmSrs_D = np.stack(wAVD_1DA_TmSrs_D[:], axis=0)\n",
    "wAVD_1DA_TmSrs_D.shape\n",
    "\n",
    "wAVD_1DA_TmSrs_JF = wAVD_Panel.loc['Sim1':'Sim3','2006':'2015','01':'02']\n",
    "wAVD_1DA_TmSrs_JF= np.asarray(wAVD_1DA_TmSrs_JF)\n",
    "wAVD_1DA_TmSrs_JF = np.mean(wAVD_1DA_TmSrs_JF, axis=(1,2))\n",
    "wAVD_1DA_TmSrs_JF = np.stack((wAVD_1DA_TmSrs_JF[:]),axis=0)\n",
    "wAVD_1DA_TmSrs_JF.shape\n",
    "\n",
    "wAVD_1DA_TmSrs_DJF = np.ma.mean((wAVD_1DA_TmSrs_JF,wAVD_1DA_TmSrs_D),axis=0)\n",
    "wAVD_1DA_TmSrs_DJF.shape\n",
    "\n",
    "wAVD_2DA_TmSrs_D = wAVD_Panel.loc['Sim1':'Sim3','2055':'2064','12']\n",
    "wAVD_2DA_TmSrs_D = np.asarray(wAVD_2DA_TmSrs_D)\n",
    "wAVD_2DA_TmSrs_D = np.mean(wAVD_2DA_TmSrs_D, axis=(0))\n",
    "wAVD_2DA_TmSrs_D = np.stack(wAVD_2DA_TmSrs_D[:], axis=0)\n",
    "wAVD_2DA_TmSrs_D.shape\n",
    "\n",
    "wAVD_2DA_TmSrs_JF = wAVD_Panel.loc['Sim1':'Sim3','2056':'2065','01':'02']\n",
    "wAVD_2DA_TmSrs_JF= np.asarray(wAVD_2DA_TmSrs_JF)\n",
    "wAVD_2DA_TmSrs_JF = np.mean(wAVD_2DA_TmSrs_JF, axis=(1,2))\n",
    "wAVD_2DA_TmSrs_JF = np.stack((wAVD_2DA_TmSrs_JF[:]),axis=0)\n",
    "wAVD_2DA_TmSrs_JF.shape\n",
    "\n",
    "wAVD_2DA_TmSrs_DJF = np.ma.mean((wAVD_2DA_TmSrs_JF,wAVD_2DA_TmSrs_D),axis=0)\n",
    "wAVD_2DA_TmSrs_DJF.shape\n",
    "\n",
    "#MAM\n",
    "\n",
    "wAVD_1DA_TmSrs_MAM = wAVD_Panel.loc['Sim1':'Sim3','2006':'2015','03':'05']\n",
    "wAVD_1DA_TmSrs_MAM= np.asarray(wAVD_1DA_TmSrs_MAM)\n",
    "wAVD_1DA_TmSrs_MAM = np.mean(wAVD_1DA_TmSrs_MAM, axis=(1,2))\n",
    "wAVD_1DA_TmSrs_MAM = np.stack((wAVD_1DA_TmSrs_MAM[:]),axis=0)\n",
    "wAVD_1DA_TmSrs_MAM.shape\n",
    "\n",
    "wAVD_2DA_TmSrs_MAM = wAVD_Panel.loc['Sim1':'Sim3','2056':'2065','03':'05']\n",
    "wAVD_2DA_TmSrs_MAM= np.asarray(wAVD_2DA_TmSrs_MAM)\n",
    "wAVD_2DA_TmSrs_MAM = np.mean(wAVD_2DA_TmSrs_MAM, axis=(1,2))\n",
    "wAVD_2DA_TmSrs_MAM = np.stack((wAVD_2DA_TmSrs_MAM[:]),axis=0)\n",
    "wAVD_2DA_TmSrs_MAM.shape\n",
    "\n",
    "#JJA\n",
    "\n",
    "wAVD_1DA_TmSrs_JJA = wAVD_Panel.loc['Sim1':'Sim3','2006':'2015','06':'08']\n",
    "wAVD_1DA_TmSrs_JJA= np.asarray(wAVD_1DA_TmSrs_JJA)\n",
    "wAVD_1DA_TmSrs_JJA = np.mean(wAVD_1DA_TmSrs_JJA, axis=(1,2))\n",
    "wAVD_1DA_TmSrs_JJA = np.stack((wAVD_1DA_TmSrs_JJA[:]),axis=0)\n",
    "wAVD_1DA_TmSrs_JJA.shape\n",
    "\n",
    "wAVD_2DA_TmSrs_JJA = wAVD_Panel.loc['Sim1':'Sim3','2056':'2065','06':'08']\n",
    "wAVD_2DA_TmSrs_JJA= np.asarray(wAVD_2DA_TmSrs_JJA)\n",
    "wAVD_2DA_TmSrs_JJA = np.mean(wAVD_2DA_TmSrs_JJA, axis=(1,2))\n",
    "wAVD_2DA_TmSrs_JJA = np.stack((wAVD_2DA_TmSrs_JJA[:]),axis=0)\n",
    "wAVD_2DA_TmSrs_JJA.shape\n",
    "\n",
    "#SON\n",
    "\n",
    "wAVD_1DA_TmSrs_SON = wAVD_Panel.loc['Sim1':'Sim3','2006':'2015','09':'11']\n",
    "wAVD_1DA_TmSrs_SON= np.asarray(wAVD_1DA_TmSrs_SON)\n",
    "wAVD_1DA_TmSrs_SON = np.mean(wAVD_1DA_TmSrs_SON, axis=(1,2))\n",
    "wAVD_1DA_TmSrs_SON = np.stack((wAVD_1DA_TmSrs_SON[:]),axis=0)\n",
    "wAVD_1DA_TmSrs_SON.shape\n",
    "\n",
    "wAVD_2DA_TmSrs_SON = wAVD_Panel.loc['Sim1':'Sim3','2056':'2065','09':'11']\n",
    "wAVD_2DA_TmSrs_SON= np.asarray(wAVD_2DA_TmSrs_SON)\n",
    "wAVD_2DA_TmSrs_SON = np.mean(wAVD_2DA_TmSrs_SON, axis=(1,2))\n",
    "wAVD_2DA_TmSrs_SON = np.stack((wAVD_2DA_TmSrs_SON[:]),axis=0)\n",
    "wAVD_2DA_TmSrs_SON.shape"
   ]
  },
  {
   "cell_type": "code",
   "execution_count": 34,
   "metadata": {},
   "outputs": [
    {
     "data": {
      "text/plain": [
       "(3, 23)"
      ]
     },
     "execution_count": 34,
     "metadata": {},
     "output_type": "execute_result"
    }
   ],
   "source": [
    "RCP45_1DA_TmSrs_DJF_AA = Area_Avg.LatLonavg_Time_Pressure\\\n",
    "                                (RCP45_1DA_TmSrs_DJF,Lat,Lon)\n",
    "RCP45_2DA_TmSrs_DJF_AA = Area_Avg.LatLonavg_Time_Pressure\\\n",
    "                                (RCP45_2DA_TmSrs_DJF,Lat,Lon)\n",
    "RCP45_1DA_TmSrs_MAM_AA = Area_Avg.LatLonavg_Time_Pressure\\\n",
    "                                (RCP45_1DA_TmSrs_MAM,Lat,Lon)\n",
    "RCP45_2DA_TmSrs_MAM_AA = Area_Avg.LatLonavg_Time_Pressure\\\n",
    "                                (RCP45_2DA_TmSrs_MAM,Lat,Lon)\n",
    "RCP45_1DA_TmSrs_JJA_AA = Area_Avg.LatLonavg_Time_Pressure\\\n",
    "                                (RCP45_1DA_TmSrs_JJA,Lat,Lon)\n",
    "RCP45_2DA_TmSrs_JJA_AA = Area_Avg.LatLonavg_Time_Pressure\\\n",
    "                                (RCP45_2DA_TmSrs_JJA,Lat,Lon)\n",
    "RCP45_1DA_TmSrs_SON_AA = Area_Avg.LatLonavg_Time_Pressure\\\n",
    "                                (RCP45_1DA_TmSrs_SON,Lat,Lon)\n",
    "RCP45_2DA_TmSrs_SON_AA = Area_Avg.LatLonavg_Time_Pressure\\\n",
    "                                (RCP45_2DA_TmSrs_SON,Lat,Lon)\n",
    "\n",
    "RCP45_2DA_TmSrs_SON_AA.shape"
   ]
  },
  {
   "cell_type": "code",
   "execution_count": 35,
   "metadata": {},
   "outputs": [
    {
     "data": {
      "text/plain": [
       "(3, 23)"
      ]
     },
     "execution_count": 35,
     "metadata": {},
     "output_type": "execute_result"
    }
   ],
   "source": [
    "fixODS2000_1DA_TmSrs_DJF_AA = Area_Avg.LatLonavg_Time_Pressure\\\n",
    "                                (fixODS2000_1DA_TmSrs_DJF,Lat,Lon)\n",
    "fixODS2000_2DA_TmSrs_DJF_AA = Area_Avg.LatLonavg_Time_Pressure\\\n",
    "                                (fixODS2000_2DA_TmSrs_DJF,Lat,Lon)\n",
    "fixODS2000_1DA_TmSrs_MAM_AA = Area_Avg.LatLonavg_Time_Pressure\\\n",
    "                                (fixODS2000_1DA_TmSrs_MAM,Lat,Lon)\n",
    "fixODS2000_2DA_TmSrs_MAM_AA = Area_Avg.LatLonavg_Time_Pressure\\\n",
    "                                (fixODS2000_2DA_TmSrs_MAM,Lat,Lon)\n",
    "fixODS2000_1DA_TmSrs_JJA_AA = Area_Avg.LatLonavg_Time_Pressure\\\n",
    "                                (fixODS2000_1DA_TmSrs_JJA,Lat,Lon)\n",
    "fixODS2000_2DA_TmSrs_JJA_AA = Area_Avg.LatLonavg_Time_Pressure\\\n",
    "                                (fixODS2000_2DA_TmSrs_JJA,Lat,Lon)\n",
    "fixODS2000_1DA_TmSrs_SON_AA = Area_Avg.LatLonavg_Time_Pressure\\\n",
    "                                (fixODS2000_1DA_TmSrs_SON,Lat,Lon)\n",
    "fixODS2000_2DA_TmSrs_SON_AA = Area_Avg.LatLonavg_Time_Pressure\\\n",
    "                                (fixODS2000_2DA_TmSrs_SON,Lat,Lon)\n",
    "\n",
    "fixODS2000_2DA_TmSrs_SON_AA.shape"
   ]
  },
  {
   "cell_type": "code",
   "execution_count": 36,
   "metadata": {},
   "outputs": [
    {
     "data": {
      "text/plain": [
       "(3, 23)"
      ]
     },
     "execution_count": 36,
     "metadata": {},
     "output_type": "execute_result"
    }
   ],
   "source": [
    "wAVD_1DA_TmSrs_DJF_AA = Area_Avg.LatLonavg_Time_Pressure\\\n",
    "                                (wAVD_1DA_TmSrs_DJF,Lat,Lon)\n",
    "wAVD_2DA_TmSrs_DJF_AA = Area_Avg.LatLonavg_Time_Pressure\\\n",
    "                                (wAVD_2DA_TmSrs_DJF,Lat,Lon)\n",
    "wAVD_1DA_TmSrs_MAM_AA = Area_Avg.LatLonavg_Time_Pressure\\\n",
    "                                (wAVD_1DA_TmSrs_MAM,Lat,Lon)\n",
    "wAVD_2DA_TmSrs_MAM_AA = Area_Avg.LatLonavg_Time_Pressure\\\n",
    "                                (wAVD_2DA_TmSrs_MAM,Lat,Lon)\n",
    "wAVD_1DA_TmSrs_JJA_AA = Area_Avg.LatLonavg_Time_Pressure\\\n",
    "                                (wAVD_1DA_TmSrs_JJA,Lat,Lon)\n",
    "wAVD_2DA_TmSrs_JJA_AA = Area_Avg.LatLonavg_Time_Pressure\\\n",
    "                                (wAVD_2DA_TmSrs_JJA,Lat,Lon)\n",
    "wAVD_1DA_TmSrs_SON_AA = Area_Avg.LatLonavg_Time_Pressure\\\n",
    "                                (wAVD_1DA_TmSrs_SON,Lat,Lon)\n",
    "wAVD_2DA_TmSrs_SON_AA = Area_Avg.LatLonavg_Time_Pressure\\\n",
    "                                (wAVD_2DA_TmSrs_SON,Lat,Lon)\n",
    "    \n",
    "wAVD_2DA_TmSrs_SON_AA.shape"
   ]
  },
  {
   "cell_type": "code",
   "execution_count": 37,
   "metadata": {},
   "outputs": [
    {
     "data": {
      "text/plain": [
       "(23,)"
      ]
     },
     "execution_count": 37,
     "metadata": {},
     "output_type": "execute_result"
    }
   ],
   "source": [
    "RCP45_DJF_Pval = ttest.ttest_2sample(RCP45_1DA_TmSrs_DJF_AA,RCP45_2DA_TmSrs_DJF_AA,0)\n",
    "RCP45_DJF_Pval.shape\n",
    "\n",
    "RCP45_MAM_Pval = ttest.ttest_2sample(RCP45_1DA_TmSrs_MAM_AA,RCP45_2DA_TmSrs_MAM_AA,0)\n",
    "RCP45_MAM_Pval.shape\n",
    "\n",
    "RCP45_JJA_Pval = ttest.ttest_2sample(RCP45_1DA_TmSrs_JJA_AA,RCP45_2DA_TmSrs_JJA_AA,0)\n",
    "RCP45_JJA_Pval.shape\n",
    "\n",
    "RCP45_SON_Pval = ttest.ttest_2sample(RCP45_1DA_TmSrs_SON_AA,RCP45_2DA_TmSrs_SON_AA,0)\n",
    "RCP45_SON_Pval.shape"
   ]
  },
  {
   "cell_type": "code",
   "execution_count": 38,
   "metadata": {},
   "outputs": [
    {
     "data": {
      "text/plain": [
       "(23,)"
      ]
     },
     "execution_count": 38,
     "metadata": {},
     "output_type": "execute_result"
    }
   ],
   "source": [
    "fixODS2000_DJF_Pval = ttest.ttest_2sample(fixODS2000_1DA_TmSrs_DJF_AA,fixODS2000_2DA_TmSrs_DJF_AA,0)\n",
    "fixODS2000_DJF_Pval.shape\n",
    "\n",
    "fixODS2000_MAM_Pval = ttest.ttest_2sample(fixODS2000_1DA_TmSrs_MAM_AA,fixODS2000_2DA_TmSrs_MAM_AA,0)\n",
    "fixODS2000_MAM_Pval.shape\n",
    "\n",
    "fixODS2000_JJA_Pval = ttest.ttest_2sample(fixODS2000_1DA_TmSrs_JJA_AA,fixODS2000_2DA_TmSrs_JJA_AA,0)\n",
    "fixODS2000_JJA_Pval.shape\n",
    "\n",
    "fixODS2000_SON_Pval = ttest.ttest_2sample(fixODS2000_1DA_TmSrs_SON_AA,fixODS2000_2DA_TmSrs_SON_AA,0)\n",
    "fixODS2000_SON_Pval.shape"
   ]
  },
  {
   "cell_type": "code",
   "execution_count": 39,
   "metadata": {},
   "outputs": [
    {
     "data": {
      "text/plain": [
       "(23,)"
      ]
     },
     "execution_count": 39,
     "metadata": {},
     "output_type": "execute_result"
    }
   ],
   "source": [
    "wAVD_DJF_Pval = ttest.ttest_2sample(wAVD_1DA_TmSrs_DJF_AA,wAVD_2DA_TmSrs_DJF_AA,0)\n",
    "wAVD_DJF_Pval.shape\n",
    "\n",
    "wAVD_MAM_Pval = ttest.ttest_2sample(wAVD_1DA_TmSrs_MAM_AA,wAVD_2DA_TmSrs_MAM_AA,0)\n",
    "wAVD_MAM_Pval.shape\n",
    "\n",
    "wAVD_JJA_Pval = ttest.ttest_2sample(wAVD_1DA_TmSrs_JJA_AA,wAVD_2DA_TmSrs_JJA_AA,0)\n",
    "wAVD_JJA_Pval.shape\n",
    "\n",
    "wAVD_SON_Pval = ttest.ttest_2sample(wAVD_1DA_TmSrs_SON_AA,wAVD_2DA_TmSrs_SON_AA,0)\n",
    "wAVD_SON_Pval.shape"
   ]
  },
  {
   "cell_type": "code",
   "execution_count": 40,
   "metadata": {},
   "outputs": [],
   "source": [
    "RCP45_DJF_Sig = np.ma.where(RCP45_DJF_Pval[:]==1.0,\\\n",
    "                            RCP45_DJF_DD_AA,RCP45_DJF_Pval)\n",
    "\n",
    "RCP45_MAM_Sig = np.ma.where(RCP45_MAM_Pval[:]==1.0,\\\n",
    "                            RCP45_MAM_DD_AA,RCP45_MAM_Pval)\n",
    "\n",
    "RCP45_JJA_Sig = np.ma.where(RCP45_JJA_Pval[:]==1.0,\\\n",
    "                            RCP45_JJA_DD_AA,RCP45_JJA_Pval)\n",
    "\n",
    "RCP45_SON_Sig = np.ma.where(RCP45_SON_Pval[:]==1.0,\\\n",
    "                            RCP45_SON_DD_AA,RCP45_SON_Pval)\n",
    "\n",
    "fixODS2000_DJF_Sig = np.ma.where(fixODS2000_DJF_Pval[:]==1.0,\\\n",
    "                            fixODS2000_DJF_DD_AA,fixODS2000_DJF_Pval)\n",
    "\n",
    "fixODS2000_MAM_Sig = np.ma.where(fixODS2000_MAM_Pval[:]==1.0,\\\n",
    "                            fixODS2000_MAM_DD_AA,fixODS2000_MAM_Pval)\n",
    "\n",
    "fixODS2000_JJA_Sig = np.ma.where(fixODS2000_JJA_Pval[:]==1.0,\\\n",
    "                            fixODS2000_JJA_DD_AA,fixODS2000_JJA_Pval)\n",
    "\n",
    "fixODS2000_SON_Sig = np.ma.where(fixODS2000_SON_Pval[:]==1.0,\\\n",
    "                            fixODS2000_SON_DD_AA,fixODS2000_SON_Pval)\n",
    "\n",
    "wAVD_DJF_Sig = np.ma.where(wAVD_DJF_Pval[:]==1.0,\\\n",
    "                            wAVD_DJF_DD_AA,wAVD_DJF_Pval)\n",
    "\n",
    "wAVD_MAM_Sig = np.ma.where(wAVD_MAM_Pval[:]==1.0,\\\n",
    "                            wAVD_MAM_DD_AA,wAVD_MAM_Pval)\n",
    "\n",
    "wAVD_JJA_Sig = np.ma.where(wAVD_JJA_Pval[:]==1.0,\\\n",
    "                            wAVD_JJA_DD_AA,wAVD_JJA_Pval)\n",
    "\n",
    "wAVD_SON_Sig = np.ma.where(wAVD_SON_Pval[:]==1.0,\\\n",
    "                            wAVD_SON_DD_AA,wAVD_SON_Pval)"
   ]
  },
  {
   "cell_type": "code",
   "execution_count": 49,
   "metadata": {},
   "outputs": [
    {
     "data": {
      "image/png": "[encoded data removed]",
      "text/plain": [
       "<matplotlib.figure.Figure at 0x1701435f8>"
      ]
     },
     "metadata": {},
     "output_type": "display_data"
    }
   ],
   "source": [
    "plt.figure(figsize=(20,20))\n",
    "\n",
    "\n",
    "plt.subplot(2,2,1)\n",
    "plt.title('DJF')\n",
    "plt.plot(RCP45_DJF_Sig,Pressure_L, color = 'b', label='RCP45')\n",
    "plt.plot(RCP45_DJF_DD_AA,Pressure_L, color = 'b',linestyle='--')\n",
    "plt.plot(fixODS2000_DJF_Sig,Pressure_L, color = 'r', label='fixODS2000')\n",
    "plt.plot(fixODS2000_DJF_DD_AA,Pressure_L, color = 'r',linestyle='--')\n",
    "plt.plot(wAVD_DJF_Sig,Pressure_L, color = 'g', label='wAVD')\n",
    "plt.plot(wAVD_DJF_DD_AA,Pressure_L, color = 'g',linestyle='--')\n",
    "plt.xlim(-30,30)\n",
    "#plt.xlabel('$\\Delta$ Temperature (K)')\n",
    "plt.ylabel('Pressure (hPa)')\n",
    "plt.yticks(Pressure_L,Pressure_named)\n",
    "plt.axhline(2.47, color = 'k', linestyle = ':', label = 'Tropopause')\n",
    "plt.axhline(0, color = 'brown', linestyle = ':', label = 'Stratopause')\n",
    "plt.legend().get_frame().set_linewidth(4)\n",
    "plt.legend(fontsize=20).get_frame().set_edgecolor('k')\n",
    "plt.gca().invert_yaxis()\n",
    "plt.text(-29,-1,'a)',fontsize=27)\n",
    "\n",
    "plt.subplot(2,2,2)\n",
    "plt.title('MAM')\n",
    "plt.plot(RCP45_MAM_Sig,Pressure_L, color = 'b', label='RCP45')\n",
    "plt.plot(RCP45_MAM_DD_AA,Pressure_L, color = 'b',linestyle='--')\n",
    "plt.plot(fixODS2000_MAM_Sig,Pressure_L, color = 'r', label='fixODS2000')\n",
    "plt.plot(fixODS2000_MAM_DD_AA,Pressure_L, color = 'r',linestyle='--')\n",
    "plt.plot(wAVD_MAM_Sig,Pressure_L, color = 'g', label='wAVD')\n",
    "plt.plot(wAVD_MAM_DD_AA,Pressure_L, color = 'g',linestyle='--')\n",
    "plt.xlim(-30,30)\n",
    "#plt.xlabel('$\\Delta$ Temperature (K)')\n",
    "#plt.ylabel('Pressure (hPa)')\n",
    "plt.yticks(Pressure_L,Pressure_named)\n",
    "plt.axhline(2.47, color = 'k', linestyle = ':', label = 'Tropopause')\n",
    "plt.axhline(0, color = 'brown', linestyle = ':', label = 'Stratopause')\n",
    "#plt.legend()\n",
    "plt.gca().invert_yaxis()\n",
    "plt.text(-29,-1,'b)',fontsize=27)\n",
    "\n",
    "plt.subplot(2,2,3)\n",
    "plt.title('JJA')\n",
    "plt.plot(RCP45_JJA_Sig,Pressure_L, color = 'b', label='RCP45')\n",
    "plt.plot(RCP45_JJA_DD_AA,Pressure_L, color = 'b',linestyle='--')\n",
    "plt.plot(fixODS2000_JJA_Sig,Pressure_L, color = 'r', label='fixODS2000')\n",
    "plt.plot(fixODS2000_JJA_DD_AA,Pressure_L, color = 'r',linestyle='--')\n",
    "plt.plot(wAVD_JJA_Sig,Pressure_L, color = 'g', label='wAVD')\n",
    "plt.plot(wAVD_JJA_DD_AA,Pressure_L, color = 'g',linestyle='--')\n",
    "plt.xlim(-30,30)\n",
    "plt.xlabel('$\\Delta$ Temperature (K)')\n",
    "plt.ylabel('Pressure (hPa)')\n",
    "plt.yticks(Pressure_L,Pressure_named)\n",
    "plt.axhline(2.47, color = 'k', linestyle = ':', label = 'Tropopause')\n",
    "plt.axhline(0, color = 'brown', linestyle = ':', label = 'Stratopause')\n",
    "#plt.legend()\n",
    "plt.gca().invert_yaxis()\n",
    "plt.text(-29,-1,'c)',fontsize=27)\n",
    "\n",
    "plt.subplot(2,2,4)\n",
    "plt.title('SON')\n",
    "plt.plot(RCP45_SON_Sig,Pressure_L, color = 'b', label='RCP45')\n",
    "plt.plot(RCP45_SON_DD_AA,Pressure_L, color = 'b',linestyle='--')\n",
    "plt.plot(fixODS2000_SON_Sig,Pressure_L, color = 'r', label='fixODS2000')\n",
    "plt.plot(fixODS2000_SON_DD_AA,Pressure_L, color = 'r',linestyle='--')\n",
    "plt.plot(wAVD_SON_Sig,Pressure_L, color = 'g', label='wAVD')\n",
    "plt.plot(wAVD_SON_DD_AA,Pressure_L, color = 'g',linestyle='--')\n",
    "plt.xlim(-30,30)\n",
    "plt.xlabel('$\\Delta$ Temperature (K)')\n",
    "#plt.ylabel('Pressure (hPa)')\n",
    "plt.yticks(Pressure_L,Pressure_named)\n",
    "plt.axhline(2.47, color = 'k', linestyle = ':', label = 'Tropopause')\n",
    "plt.axhline(0, color = 'brown', linestyle = ':', label = 'Stratopause')\n",
    "#plt.legend()\n",
    "plt.gca().invert_yaxis()\n",
    "plt.text(-29,-1,'d)',fontsize=27)\n",
    "\n",
    "plt.savefig('Decadal Difference in Seasonal Temperature Profiles.png', bbox_inches='tight')"
   ]
  },
  {
   "cell_type": "markdown",
   "metadata": {},
   "source": [
    "## Maximum and Minimum Statistically significant differences for each temperature profile"
   ]
  },
  {
   "cell_type": "code",
   "execution_count": 42,
   "metadata": {},
   "outputs": [
    {
     "name": "stdout",
     "output_type": "stream",
     "text": [
      "The max difference in temperature for RCP45 in DJF is: 1.5109260538848142\n",
      "The max difference in temperature for fixODS2000 in DJF is: 1.0963889036837917\n",
      "The max difference in temperature for wAVD in DJF is: 2.3077448584562954\n",
      "The min difference in temperature for RCP45 in DJF is: -3.513251008613373\n",
      "The min difference in temperature for fixODS2000 in DJF is: -5.898567572596641\n",
      "The min difference in temperature for wAVD in DJF is: -13.313798651492114\n"
     ]
    }
   ],
   "source": [
    "print(\"The max difference in temperature for RCP45 in DJF is:\",np.amax(RCP45_DJF_Sig))\n",
    "print(\"The max difference in temperature for fixODS2000 in DJF is:\",np.amax(fixODS2000_DJF_Sig))\n",
    "print(\"The max difference in temperature for wAVD in DJF is:\",np.amax(wAVD_DJF_Sig))\n",
    "\n",
    "print(\"The min difference in temperature for RCP45 in DJF is:\",np.amin(RCP45_DJF_Sig))\n",
    "print(\"The min difference in temperature for fixODS2000 in DJF is:\",np.amin(fixODS2000_DJF_Sig))\n",
    "print(\"The min difference in temperature for wAVD in DJF is:\",np.amin(wAVD_DJF_Sig))"
   ]
  },
  {
   "cell_type": "code",
   "execution_count": 43,
   "metadata": {},
   "outputs": [
    {
     "name": "stdout",
     "output_type": "stream",
     "text": [
      "The max difference in temperature for RCP45 in MAM is: 1.0941459227936785\n",
      "The max difference in temperature for fixODS2000 in MAM is: 1.2565350247300595\n",
      "The max difference in temperature for wAVD in MAM is: 2.199101379695202\n",
      "The min difference in temperature for RCP45 in MAM is: -2.1818072176580814\n",
      "The min difference in temperature for fixODS2000 in MAM is: -3.649788828986017\n",
      "The min difference in temperature for wAVD in MAM is: -21.19991422330463\n"
     ]
    }
   ],
   "source": [
    "print(\"The max difference in temperature for RCP45 in MAM is:\",np.amax(RCP45_MAM_Sig))\n",
    "print(\"The max difference in temperature for fixODS2000 in MAM is:\",np.amax(fixODS2000_MAM_Sig))\n",
    "print(\"The max difference in temperature for wAVD in MAM is:\",np.amax(wAVD_MAM_Sig))\n",
    "\n",
    "print(\"The min difference in temperature for RCP45 in MAM is:\",np.amin(RCP45_MAM_Sig))\n",
    "print(\"The min difference in temperature for fixODS2000 in MAM is:\",np.amin(fixODS2000_MAM_Sig))\n",
    "print(\"The min difference in temperature for wAVD in MAM is:\",np.amin(wAVD_MAM_Sig))"
   ]
  },
  {
   "cell_type": "code",
   "execution_count": 44,
   "metadata": {},
   "outputs": [
    {
     "name": "stdout",
     "output_type": "stream",
     "text": [
      "The max difference in temperature for RCP45 in JJA is: 1.3959839188931642\n",
      "The max difference in temperature for fixODS2000 in JJA is: 1.593542363129691\n",
      "The max difference in temperature for wAVD in JJA is: 2.6479424771305338\n",
      "The min difference in temperature for RCP45 in JJA is: -3.0244994396930776\n",
      "The min difference in temperature for fixODS2000 in JJA is: -3.664301391146324\n",
      "The min difference in temperature for wAVD in JJA is: -26.52525386943904\n"
     ]
    }
   ],
   "source": [
    "print(\"The max difference in temperature for RCP45 in JJA is:\",np.amax(RCP45_JJA_Sig))\n",
    "print(\"The max difference in temperature for fixODS2000 in JJA is:\",np.amax(fixODS2000_JJA_Sig))\n",
    "print(\"The max difference in temperature for wAVD in JJA is:\",np.amax(wAVD_JJA_Sig))\n",
    "\n",
    "print(\"The min difference in temperature for RCP45 in JJA is:\",np.amin(RCP45_JJA_Sig))\n",
    "print(\"The min difference in temperature for fixODS2000 in JJA is:\",np.amin(fixODS2000_JJA_Sig))\n",
    "print(\"The min difference in temperature for wAVD in JJA is:\",np.amin(wAVD_JJA_Sig))"
   ]
  },
  {
   "cell_type": "code",
   "execution_count": 45,
   "metadata": {},
   "outputs": [
    {
     "name": "stdout",
     "output_type": "stream",
     "text": [
      "The max difference in temperature for RCP45 in SON is: 1.400025124552204\n",
      "The max difference in temperature for fixODS2000 in SON is: 1.5151526034769767\n",
      "The max difference in temperature for wAVD in SON is: 2.5649425832626562\n",
      "The min difference in temperature for RCP45 in SON is: -3.3238440112325005\n",
      "The min difference in temperature for fixODS2000 in SON is: -4.303743295883425\n",
      "The min difference in temperature for wAVD in SON is: -16.925410301771002\n"
     ]
    }
   ],
   "source": [
    "print(\"The max difference in temperature for RCP45 in SON is:\",np.amax(RCP45_SON_Sig))\n",
    "print(\"The max difference in temperature for fixODS2000 in SON is:\",np.amax(fixODS2000_SON_Sig))\n",
    "print(\"The max difference in temperature for wAVD in SON is:\",np.amax(wAVD_SON_Sig))\n",
    "\n",
    "print(\"The min difference in temperature for RCP45 in SON is:\",np.amin(RCP45_SON_Sig))\n",
    "print(\"The min difference in temperature for fixODS2000 in SON is:\",np.amin(fixODS2000_SON_Sig))\n",
    "print(\"The min difference in temperature for wAVD in SON is:\",np.amin(wAVD_SON_Sig))"
   ]
  },
  {
   "cell_type": "code",
   "execution_count": 46,
   "metadata": {},
   "outputs": [
    {
     "data": {
      "image/png": "[encoded data removed]",
      "text/plain": [
       "<matplotlib.figure.Figure at 0x16ebc2630>"
      ]
     },
     "metadata": {},
     "output_type": "display_data"
    }
   ],
   "source": [
    "plt.figure(figsize=(20,20))\n",
    "\n",
    "\n",
    "plt.subplot(2,2,1)\n",
    "plt.title('DJF')\n",
    "#plt.plot(RCP45_DJF_2D_AA,Pressure_L, color = 'b', label='RCP45')\n",
    "#plt.plot(RCP45_DJF_1D_AA,Pressure_L, color = 'b',linestyle='--')\n",
    "#plt.plot(fixODS2000_DJF_2D_AA,Pressure_L, color = 'r', label='fixODS2000')\n",
    "#plt.plot(fixODS2000_DJF_1D_AA,Pressure_L, color = 'r',linestyle='--')\n",
    "plt.plot(wAVD_DJF_2D_AA,Pressure_L, color = 'purple', label='2056-2065 Average')\n",
    "plt.plot(wAVD_DJF_1D_AA,Pressure_L, color = 'purple',linestyle='--', label='2006-2015 Average')\n",
    "plt.xlim(200,280)\n",
    "#plt.xlabel('Temperature (K)')\n",
    "plt.ylabel('Pressure (hPa)')\n",
    "plt.yticks(Pressure_L,Pressure_named)\n",
    "plt.axhline(2.47, color = 'k', linestyle = ':', label='Tropopause')\n",
    "plt.axhline(0, color = 'brown', linestyle = ':', label = 'Stratopause')\n",
    "plt.legend(fontsize=20)\n",
    "plt.gca().invert_yaxis()\n",
    "plt.text(201,-1,'a)',fontsize=27)\n",
    "\n",
    "plt.subplot(2,2,2)\n",
    "plt.title('MAM')\n",
    "#plt.plot(RCP45_MAM_2D_AA,Pressure_L, color = 'b', label='RCP45')\n",
    "#plt.plot(RCP45_MAM_1D_AA,Pressure_L, color = 'b',linestyle='--')\n",
    "#plt.plot(fixODS2000_MAM_2D_AA,Pressure_L, color = 'r', label='fixODS2000')\n",
    "#plt.plot(fixODS2000_MAM_1D_AA,Pressure_L, color = 'r',linestyle='--')\n",
    "plt.plot(wAVD_MAM_2D_AA,Pressure_L, color = 'purple', label='2056-2065 Average')\n",
    "plt.plot(wAVD_MAM_1D_AA,Pressure_L, color = 'purple',linestyle='--', label='2006-2015 Average')\n",
    "plt.xlim(200,280)\n",
    "#plt.xlabel('Temperature (K)')\n",
    "plt.ylabel('Pressure (hPa)')\n",
    "plt.yticks(Pressure_L,Pressure_named)\n",
    "plt.axhline(2.47, color = 'k', linestyle = ':', label = 'Tropopause')\n",
    "plt.axhline(0, color = 'brown', linestyle = ':', label = 'Stratopause')\n",
    "#plt.legend()\n",
    "plt.gca().invert_yaxis()\n",
    "plt.text(201,-1,'b)',fontsize=27)\n",
    "\n",
    "plt.subplot(2,2,3)\n",
    "plt.title('JJA')\n",
    "#plt.plot(RCP45_JJA_2D_AA,Pressure_L, color = 'b', label='RCP45')\n",
    "#plt.plot(RCP45_JJA_1D_AA,Pressure_L, color = 'b',linestyle='--')\n",
    "#plt.plot(fixODS2000_JJA_2D_AA,Pressure_L, color = 'r', label='fixODS2000')\n",
    "#plt.plot(fixODS2000_JJA_1D_AA,Pressure_L, color = 'r',linestyle='--')\n",
    "plt.plot(wAVD_JJA_2D_AA,Pressure_L, color = 'purple', label='2056-2065 Average')\n",
    "plt.plot(wAVD_JJA_1D_AA,Pressure_L, color = 'purple',linestyle='--', label='2006-2015 Average')\n",
    "plt.xlim(200,280)\n",
    "plt.xlabel('Temperature (K)')\n",
    "plt.ylabel('Pressure (hPa)')\n",
    "plt.yticks(Pressure_L,Pressure_named)\n",
    "plt.axhline(2.47, color = 'k', linestyle = ':', label = 'Tropopause')\n",
    "plt.axhline(0, color = 'brown', linestyle = ':', label = 'Stratopause')\n",
    "#plt.legend()\n",
    "plt.gca().invert_yaxis()\n",
    "plt.text(201,-1,'c)',fontsize=27)\n",
    "\n",
    "plt.subplot(2,2,4)\n",
    "plt.title('SON')\n",
    "#plt.plot(RCP45_SON_2D_AA,Pressure_L, color = 'b', label='RCP45')\n",
    "#plt.plot(RCP45_SON_1D_AA,Pressure_L, color = 'b',linestyle='--')\n",
    "#plt.plot(fixODS2000_SON_2D_AA,Pressure_L, color = 'r', label='fixODS2000')\n",
    "#plt.plot(fixODS2000_SON_1D_AA,Pressure_L, color = 'r',linestyle='--')\n",
    "plt.plot(wAVD_SON_2D_AA,Pressure_L, color = 'purple', label='2056-2065 Average')\n",
    "plt.plot(wAVD_SON_1D_AA,Pressure_L, color = 'purple',linestyle='--', label='2006-2015 Average')\n",
    "plt.xlim(200,280)\n",
    "plt.xlabel('Temperature (K)')\n",
    "plt.ylabel('Pressure (hPa)')\n",
    "plt.yticks(Pressure_L,Pressure_named)\n",
    "plt.axhline(2.47, color = 'k', linestyle = ':', label = 'Tropopause')\n",
    "plt.axhline(0, color = 'brown', linestyle = ':', label = 'Stratopause')\n",
    "#plt.legend()\n",
    "plt.gca().invert_yaxis()\n",
    "plt.text(201,-1,'d)',fontsize=27)\n",
    "\n",
    "plt.savefig('Side By Side Comparison of wAVD latter and former Decade Temp Profiles.png', bbox_inches='tight')"
   ]
  },
  {
   "cell_type": "code",
   "execution_count": null,
   "metadata": {},
   "outputs": [],
   "source": []
  }
 ],
 "metadata": {
  "kernelspec": {
   "display_name": "Python 3",
   "language": "python",
   "name": "python3"
  },
  "language_info": {
   "codemirror_mode": {
    "name": "ipython",
    "version": 3
   },
   "file_extension": ".py",
   "mimetype": "text/x-python",
   "name": "python",
   "nbconvert_exporter": "python",
   "pygments_lexer": "ipython3",
   "version": "3.6.4"
  }
 },
 "nbformat": 4,
 "nbformat_minor": 2
}
