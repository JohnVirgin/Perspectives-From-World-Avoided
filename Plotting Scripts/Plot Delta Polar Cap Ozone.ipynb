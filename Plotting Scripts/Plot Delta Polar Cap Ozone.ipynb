{
 "cells": [
  {
   "cell_type": "markdown",
   "metadata": {},
   "source": [
    "## Import Packages"
   ]
  },
  {
   "cell_type": "code",
   "execution_count": 36,
   "metadata": {},
   "outputs": [],
   "source": [
    "import numpy as np\n",
    "from matplotlib import pyplot as plt\n",
    "import matplotlib\n",
    "from matplotlib import cm\n",
    "import pandas as pd\n",
    "import matplotlib as mpl\n",
    "mpl.rcParams['text.usetex'] = True\n",
    "import scipy.stats as stats\n",
    "import os\n",
    "import ttest\n",
    "import Smooth_Data\n",
    "#import seaborn as sns\n",
    "#sns.set_context(\"talk\")\n",
    "import Area_Avg\n",
    "import cyclic_lon\n",
    "from netCDF4 import Dataset\n",
    "from netCDF4 import MFDataset\n",
    "from ncdump_python3 import ncdump\n",
    "from mpl_toolkits.basemap import Basemap\n",
    "%matplotlib inline\n",
    "mpl.rc('font',size=27) #set default font size and weight for plots"
   ]
  },
  {
   "cell_type": "code",
   "execution_count": 2,
   "metadata": {},
   "outputs": [],
   "source": [
    "Months = ['01','02','03','04','05','06','07','08','09','10','11','12']\n",
    "Sims = ['Sim1','Sim2','Sim3']"
   ]
  },
  {
   "cell_type": "code",
   "execution_count": 3,
   "metadata": {},
   "outputs": [],
   "source": [
    "Years = range(2005,2066)\n",
    "Years = list(map(str, Years))\n",
    "\n",
    "Years_fixODS = range(2001,2066)\n",
    "Years_fixODS = list(map(str, Years_fixODS))\n",
    "\n",
    "Years_wAVD = range(2005,2066)\n",
    "Years_wAVD = list(map(str, Years_wAVD))"
   ]
  },
  {
   "cell_type": "code",
   "execution_count": 4,
   "metadata": {},
   "outputs": [
    {
     "data": {
      "text/plain": [
       "['.DS_Store',\n",
       " 'Port',\n",
       " 'b.e10.BRCP45WCN.f19_g16.waLMP.001',\n",
       " 'b.e10.BRCP45WCN.f19_g16.waLMP.002',\n",
       " 'b.e10.BRCP45WCN.f19_g16.waLMP.003',\n",
       " 'b40.1955-2005.2deg.wcm.002',\n",
       " 'b40.rcp4_5.2deg.wcm.001',\n",
       " 'b40.rcp4_5.2deg.wcm.002',\n",
       " 'b40.rcp4_5.2deg.wcm.003',\n",
       " 'b40.rcp4_5.2deg.wcm.fixODS2000.001',\n",
       " 'b40.rcp4_5.2deg.wcm.fixODS2000.002',\n",
       " 'b40.rcp4_5.2deg.wcm.fixODS2000.003']"
      ]
     },
     "execution_count": 4,
     "metadata": {},
     "output_type": "execute_result"
    }
   ],
   "source": [
    "#establish initial root directory and modify it to be a list of strings,\n",
    "    #not integers\n",
    "\n",
    "rootdir = 'Data/'\n",
    "\n",
    "dirnames = os.listdir(rootdir)\n",
    "dirnames = list(map(str, dirnames))\n",
    "dirnames"
   ]
  },
  {
   "cell_type": "code",
   "execution_count": 5,
   "metadata": {},
   "outputs": [],
   "source": [
    "#establish full directories for each run\n",
    "\n",
    "#WACCM4 2Deg Warming RCP 45 Run1\n",
    "datadir_RCP45_Sim1 = rootdir + dirnames[6] +'/atm'+'/interp/'\n",
    "#WACCM4 2Deg Warming RCP 45 Run2\n",
    "datadir_RCP45_Sim2 = rootdir + dirnames[7] +'/atm'+'/interp/'   \n",
    "#WACCM4 2Deg Warming RCP 45 Run3\n",
    "datadir_RCP45_Sim3 = rootdir + dirnames[8] +'/atm'+'/interp/'\n",
    "#WACCM4 2Deg Warming fixODS RCP 45 Run1\n",
    "datadir_fixODS_Sim1 = rootdir + dirnames[9] +'/atm'+'/interp/'    \n",
    "#WACCM4 2Deg Warming fixODS RCP 45 Run2\n",
    "datadir_fixODS_Sim2 = rootdir + dirnames[10] +'/atm'+'/interp/'\n",
    "#WACCM4 2Deg Warming fixODS RCP 45 Run3\n",
    "datadir_fixODS_Sim3 = rootdir + dirnames[11] +'/atm'+'/interp/'\n",
    "#WACCM4 2Deg Warming waLMP RCP 45 Run1\n",
    "datadir_waAVD_Sim1 = rootdir + dirnames[2] +'/atm'+'/interp/'\n",
    "#WACCM4 2Deg Warming waLMP RCP 45 Run2\n",
    "datadir_waAVD_Sim2 = rootdir + dirnames[3] +'/atm'+'/interp/'\n",
    "#WACCM4 2Deg Warming waLMP RCP 45 Run3\n",
    "datadir_waAVD_Sim3 = rootdir + dirnames[4] +'/atm'+'/interp/'"
   ]
  },
  {
   "cell_type": "code",
   "execution_count": 6,
   "metadata": {},
   "outputs": [],
   "source": [
    "Datadir_RCP45 = [datadir_RCP45_Sim1,\\\n",
    "               datadir_RCP45_Sim2,\\\n",
    "               datadir_RCP45_Sim3]\n",
    "Datadir_fixODS2000 = [datadir_fixODS_Sim1,\\\n",
    "               datadir_fixODS_Sim2,\\\n",
    "               datadir_fixODS_Sim3]\n",
    "Datadir_wAVD = [datadir_waAVD_Sim1,\\\n",
    "               datadir_waAVD_Sim2,\\\n",
    "               datadir_waAVD_Sim3]"
   ]
  },
  {
   "cell_type": "code",
   "execution_count": 7,
   "metadata": {},
   "outputs": [
    {
     "data": {
      "text/plain": [
       "'Data/b40.rcp4_5.2deg.wcm.001/atm/interp/'"
      ]
     },
     "execution_count": 7,
     "metadata": {},
     "output_type": "execute_result"
    }
   ],
   "source": [
    "datadir_RCP45_Sim1"
   ]
  },
  {
   "cell_type": "code",
   "execution_count": 8,
   "metadata": {},
   "outputs": [
    {
     "name": "stdout",
     "output_type": "stream",
     "text": [
      "NetCDF Global Attributes:\n",
      "\thistory: 'Tue Feb 27 21:17:05 2018: ncks -O -d lat,60.,90. /glade/scratch/ksmith/b.e10.BRCP45WCN.f19_g16.waLMP.001/atm/interp/O3.2061.11.nc /glade/scratch/ksmith/b.e10.BRCP45WCN.f19_g16.waLMP.001/atm/interp/O3.2061.11.Arctic.nc'\n",
      "\tNCO: '4.6.9'\n",
      "NetCDF dimension information:\n",
      "\tName: time\n",
      "\t\tsize: 1\n",
      "\t\ttype: dtype('float64')\n",
      "\t\tbounds: 'time_bnds'\n",
      "\t\tcalendar: 'noleap'\n",
      "\t\tunits: 'days since 2005-01-01 00:00:00'\n",
      "\t\tlong_name: 'time'\n",
      "\tName: lev_p\n",
      "\t\tsize: 23\n",
      "\t\ttype: dtype('float32')\n",
      "\t\tlong_name: 'pressure'\n",
      "\t\tunits: 'hPa'\n",
      "\t\tpositive: 'down'\n",
      "\tName: lat\n",
      "\t\tsize: 16\n",
      "\t\ttype: dtype('float64')\n",
      "\t\tunits: 'degrees_north'\n",
      "\t\tlong_name: 'latitude'\n",
      "\tName: lon\n",
      "\t\tsize: 144\n",
      "\t\ttype: dtype('float64')\n",
      "\t\tunits: 'degrees_east'\n",
      "\t\tlong_name: 'longitude'\n",
      "NetCDF variable information:\n",
      "\tName: O3\n",
      "\t\tdimensions: ('time', 'lev_p', 'lat', 'lon')\n",
      "\t\tsize: 52992\n",
      "\t\ttype: dtype('float32')\n",
      "\t\t_FillValue: 9.96921e+36\n"
     ]
    }
   ],
   "source": [
    "Sample_file = Datadir_wAVD[0] + 'O3.2061.11.Arctic.nc'\n",
    "Sample_file = Dataset(Sample_file)\n",
    "Lat = np.squeeze(Sample_file.variables['lat'])\n",
    "Lon = np.squeeze(Sample_file.variables['lon'])\n",
    "Pressure = np.squeeze(Sample_file.variables['lev_p'])\n",
    "Pressure_L = np.log10(Pressure)\n",
    "ncdump(Sample_file)\n",
    "Sample_file.close()"
   ]
  },
  {
   "cell_type": "code",
   "execution_count": 9,
   "metadata": {},
   "outputs": [
    {
     "data": {
      "text/plain": [
       "(23,)"
      ]
     },
     "execution_count": 9,
     "metadata": {},
     "output_type": "execute_result"
    }
   ],
   "source": [
    "Pressure.shape"
   ]
  },
  {
   "cell_type": "code",
   "execution_count": 10,
   "metadata": {},
   "outputs": [
    {
     "data": {
      "text/plain": [
       "array([-1.        , -0.30103   ,  0.        ,  0.30103   ,  0.47712126,\n",
       "        0.69897   ,  1.        ,  1.30103   ,  1.4771212 ,  1.69897   ,\n",
       "        1.845098  ,  2.        ,  2.1760912 ,  2.30103   ,  2.39794   ,\n",
       "        2.4771214 ,  2.60206   ,  2.69897   ,  2.7781513 ,  2.845098  ,\n",
       "        2.929419  ,  2.9661417 ,  3.        ], dtype=float32)"
      ]
     },
     "execution_count": 10,
     "metadata": {},
     "output_type": "execute_result"
    }
   ],
   "source": [
    "Pressure_L"
   ]
  },
  {
   "cell_type": "code",
   "execution_count": 11,
   "metadata": {},
   "outputs": [],
   "source": [
    "#Read in all WACCM Temperature Data\n",
    "\n",
    "RCP45 = dict()\n",
    "for s in range(len(Sims)):\n",
    "    RCP45[Sims[s]] = dict()\n",
    "    for m in range(len(Months)):\n",
    "        RCP45[Sims[s]][Months[m]] = dict()\n",
    "        for y in range(len(Years)):\n",
    "            try:\n",
    "                files_RCP45 = Datadir_RCP45[s]+'O3.'+Years[y]+\\\n",
    "                '.'+Months[m]+'.Arctic.nc'\n",
    "                RCP45_nc = Dataset(files_RCP45)\n",
    "                RCP45[Sims[s]][Months[m]][Years[y]] = \\\n",
    "                np.squeeze(RCP45_nc.variables['O3'])\n",
    "                RCP45_nc.close()\n",
    "            except:\n",
    "                pass\n",
    "\n",
    "fixODS2000 = dict()\n",
    "for s in range(len(Sims)):\n",
    "    fixODS2000[Sims[s]] = dict()\n",
    "    for m in range(len(Months)):\n",
    "        fixODS2000[Sims[s]][Months[m]] = dict()\n",
    "        for y in range(len(Years_fixODS)):\n",
    "            try:\n",
    "                files_fixODS2000 = Datadir_fixODS2000[s]+'O3.'+Years_fixODS[y]+\\\n",
    "                '.'+Months[m]+'.Arctic.nc'\n",
    "                fixODS2000_nc = Dataset(files_fixODS2000)\n",
    "                fixODS2000[Sims[s]][Months[m]][Years_fixODS[y]] = \\\n",
    "                np.squeeze(fixODS2000_nc.variables['O3'])\n",
    "                fixODS2000_nc.close()\n",
    "            except:\n",
    "                pass\n",
    "                \n",
    "wAVD = dict()\n",
    "for s in range(len(Sims)):\n",
    "    wAVD[Sims[s]] = dict()\n",
    "    for m in range(len(Months)):\n",
    "        wAVD[Sims[s]][Months[m]] = dict()\n",
    "        for y in range(len(Years_wAVD)):\n",
    "            try:\n",
    "                files_wAVD = Datadir_wAVD[s]+'O3.'+Years_wAVD[y]+\\\n",
    "                '.'+Months[m]+'.Arctic.nc'\n",
    "                wAVD_nc = Dataset(files_wAVD)\n",
    "                wAVD[Sims[s]][Months[m]][Years_wAVD[y]] = \\\n",
    "                np.squeeze(wAVD_nc.variables['O3'])\n",
    "                wAVD_nc.close()\n",
    "            except:\n",
    "                pass"
   ]
  },
  {
   "cell_type": "code",
   "execution_count": 12,
   "metadata": {},
   "outputs": [
    {
     "data": {
      "text/plain": [
       "array([1.00e-01, 5.00e-01, 1.00e+00, 2.00e+00, 3.00e+00, 5.00e+00,\n",
       "       1.00e+01, 2.00e+01, 3.00e+01, 5.00e+01, 7.00e+01, 1.00e+02,\n",
       "       1.50e+02, 2.00e+02, 2.50e+02, 3.00e+02, 4.00e+02, 5.00e+02,\n",
       "       6.00e+02, 7.00e+02, 8.50e+02, 9.25e+02, 1.00e+03], dtype=float32)"
      ]
     },
     "execution_count": 12,
     "metadata": {},
     "output_type": "execute_result"
    }
   ],
   "source": [
    "Pressure"
   ]
  },
  {
   "cell_type": "code",
   "execution_count": 40,
   "metadata": {},
   "outputs": [
    {
     "data": {
      "text/plain": [
       "23"
      ]
     },
     "execution_count": 40,
     "metadata": {},
     "output_type": "execute_result"
    }
   ],
   "source": [
    "Pressure_named = ['$0.1$','$0.5$','','$2$','','$5$','$10$','','$30$','','$70$','','$150$',\\\n",
    "                  '','','$300$','$400$','','','$700$','','','$1000$']\n",
    "len(Pressure_named)"
   ]
  },
  {
   "cell_type": "code",
   "execution_count": 14,
   "metadata": {},
   "outputs": [],
   "source": [
    "#we need to fix the fill \n",
    "    #value issue before we can do anything else to the data\n",
    "\n",
    "for s in range(len(Sims)):\n",
    "    for m in range(len(Months)):\n",
    "        for y in range(len(Years)):\n",
    "            try:\n",
    "                RCP45[Sims[s]][Months[m]][Years[y]]\\\n",
    "                [RCP45[Sims[s]][Months[m]][Years[y]] == 9.96921e+36] = float('nan')\n",
    "            except:\n",
    "                pass\n",
    "\n",
    "for s in range(len(Sims)):\n",
    "    for m in range(len(Months)):\n",
    "        for y in range(len(Years_fixODS)):\n",
    "            try:\n",
    "                fixODS2000[Sims[s]][Months[m]][Years_fixODS[y]]\\\n",
    "                [fixODS2000[Sims[s]][Months[m]][Years_fixODS[y]] == 9.96921e+36] = float('nan')\n",
    "            except:\n",
    "                pass\n",
    "            \n",
    "for s in range(len(Sims)):\n",
    "    for m in range(len(Months)):\n",
    "        for y in range(len(Years_wAVD)):\n",
    "            try:\n",
    "                wAVD[Sims[s]][Months[m]][Years_wAVD[y]]\\\n",
    "                [wAVD[Sims[s]][Months[m]][Years_wAVD[y]] == 9.96921e+36] = float('nan')\n",
    "            except:\n",
    "                pass"
   ]
  },
  {
   "cell_type": "code",
   "execution_count": 15,
   "metadata": {},
   "outputs": [
    {
     "data": {
      "text/plain": [
       "array([1.1516751e-06, 1.8579909e-06, 3.3262047e-06, 5.0355652e-06,\n",
       "       5.4023089e-06, 5.2602627e-06, 4.7514859e-06, 4.4342382e-06,\n",
       "       4.2414508e-06, 3.1385932e-06, 2.1205685e-06, 1.2228023e-06,\n",
       "       6.0832548e-07, 2.8482089e-07, 1.4059619e-07, 8.6526796e-08,\n",
       "       5.8829119e-08, 5.2373263e-08, 4.9938752e-08, 4.7943203e-08,\n",
       "       4.5884413e-08, 4.4591648e-08,           nan], dtype=float32)"
      ]
     },
     "execution_count": 15,
     "metadata": {},
     "output_type": "execute_result"
    }
   ],
   "source": [
    "RCP45['Sim1']['01']['2005'][:,0,0]"
   ]
  },
  {
   "cell_type": "code",
   "execution_count": 16,
   "metadata": {},
   "outputs": [
    {
     "name": "stderr",
     "output_type": "stream",
     "text": [
      "/Users/johnvirgin/anaconda3/lib/python3.6/site-packages/ipykernel_launcher.py:3: DeprecationWarning: \n",
      "Panel is deprecated and will be removed in a future version.\n",
      "The recommended way to represent these types of 3-dimensional data are with a MultiIndex on a DataFrame, via the Panel.to_frame() method\n",
      "Alternatively, you can use the xarray package http://xarray.pydata.org/en/stable/.\n",
      "Pandas provides a `.to_xarray()` method to help automate this conversion.\n",
      "\n",
      "  This is separate from the ipykernel package so we can avoid doing imports until\n",
      "/Users/johnvirgin/anaconda3/lib/python3.6/site-packages/ipykernel_launcher.py:4: DeprecationWarning: \n",
      "Panel is deprecated and will be removed in a future version.\n",
      "The recommended way to represent these types of 3-dimensional data are with a MultiIndex on a DataFrame, via the Panel.to_frame() method\n",
      "Alternatively, you can use the xarray package http://xarray.pydata.org/en/stable/.\n",
      "Pandas provides a `.to_xarray()` method to help automate this conversion.\n",
      "\n",
      "  after removing the cwd from sys.path.\n",
      "/Users/johnvirgin/anaconda3/lib/python3.6/site-packages/ipykernel_launcher.py:5: DeprecationWarning: \n",
      "Panel is deprecated and will be removed in a future version.\n",
      "The recommended way to represent these types of 3-dimensional data are with a MultiIndex on a DataFrame, via the Panel.to_frame() method\n",
      "Alternatively, you can use the xarray package http://xarray.pydata.org/en/stable/.\n",
      "Pandas provides a `.to_xarray()` method to help automate this conversion.\n",
      "\n",
      "  \"\"\"\n"
     ]
    }
   ],
   "source": [
    "#Turn dictionaries into Panels for grouping purposes\n",
    "\n",
    "RCP45_Panel = pd.Panel.from_dict(RCP45, orient = 'items')\n",
    "fixODS2000_Panel = pd.Panel.from_dict(fixODS2000, orient = 'items')\n",
    "wAVD_Panel = pd.Panel.from_dict(wAVD, orient = 'items')"
   ]
  },
  {
   "cell_type": "code",
   "execution_count": 17,
   "metadata": {},
   "outputs": [
    {
     "data": {
      "text/plain": [
       "(12, 23)"
      ]
     },
     "execution_count": 17,
     "metadata": {},
     "output_type": "execute_result"
    }
   ],
   "source": [
    "RCP45_1DA_Average = RCP45_Panel.loc['Sim1':'Sim3','2006':'2015','01':'12']\n",
    "RCP45_1DA_Average = np.asarray(RCP45_1DA_Average)\n",
    "RCP45_1DA_Average = np.mean(RCP45_1DA_Average, axis=(0,1))\n",
    "RCP45_1DA_Average = np.stack(RCP45_1DA_Average[:],axis=0)\n",
    "RCP45_1DA_Average = Area_Avg.LatLonavg_Time_Pressure(RCP45_1DA_Average,Lat,Lon)\n",
    "\n",
    "RCP45_2DA_Average = RCP45_Panel.loc['Sim1':'Sim3','2056':'2065','01':'12']\n",
    "RCP45_2DA_Average = np.asarray(RCP45_2DA_Average)\n",
    "RCP45_2DA_Average = np.mean(RCP45_2DA_Average, axis=(0,1))\n",
    "RCP45_2DA_Average = np.stack(RCP45_2DA_Average[:],axis=0)\n",
    "RCP45_2DA_Average = Area_Avg.LatLonavg_Time_Pressure(RCP45_2DA_Average,Lat,Lon)\n",
    "\n",
    "RCP45_2DA_Average.shape"
   ]
  },
  {
   "cell_type": "code",
   "execution_count": 18,
   "metadata": {},
   "outputs": [
    {
     "data": {
      "text/plain": [
       "(12, 23)"
      ]
     },
     "execution_count": 18,
     "metadata": {},
     "output_type": "execute_result"
    }
   ],
   "source": [
    "fixODS2000_1DA_Average = fixODS2000_Panel.loc['Sim1':'Sim3','2006':'2015','01':'12']\n",
    "fixODS2000_1DA_Average = np.asarray(fixODS2000_1DA_Average)\n",
    "fixODS2000_1DA_Average = np.mean(fixODS2000_1DA_Average, axis=(0,1))\n",
    "fixODS2000_1DA_Average = np.stack(fixODS2000_1DA_Average[:],axis=0)\n",
    "fixODS2000_1DA_Average = Area_Avg.LatLonavg_Time_Pressure(fixODS2000_1DA_Average,Lat,Lon)\n",
    "\n",
    "fixODS2000_2DA_Average = fixODS2000_Panel.loc['Sim1':'Sim3','2056':'2065','01':'12']\n",
    "fixODS2000_2DA_Average = np.asarray(fixODS2000_2DA_Average)\n",
    "fixODS2000_2DA_Average = np.mean(fixODS2000_2DA_Average, axis=(0,1))\n",
    "fixODS2000_2DA_Average = np.stack(fixODS2000_2DA_Average[:],axis=0)\n",
    "fixODS2000_2DA_Average = Area_Avg.LatLonavg_Time_Pressure(fixODS2000_2DA_Average,Lat,Lon)\n",
    "\n",
    "fixODS2000_2DA_Average.shape"
   ]
  },
  {
   "cell_type": "code",
   "execution_count": 19,
   "metadata": {},
   "outputs": [
    {
     "data": {
      "text/plain": [
       "(12, 23)"
      ]
     },
     "execution_count": 19,
     "metadata": {},
     "output_type": "execute_result"
    }
   ],
   "source": [
    "wAVD_1DA_Average = wAVD_Panel.loc['Sim1':'Sim3','2006':'2015','01':'12']\n",
    "wAVD_1DA_Average = np.asarray(wAVD_1DA_Average)\n",
    "wAVD_1DA_Average = np.mean(wAVD_1DA_Average, axis=(0,1))\n",
    "wAVD_1DA_Average = np.stack(wAVD_1DA_Average[:],axis=0)\n",
    "wAVD_1DA_Average = Area_Avg.LatLonavg_Time_Pressure(wAVD_1DA_Average,Lat,Lon)\n",
    "\n",
    "wAVD_2DA_Average = wAVD_Panel.loc['Sim1':'Sim3','2056':'2065','01':'12']\n",
    "wAVD_2DA_Average = np.asarray(wAVD_2DA_Average)\n",
    "wAVD_2DA_Average = np.mean(wAVD_2DA_Average, axis=(0,1))\n",
    "wAVD_2DA_Average = np.stack(wAVD_2DA_Average[:],axis=0)\n",
    "wAVD_2DA_Average = Area_Avg.LatLonavg_Time_Pressure(wAVD_2DA_Average,Lat,Lon)\n",
    "\n",
    "wAVD_2DA_Average.shape"
   ]
  },
  {
   "cell_type": "code",
   "execution_count": 20,
   "metadata": {},
   "outputs": [],
   "source": [
    "#cut off pressure values close to the surface, so we're only looking \n",
    "    #at the stratosphere\n",
    "\n",
    "RCP45_1DA_Average = RCP45_1DA_Average[:,:16]\n",
    "RCP45_2DA_Average = RCP45_2DA_Average[:,:16]\n",
    "\n",
    "fixODS2000_1DA_Average = fixODS2000_1DA_Average[:,:16]\n",
    "fixODS2000_2DA_Average = fixODS2000_2DA_Average[:,:16]\n",
    "\n",
    "wAVD_1DA_Average = wAVD_1DA_Average[:,:16]\n",
    "wAVD_2DA_Average = wAVD_2DA_Average[:,:16]"
   ]
  },
  {
   "cell_type": "code",
   "execution_count": 21,
   "metadata": {},
   "outputs": [
    {
     "data": {
      "text/plain": [
       "(16, 12)"
      ]
     },
     "execution_count": 21,
     "metadata": {},
     "output_type": "execute_result"
    }
   ],
   "source": [
    "RCP45_1DA_Average = np.swapaxes(RCP45_1DA_Average,0,1)\n",
    "RCP45_2DA_Average = np.swapaxes(RCP45_2DA_Average,0,1)\n",
    "\n",
    "fixODS2000_1DA_Average = np.swapaxes(fixODS2000_1DA_Average,0,1)\n",
    "fixODS2000_2DA_Average = np.swapaxes(fixODS2000_2DA_Average,0,1)\n",
    "\n",
    "wAVD_1DA_Average = np.swapaxes(wAVD_1DA_Average,0,1)\n",
    "wAVD_2DA_Average = np.swapaxes(wAVD_2DA_Average,0,1)\n",
    "\n",
    "wAVD_2DA_Average.shape"
   ]
  },
  {
   "cell_type": "code",
   "execution_count": 22,
   "metadata": {},
   "outputs": [
    {
     "name": "stdout",
     "output_type": "stream",
     "text": [
      "4.148579185690572e-06\n",
      "4.710858821286941e-08\n",
      "5.9330358604546075e-06\n",
      "8.76824676446724e-08\n"
     ]
    }
   ],
   "source": [
    "print(np.amax(wAVD_2DA_Average))\n",
    "print(np.amin(wAVD_2DA_Average))\n",
    "\n",
    "print(np.amax(wAVD_1DA_Average))\n",
    "print(np.amin(wAVD_1DA_Average))"
   ]
  },
  {
   "cell_type": "code",
   "execution_count": 23,
   "metadata": {},
   "outputs": [
    {
     "name": "stdout",
     "output_type": "stream",
     "text": [
      "7.065015120791718e-06\n",
      "8.449528763526705e-08\n",
      "6.448571957143092e-06\n",
      "8.908840376371207e-08\n"
     ]
    }
   ],
   "source": [
    "print(np.amax(RCP45_2DA_Average))\n",
    "print(np.amin(RCP45_2DA_Average))\n",
    "\n",
    "print(np.amax(RCP45_1DA_Average))\n",
    "print(np.amin(RCP45_1DA_Average))"
   ]
  },
  {
   "cell_type": "code",
   "execution_count": 24,
   "metadata": {},
   "outputs": [
    {
     "name": "stdout",
     "output_type": "stream",
     "text": [
      "6.659768009081083e-06\n",
      "8.301570668341792e-08\n",
      "6.43370750716229e-06\n",
      "9.022799668767285e-08\n"
     ]
    }
   ],
   "source": [
    "print(np.amax(fixODS2000_2DA_Average))\n",
    "print(np.amin(fixODS2000_2DA_Average))\n",
    "\n",
    "print(np.amax(fixODS2000_1DA_Average))\n",
    "print(np.amin(fixODS2000_1DA_Average))"
   ]
  },
  {
   "cell_type": "code",
   "execution_count": 25,
   "metadata": {},
   "outputs": [],
   "source": [
    "RCP45_1DA_Average_ppm = RCP45_1DA_Average*1000000\n",
    "RCP45_2DA_Average_ppm = RCP45_2DA_Average*1000000\n",
    "\n",
    "fixODS2000_1DA_Average_ppm = fixODS2000_1DA_Average*1000000\n",
    "fixODS2000_2DA_Average_ppm = fixODS2000_2DA_Average*1000000\n",
    "\n",
    "wAVD_1DA_Average_ppm = wAVD_1DA_Average*1000000\n",
    "wAVD_2DA_Average_ppm = wAVD_2DA_Average*1000000"
   ]
  },
  {
   "cell_type": "code",
   "execution_count": 26,
   "metadata": {},
   "outputs": [],
   "source": [
    "wAVD_DDA_Average_ppm = wAVD_2DA_Average_ppm-wAVD_1DA_Average_ppm \n",
    "fixODS2000_DDA_Average_ppm = fixODS2000_2DA_Average_ppm-fixODS2000_1DA_Average_ppm \n",
    "RCP45_DDA_Average_ppm = RCP45_2DA_Average_ppm-RCP45_1DA_Average_ppm "
   ]
  },
  {
   "cell_type": "code",
   "execution_count": 27,
   "metadata": {},
   "outputs": [
    {
     "name": "stdout",
     "output_type": "stream",
     "text": [
      "0.031279521683655054\n",
      "-3.2932879750090196\n",
      "\n",
      "\n",
      "1.1537750350400238\n",
      "-0.021543736952958525\n",
      "\n",
      "\n",
      "0.5356007735876185\n",
      "-0.03195561943944014\n"
     ]
    }
   ],
   "source": [
    "print(np.amax(wAVD_DDA_Average_ppm))\n",
    "print(np.amin(wAVD_DDA_Average_ppm))\n",
    "print('\\n')\n",
    "print(np.amax(RCP45_DDA_Average_ppm))\n",
    "print(np.amin(RCP45_DDA_Average_ppm))\n",
    "print('\\n')\n",
    "print(np.amax(fixODS2000_DDA_Average_ppm))\n",
    "print(np.amin(fixODS2000_DDA_Average_ppm))"
   ]
  },
  {
   "cell_type": "code",
   "execution_count": 42,
   "metadata": {},
   "outputs": [],
   "source": [
    "Pressure_L_Strato = Pressure_L[:16]\n",
    "Pressure_named_Strato = Pressure_named[:16]\n",
    "Months_For_X_Axis = range(0,12)\n",
    "Labels_Months = ['$J$','$F$','$M$','$A$','$M$','$J$','$J$','$A$','$S$','$O$','$N$','$D$']"
   ]
  },
  {
   "cell_type": "markdown",
   "metadata": {},
   "source": [
    "fig = plt.figure(figsize=(20,20))\n",
    "plt.suptitle('Polar Cap Ozone as a Function of Pressure and Month')\n",
    "plt.subplot(3,2,1)\n",
    "CS1 = plt.contourf(Months_For_X_Axis,Pressure_L_Strato,RCP45_1DA_Average_ppm,16,extend='both')\n",
    "plt.clim(4.7e-02,7.1)\n",
    "plt.ylabel('Pressure (hPa)')\n",
    "#plt.xlabel('Month')\n",
    "plt.title('2006-2015 (RCP45)')\n",
    "plt.yticks(Pressure_L_Strato,Pressure_named_Strato)\n",
    "plt.xticks(Months_For_X_Axis,Labels_Months)\n",
    "plt.gca().invert_yaxis();\n",
    "\n",
    "plt.subplot(3,2,2)\n",
    "CS2 = plt.contourf(Months_For_X_Axis,Pressure_L_Strato,RCP45_2DA_Average_ppm,16,extend='both')\n",
    "plt.clim(4.7e-02,7.1)\n",
    "plt.ylabel('Pressure (hPa)')\n",
    "#plt.xlabel('Month')\n",
    "plt.title('2056-2065 (RCP45)')\n",
    "plt.yticks(Pressure_L_Strato,Pressure_named_Strato)\n",
    "plt.xticks(Months_For_X_Axis,Labels_Months)\n",
    "plt.gca().invert_yaxis();\n",
    "\n",
    "plt.subplot(3,2,3)\n",
    "CS3 = plt.contourf(Months_For_X_Axis,Pressure_L_Strato,fixODS2000_1DA_Average_ppm,16,extend='both')\n",
    "plt.clim(4.7e-02,7.1)\n",
    "plt.ylabel('Pressure (hPa)')\n",
    "#plt.xlabel('Month')\n",
    "plt.title('2006-2015 (fixODS2000)')\n",
    "plt.yticks(Pressure_L_Strato,Pressure_named_Strato)\n",
    "plt.xticks(Months_For_X_Axis,Labels_Months)\n",
    "plt.gca().invert_yaxis();\n",
    "\n",
    "plt.subplot(3,2,4)\n",
    "CS4 = plt.contourf(Months_For_X_Axis,Pressure_L_Strato,fixODS2000_2DA_Average_ppm,16,extend='both')\n",
    "plt.clim(4.7e-02,7.1)\n",
    "plt.ylabel('Pressure (hPa)')\n",
    "#plt.xlabel('Month')\n",
    "plt.title('2056-2065 (fixODS2000)')\n",
    "plt.yticks(Pressure_L_Strato,Pressure_named_Strato)\n",
    "plt.xticks(Months_For_X_Axis,Labels_Months)\n",
    "plt.gca().invert_yaxis();\n",
    "\n",
    "plt.subplot(3,2,5)\n",
    "CS5 = plt.contourf(Months_For_X_Axis,Pressure_L_Strato,wAVD_1DA_Average_ppm,16,extend='both')\n",
    "plt.clim(4.7e-02,7.1)\n",
    "plt.ylabel('Pressure (hPa)')\n",
    "plt.xlabel('Month')\n",
    "plt.title('2006-2015 (wAVD)')\n",
    "plt.yticks(Pressure_L_Strato,Pressure_named_Strato)\n",
    "plt.xticks(Months_For_X_Axis,Labels_Months)\n",
    "plt.gca().invert_yaxis();\n",
    "\n",
    "plt.subplot(3,2,6)\n",
    "CS6 = plt.contourf(Months_For_X_Axis,Pressure_L_Strato,wAVD_2DA_Average_ppm,16,extend='both')\n",
    "plt.clim(4.7e-02,7.1)\n",
    "plt.ylabel('Pressure (hPa)')\n",
    "plt.xlabel('Month')\n",
    "plt.title('2056-2065 (wAVD)')\n",
    "plt.yticks(Pressure_L_Strato,Pressure_named_Strato)\n",
    "plt.xticks(Months_For_X_Axis,Labels_Months)\n",
    "plt.gca().invert_yaxis();\n",
    "\n",
    "\n",
    "cbar_ax2 = fig.add_axes([0.92, 0.28, 0.02, 0.465])\n",
    "cbar = fig.colorbar(CS2,cbar_ax2,format='%.2f')\n",
    "cbar.set_label('ppm', fontsize=22, labelpad=12)\n",
    "cbar.ax.tick_params(labelsize=22)\n",
    "tick_locator = matplotlib.ticker.MaxNLocator(nbins=16)\n",
    "cbar.locator = tick_locator\n",
    "cbar.update_ticks()\n",
    "\n",
    "#plt.savefig('Polar Cap Ozone as a Function of Pressure and Month.png',bbox_inches='tight')"
   ]
  },
  {
   "cell_type": "markdown",
   "metadata": {},
   "source": [
    "Significance testing"
   ]
  },
  {
   "cell_type": "code",
   "execution_count": 29,
   "metadata": {},
   "outputs": [],
   "source": [
    "RCP45_1DA_SigTest = RCP45_Panel.loc['Sim1':'Sim3','2006':'2015','01':'12']\n",
    "RCP45_1DA_SigTest = np.asarray(RCP45_1DA_SigTest)\n",
    "RCP45_1DA_SigTest = np.mean(RCP45_1DA_SigTest, axis=(1))\n",
    "RCP45_1DA_SigTest_01 = np.stack(RCP45_1DA_SigTest[0,:],axis=0)\n",
    "RCP45_1DA_SigTest_02 = np.stack(RCP45_1DA_SigTest[1,:],axis=0)\n",
    "RCP45_1DA_SigTest_03 = np.stack(RCP45_1DA_SigTest[2,:],axis=0)\n",
    "RCP45_1DA_SigTest_stacked = np.stack((RCP45_1DA_SigTest_01,\\\n",
    "                                    RCP45_1DA_SigTest_02,\\\n",
    "                                    RCP45_1DA_SigTest_03),axis=0)\n",
    "\n",
    "RCP45_1DA_SigTest_ZM = np.zeros([3,12,23])\n",
    "for i in range(3):\n",
    "    RCP45_1DA_SigTest_ZM[i,:,:] = Area_Avg.LatLonavg_Time_Pressure(\\\n",
    "                               RCP45_1DA_SigTest_stacked[i,:,:,:,:],Lat,Lon)\n",
    "\n",
    "RCP45_2DA_SigTest = RCP45_Panel.loc['Sim1':'Sim3','2056':'2065','01':'12']\n",
    "RCP45_2DA_SigTest = np.asarray(RCP45_2DA_SigTest)\n",
    "RCP45_2DA_SigTest = np.mean(RCP45_2DA_SigTest, axis=(1))\n",
    "RCP45_2DA_SigTest_01 = np.stack(RCP45_2DA_SigTest[0,:],axis=0)\n",
    "RCP45_2DA_SigTest_02 = np.stack(RCP45_2DA_SigTest[1,:],axis=0)\n",
    "RCP45_2DA_SigTest_03 = np.stack(RCP45_2DA_SigTest[2,:],axis=0)\n",
    "RCP45_2DA_SigTest_stacked = np.stack((RCP45_2DA_SigTest_01,\\\n",
    "                                    RCP45_2DA_SigTest_02,\\\n",
    "                                    RCP45_2DA_SigTest_03),axis=0)\n",
    "\n",
    "RCP45_2DA_SigTest_ZM = np.zeros([3,12,23])\n",
    "for i in range(3):\n",
    "    RCP45_2DA_SigTest_ZM[i,:,:] = Area_Avg.LatLonavg_Time_Pressure(\\\n",
    "                               RCP45_2DA_SigTest_stacked[i,:,:,:,:],Lat,Lon)\n",
    "\n",
    "RCP45_1DA_SigTest_ZM_strato = RCP45_1DA_SigTest_ZM[:,:,:16]\n",
    "RCP45_2DA_SigTest_ZM_strato = RCP45_2DA_SigTest_ZM[:,:,:16]"
   ]
  },
  {
   "cell_type": "code",
   "execution_count": 30,
   "metadata": {},
   "outputs": [],
   "source": [
    "fixODS2000_1DA_SigTest = fixODS2000_Panel.loc['Sim1':'Sim3','2006':'2015','01':'12']\n",
    "fixODS2000_1DA_SigTest = np.asarray(fixODS2000_1DA_SigTest)\n",
    "fixODS2000_1DA_SigTest = np.mean(fixODS2000_1DA_SigTest, axis=(1))\n",
    "fixODS2000_1DA_SigTest_01 = np.stack(fixODS2000_1DA_SigTest[0,:],axis=0)\n",
    "fixODS2000_1DA_SigTest_02 = np.stack(fixODS2000_1DA_SigTest[1,:],axis=0)\n",
    "fixODS2000_1DA_SigTest_03 = np.stack(fixODS2000_1DA_SigTest[2,:],axis=0)\n",
    "fixODS2000_1DA_SigTest_stacked = np.stack((fixODS2000_1DA_SigTest_01,\\\n",
    "                                    fixODS2000_1DA_SigTest_02,\\\n",
    "                                    fixODS2000_1DA_SigTest_03),axis=0)\n",
    "\n",
    "fixODS2000_1DA_SigTest_ZM = np.zeros([3,12,23])\n",
    "for i in range(3):\n",
    "    fixODS2000_1DA_SigTest_ZM[i,:,:] = Area_Avg.LatLonavg_Time_Pressure(\\\n",
    "                               fixODS2000_1DA_SigTest_stacked[i,:,:,:,:],Lat,Lon)\n",
    "\n",
    "fixODS2000_2DA_SigTest = fixODS2000_Panel.loc['Sim1':'Sim3','2056':'2065','01':'12']\n",
    "fixODS2000_2DA_SigTest = np.asarray(fixODS2000_2DA_SigTest)\n",
    "fixODS2000_2DA_SigTest = np.mean(fixODS2000_2DA_SigTest, axis=(1))\n",
    "fixODS2000_2DA_SigTest_01 = np.stack(fixODS2000_2DA_SigTest[0,:],axis=0)\n",
    "fixODS2000_2DA_SigTest_02 = np.stack(fixODS2000_2DA_SigTest[1,:],axis=0)\n",
    "fixODS2000_2DA_SigTest_03 = np.stack(fixODS2000_2DA_SigTest[2,:],axis=0)\n",
    "fixODS2000_2DA_SigTest_stacked = np.stack((fixODS2000_2DA_SigTest_01,\\\n",
    "                                    fixODS2000_2DA_SigTest_02,\\\n",
    "                                    fixODS2000_2DA_SigTest_03),axis=0)\n",
    "\n",
    "fixODS2000_2DA_SigTest_ZM = np.zeros([3,12,23])\n",
    "for i in range(3):\n",
    "    fixODS2000_2DA_SigTest_ZM[i,:,:] = Area_Avg.LatLonavg_Time_Pressure(\\\n",
    "                               fixODS2000_2DA_SigTest_stacked[i,:,:,:,:],Lat,Lon)\n",
    "\n",
    "fixODS2000_1DA_SigTest_ZM_strato = fixODS2000_1DA_SigTest_ZM[:,:,:16]\n",
    "fixODS2000_2DA_SigTest_ZM_strato = fixODS2000_2DA_SigTest_ZM[:,:,:16]"
   ]
  },
  {
   "cell_type": "code",
   "execution_count": 31,
   "metadata": {},
   "outputs": [],
   "source": [
    "wAVD_1DA_SigTest = wAVD_Panel.loc['Sim1':'Sim3','2006':'2015','01':'12']\n",
    "wAVD_1DA_SigTest = np.asarray(wAVD_1DA_SigTest)\n",
    "wAVD_1DA_SigTest = np.mean(wAVD_1DA_SigTest, axis=(1))\n",
    "wAVD_1DA_SigTest_01 = np.stack(wAVD_1DA_SigTest[0,:],axis=0)\n",
    "wAVD_1DA_SigTest_02 = np.stack(wAVD_1DA_SigTest[1,:],axis=0)\n",
    "wAVD_1DA_SigTest_03 = np.stack(wAVD_1DA_SigTest[2,:],axis=0)\n",
    "wAVD_1DA_SigTest_stacked = np.stack((wAVD_1DA_SigTest_01,\\\n",
    "                                    wAVD_1DA_SigTest_02,\\\n",
    "                                    wAVD_1DA_SigTest_03),axis=0)\n",
    "\n",
    "wAVD_1DA_SigTest_ZM = np.zeros([3,12,23])\n",
    "for i in range(3):\n",
    "    wAVD_1DA_SigTest_ZM[i,:,:] = Area_Avg.LatLonavg_Time_Pressure(\\\n",
    "                               wAVD_1DA_SigTest_stacked[i,:,:,:,:],Lat,Lon)\n",
    "\n",
    "wAVD_2DA_SigTest = wAVD_Panel.loc['Sim1':'Sim3','2056':'2065','01':'12']\n",
    "wAVD_2DA_SigTest = np.asarray(wAVD_2DA_SigTest)\n",
    "wAVD_2DA_SigTest = np.mean(wAVD_2DA_SigTest, axis=(1))\n",
    "wAVD_2DA_SigTest_01 = np.stack(wAVD_2DA_SigTest[0,:],axis=0)\n",
    "wAVD_2DA_SigTest_02 = np.stack(wAVD_2DA_SigTest[1,:],axis=0)\n",
    "wAVD_2DA_SigTest_03 = np.stack(wAVD_2DA_SigTest[2,:],axis=0)\n",
    "wAVD_2DA_SigTest_stacked = np.stack((wAVD_2DA_SigTest_01,\\\n",
    "                                    wAVD_2DA_SigTest_02,\\\n",
    "                                    wAVD_2DA_SigTest_03),axis=0)\n",
    "\n",
    "wAVD_2DA_SigTest_ZM = np.zeros([3,12,23])\n",
    "for i in range(3):\n",
    "    wAVD_2DA_SigTest_ZM[i,:,:] = Area_Avg.LatLonavg_Time_Pressure(\\\n",
    "                               wAVD_2DA_SigTest_stacked[i,:,:,:,:],Lat,Lon)\n",
    "\n",
    "wAVD_1DA_SigTest_ZM_strato = wAVD_1DA_SigTest_ZM[:,:,:16]\n",
    "wAVD_2DA_SigTest_ZM_strato = wAVD_2DA_SigTest_ZM[:,:,:16]"
   ]
  },
  {
   "cell_type": "code",
   "execution_count": 32,
   "metadata": {},
   "outputs": [],
   "source": [
    "RCP45_pval = ttest.ttest_2sample(RCP45_1DA_SigTest_ZM_strato,\\\n",
    "                                 RCP45_2DA_SigTest_ZM_strato,0)\n",
    "RCP45_pval = np.swapaxes(RCP45_pval,0,1)\n",
    "\n",
    "fixODS2000_pval = ttest.ttest_2sample(fixODS2000_1DA_SigTest_ZM_strato,\\\n",
    "                                      fixODS2000_2DA_SigTest_ZM_strato,0)\n",
    "fixODS2000_pval = np.swapaxes(fixODS2000_pval,0,1)\n",
    "\n",
    "wAVD_pval = ttest.ttest_2sample(wAVD_1DA_SigTest_ZM_strato,\\\n",
    "                                wAVD_2DA_SigTest_ZM_strato,0)\n",
    "wAVD_pval = np.swapaxes(wAVD_pval,0,1)"
   ]
  },
  {
   "cell_type": "code",
   "execution_count": 44,
   "metadata": {},
   "outputs": [
    {
     "data": {
      "image/png": "[encoded data removed]",
      "text/plain": [
       "<matplotlib.figure.Figure at 0x176183b70>"
      ]
     },
     "metadata": {},
     "output_type": "display_data"
    }
   ],
   "source": [
    "fig = plt.figure(figsize=(16,12))\n",
    "plt.subplot(2,1,1)\n",
    "plt.contourf(Months_For_X_Axis,Pressure_L_Strato,RCP45_DDA_Average_ppm,16,cmap='RdBu_r',\\\n",
    "             vmin = -3.5, vmax = 3.5)\n",
    "plt.contourf(Months_For_X_Axis,Pressure_L_Strato,\\\n",
    "                      RCP45_pval,16,colors = 'none', hatches=['//'],\\\n",
    "             vmin = -3.5, vmax = 3.5)\n",
    "#plt.ylabel('Pressure (hPa)')\n",
    "#plt.xlabel('Month')\n",
    "plt.title('$RCP45$')\n",
    "plt.yticks(Pressure_L_Strato,Pressure_named_Strato)\n",
    "plt.xticks(Months_For_X_Axis,Labels_Months)\n",
    "plt.gca().invert_yaxis();\n",
    "\n",
    "plt.subplot(2,1,2)\n",
    "plt.contourf(Months_For_X_Axis,Pressure_L_Strato,wAVD_DDA_Average_ppm,16,cmap='RdBu_r',\\\n",
    "             vmin = -3.5, vmax = 3.5)\n",
    "plt.contourf(Months_For_X_Axis,Pressure_L_Strato,\\\n",
    "                      wAVD_pval,16,colors = 'none', hatches=['//'],\\\n",
    "             vmin = -3.5, vmax = 3.5)\n",
    "plt.clim(-3.5,3.5)\n",
    "#plt.ylabel('Pressure (hPa)')\n",
    "plt.xlabel('$Month$')\n",
    "plt.title('$WAVD$')\n",
    "plt.yticks(Pressure_L_Strato,Pressure_named_Strato)\n",
    "plt.xticks(Months_For_X_Axis,Labels_Months)\n",
    "plt.gca().invert_yaxis();\n",
    "\n",
    "cbar_ax2 = fig.add_axes([0.92, 0.28, 0.02, 0.465])\n",
    "sm = plt.cm.ScalarMappable(norm=plt.Normalize(vmin=-3.5, vmax=3.5),cmap='RdBu_r')\n",
    "sm.set_array([])\n",
    "cbar = fig.colorbar(sm,cbar_ax2,format='$%.2f$')\n",
    "cbar.set_label('$\\Delta ppm$', fontsize=27, labelpad=12)\n",
    "cbar.ax.tick_params(labelsize=27)\n",
    "tick_locator = matplotlib.ticker.MaxNLocator(nbins=12)\n",
    "cbar.locator = tick_locator\n",
    "cbar.update_ticks()\n",
    "\n",
    "plt.subplots_adjust(hspace=0.3)\n",
    "#plt.savefig('Polar Cap Ozone Differences as a Function of Pressure and Month.png',bbox_inches='tight')"
   ]
  },
  {
   "cell_type": "code",
   "execution_count": null,
   "metadata": {},
   "outputs": [],
   "source": []
  }
 ],
 "metadata": {
  "kernelspec": {
   "display_name": "Python 3",
   "language": "python",
   "name": "python3"
  },
  "language_info": {
   "codemirror_mode": {
    "name": "ipython",
    "version": 3
   },
   "file_extension": ".py",
   "mimetype": "text/x-python",
   "name": "python",
   "nbconvert_exporter": "python",
   "pygments_lexer": "ipython3",
   "version": "3.6.4"
  }
 },
 "nbformat": 4,
 "nbformat_minor": 2
}
